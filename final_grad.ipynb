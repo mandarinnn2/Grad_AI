{
 "cells": [
  {
   "cell_type": "markdown",
   "metadata": {
    "id": "d375a955-0669-4323-912a-9a511df4290f"
   },
   "source": [
    "# 머신러닝 돌리기 (기본)\n",
    "### history-stations\n",
    "- 새로운 변수 추가, 튜닝 등 진행하지 않음"
   ]
  },
  {
   "cell_type": "code",
   "execution_count": null,
   "metadata": {
    "id": "B13NnVmFQl8o"
   },
   "outputs": [],
   "source": [
    "!pip install pymongo"
   ]
  },
  {
   "cell_type": "markdown",
   "metadata": {
    "id": "TO3exh77t3vo"
   },
   "source": [
    "#### 라이브러리 준비"
   ]
  },
  {
   "cell_type": "code",
   "execution_count": null,
   "metadata": {
    "id": "ab8fc94d-d480-44d1-a34e-c407dc92af4a"
   },
   "outputs": [],
   "source": [
    "from sklearn.model_selection import train_test_split, GridSearchCV\n",
    "from sklearn.ensemble import RandomForestRegressor\n",
    "from sklearn.linear_model import LinearRegression\n",
    "from lightgbm import LGBMRegressor\n",
    "from sklearn.metrics import r2_score\n",
    "import xgboost as xgb\n",
    "\n",
    "import matplotlib.pyplot as plt\n",
    "import seaborn as sns\n",
    "import pandas as pd\n",
    "import numpy as np\n",
    "\n",
    "from prophet import Prophet\n",
    "import holidays\n",
    "\n",
    "from datetime import datetime, timedelta\n",
    "now = datetime.now()\n",
    "\n",
    "import tensorflow as tf\n",
    "from sklearn.model_selection import TimeSeriesSplit\n",
    "from sklearn.metrics import mean_squared_error, r2_score\n",
    "from tensorflow.keras.models import Sequential\n",
    "from tensorflow.keras.layers import LSTM, Dense, Dropout\n",
    "from tensorflow.keras.optimizers import Adam"
   ]
  },
  {
   "cell_type": "markdown",
   "metadata": {
    "id": "cNPDRsKQt8xJ"
   },
   "source": [
    "#### 방문자수 데이터 데이터 프레임 변환"
   ]
  },
  {
   "cell_type": "code",
   "execution_count": null,
   "metadata": {
    "id": "93f9d138-4e6f-48a9-9883-52cb7f7dad47"
   },
   "outputs": [],
   "source": [
    "from pymongo import MongoClient\n",
    "\n",
    "# 데이터가 저장된 MongoDB의 주소\n",
    "client = MongoClient('주소 입력')\n",
    "\n",
    "# db를 저장하기\n",
    "db = client.crawling\n",
    "\n",
    "collection = db['collection 입력']\n",
    "\n",
    "# collection에 저장된 데이터를 데이터프레임으로 변환 및 저장\n",
    "rows = collection.find()\n",
    "history_stations = []\n",
    "for row in rows:\n",
    "    history_stations.append(row)\n",
    "\n",
    "history_stations = pd.DataFrame(history_stations)"
   ]
  },
  {
   "cell_type": "markdown",
   "metadata": {
    "id": "DFesEBBk-mqH"
   },
   "source": [
    "#### 머신러닝 성능 테스트 ⭐\n",
    "(초기 0.65)\n",
    "- 평가 기준 r2(결정계수)\n",
    "-  1. RandomForestRegressor 👍👍\n",
    "-  결과: 0.7486\n",
    "-  2. LinearRegression\n",
    "-  결과: 0.2363\n",
    "-  3. LGBMRegressor\n",
    "-  결과: 0.7023\n",
    "-  4. xgboost\n",
    "-  결과: 0.6801"
   ]
  },
  {
   "cell_type": "markdown",
   "metadata": {
    "id": "734bxHC3AtLK"
   },
   "source": [
    "#### 모든 충전소 정보를 하나로 합치기 => df_all"
   ]
  },
  {
   "cell_type": "code",
   "execution_count": null,
   "metadata": {
    "id": "H9uRWEubBf32"
   },
   "outputs": [],
   "source": [
    "# history_stations의 각 항목을 리스트로 저장\n",
    "dfs = []\n",
    "\n",
    "# 첫 번째 항목 처리\n",
    "for i in range(len(history_stations)):\n",
    "    df_temp = pd.DataFrame(history_stations['history'][i])  # history 항목을 DataFrame으로 변환\n",
    "    df_temp['_id'] = history_stations['_id'][i]  # _id 값을 추가\n",
    "    dfs.append(df_temp)  # 각 DataFrame을 리스트에 저장\n",
    "\n",
    "# 모든 DataFrame을 한 번에 concat\n",
    "df_all = pd.concat(dfs, ignore_index=True)\n",
    "\n",
    "# 결과 확인\n",
    "df_all.tail()"
   ]
  },
  {
   "cell_type": "markdown",
   "metadata": {
    "id": "nYhYiSPlDywX"
   },
   "source": [
    "#### 임의의 날짜 변수 추가"
   ]
  },
  {
   "cell_type": "code",
   "execution_count": null,
   "metadata": {
    "id": "V_9hVDJSD_Nx"
   },
   "outputs": [],
   "source": [
    "# 변수 생성 (주말, 월, 일, 시간, 분) #########################\n",
    "df_all['weekday'] = df_all['time'].dt.weekday\n",
    "df_all['month'] = df_all['time'].dt.month\n",
    "df_all['day'] = df_all['time'].dt.day\n",
    "df_all['hour'] = df_all['time'].dt.hour\n",
    "df_all['minute'] = df_all['time'].dt.minute\n",
    "\n",
    "# 변수 생성 (공휴일)\n",
    "kr_holidays = holidays.KR()\n",
    "df_all['holiday'] = df_all.time.apply(lambda x: 1 if x in kr_holidays else 0)\n",
    "\n",
    "# ml 실행을 위해 날짜를 index로 설정하기\n",
    "df_all.set_index(keys='time', inplace=True)"
   ]
  },
  {
   "cell_type": "code",
   "execution_count": null,
   "metadata": {
    "id": "geadbbpgEIn5"
   },
   "outputs": [],
   "source": [
    "len(df_all['_id'].value_counts())"
   ]
  },
  {
   "cell_type": "markdown",
   "metadata": {
    "id": "H3VAJxGcEMe7"
   },
   "source": [
    "#### 충전소 _id 값을 인코딩하기\n",
    "- id 값이 고유한 카테고리인데, Label Encoding은 숫자 순서가 크기를 암묵적으로 부여하기 때문에 모델이 그 사이의 숫자 차이를 학습할 수 있다.\n",
    "- 예를 들어, id 0과 id 1이 다를 뿐인데, 모델은 이 차이를 수치적으로 다르게 취급할 수 있다.\n",
    "- id 값을 0, 1, 2...와 같은 연속적인 정수로 변환하면, 모델이 이 값들 간의 순서 관계나 크기 차이를 학습할 수 있게 되는데, 이는 실제로 의미가 없을 수 있다.\n",
    "- One Hot Encoding은 충전소의 수가 2471 + α이기 때문에 변수가 너무 많이 생겨 사용할 수 없다.\n",
    "- 그러므고 가장 유용하다고 판단되는 target_encoding을 활용한다."
   ]
  },
  {
   "cell_type": "markdown",
   "metadata": {
    "id": "DPO_Bnv_HJ6P"
   },
   "source": [
    "#### target encoding 적용"
   ]
  },
  {
   "cell_type": "code",
   "execution_count": null,
   "metadata": {
    "id": "UPq8zBoNF8Gd"
   },
   "outputs": [],
   "source": [
    "# 1. 각 '_id'에 대해 target 값(visitNum)의 평균을 구하기\n",
    "target_means = df_all.groupby('_id')['visitNum'].mean()\n",
    "\n",
    "# 2. '_id' 컬럼을 해당 평균 값으로 대체하기\n",
    "df_all['id_encoded'] = df_all['_id'].map(target_means)\n",
    "\n",
    "# _id 컬럼 삭제하기\n",
    "df_all = df_all.drop('_id', axis=1)"
   ]
  },
  {
   "cell_type": "code",
   "execution_count": null,
   "metadata": {
    "id": "ip6ZuwLsGUBQ"
   },
   "outputs": [],
   "source": [
    "# count 변수 저장하기\n",
    "count = df_all.iloc[0, 0]\n",
    "\n",
    "# target(예측할 열) 설정하기\n",
    "target = 'visitNum'\n",
    "\n",
    "# x, y 값 설정하기\n",
    "x = df_all.drop(target, axis=1)\n",
    "y = df_all[target]\n",
    "\n",
    "\n",
    "# 데이터가 10개 이상일 경우, 기존처럼 훈련/테스트 분할\n",
    "x_train, x_test, y_train, y_test = train_test_split(x, y, train_size=0.7, random_state=0)\n",
    "\n",
    "model = RandomForestRegressor(random_state=0, n_jobs=-1)\n",
    "\n",
    "model.fit(x_train, y_train) # 모델 학습\n",
    "\n",
    "y_pred = model.predict(x_test) # 모델 예측\n",
    "y_pred = np.round(y_pred)\n",
    "\n",
    "print(r2_score(y_test, y_pred))  # 모델 정확도 출력\n",
    "acc = model.score(x_test, y_test)\n",
    "\n",
    "# 시각화를 위함 - df 형식으로 변환\n",
    "y_pred = pd.DataFrame(y_pred)\n",
    "y_test = pd.DataFrame(y_test)\n",
    "\n",
    "# 하나의 df로 합치기\n",
    "y_test.reset_index(inplace=True)\n",
    "df = pd.concat([y_test, y_pred], axis=1)\n",
    "df.columns = ['time', 'y_test', 'y_pred']"
   ]
  },
  {
   "cell_type": "code",
   "execution_count": null,
   "metadata": {
    "id": "0fnwpxFYLzKS"
   },
   "outputs": [],
   "source": [
    "# 'y_test'와 'y_pred' 열을 비교하여 정확도 평가\n",
    "\n",
    "# R² (R-squared) 평가\n",
    "r2 = r2_score(df['y_test'], df['y_pred'])\n",
    "print(f\"R-squared: {r2:.4f}\")\n",
    "\n",
    "# MSE (Mean Squared Error) 평가\n",
    "mse = mean_squared_error(df['y_test'], df['y_pred'])\n",
    "print(f\"Mean Squared Error: {mse:.4f}\")\n",
    "\n",
    "# RMSE (Root Mean Squared Error) 평가\n",
    "rmse = mse ** 0.5\n",
    "print(f\"Root Mean Squared Error: {rmse:.4f}\")"
   ]
  },
  {
   "cell_type": "code",
   "execution_count": null,
   "metadata": {
    "id": "_XmHcamectWR"
   },
   "outputs": [],
   "source": [
    "# 시각화\n",
    "plt.figure(figsize=(8,6))\n",
    "sns.lineplot(x='time' , y='y_test', data=df)\n",
    "sns.lineplot(x='time' , y='y_pred', data=df)\n",
    "plt.xticks(rotation=50)\n",
    "plt.show()"
   ]
  },
  {
   "cell_type": "code",
   "execution_count": null,
   "metadata": {
    "id": "6mgQOf9ngaTB"
   },
   "outputs": [],
   "source": [
    "# 일정 간격으로 데이터 샘플링 (예: 2471개마다 하나씩 선택)\n",
    "df_resampled = df.iloc[::2471, :]\n",
    "\n",
    "plt.figure(figsize=(8,6))\n",
    "sns.lineplot(x='time', y='y_test', data=df_resampled, label='Actual')\n",
    "sns.lineplot(x='time', y='y_pred', data=df_resampled, label='Predicted')\n",
    "plt.xticks(rotation=50)\n",
    "plt.show()"
   ]
  },
  {
   "cell_type": "markdown",
   "metadata": {
    "id": "Nq7-iYUvShXC"
   },
   "source": [
    "#### 실제 데이터로 예측 후 MongoDB에 반영하기 🌟"
   ]
  },
  {
   "cell_type": "code",
   "execution_count": null,
   "metadata": {
    "id": "gZAzLUpoSnQr"
   },
   "outputs": [],
   "source": [
    "def run_ml(i):\n",
    "    # 시간 단위별 예측 df 생성\n",
    "    pre_df = pd.date_range(now.date()+ timedelta(days=1) , periods=24 , freq=\"30min\") # 30분 단위로 예측 df 만들기\n",
    "\n",
    "    pre_df = pd.DataFrame(pre_df) # 데이터 프레임 형태로 변환\n",
    "    pre_df.columns=['time'] # 열 이름 변경\n",
    "\n",
    "    id = history_stations['_id'][i]\n",
    "\n",
    "    pre_df['count'] = count\n",
    "\n",
    "    # 변수 추가하기\n",
    "    pre_df['time'] = pd.to_datetime(pre_df['time'])\n",
    "    pre_df['weekday'] = pre_df['time'].dt.weekday\n",
    "    pre_df['month'] = pre_df['time'].dt.month\n",
    "    pre_df['day'] = pre_df['time'].dt.day\n",
    "    pre_df['hour'] = pre_df['time'].dt.hour\n",
    "    pre_df['minute'] = pre_df['time'].dt.minute\n",
    "\n",
    "    kr_holidays = holidays.KR()\n",
    "    pre_df['holiday'] = pre_df.time.apply(lambda x: 1 if x in kr_holidays else 0)\n",
    "\n",
    "    pre_df.set_index(keys='time', inplace=True)\n",
    "\n",
    "    #### target encoding을 사용하려고 하는데 각각 target을 i값 별로 다르기 때문에\n",
    "    pre_df['id_encoded'] = target_means.iloc[i]\n",
    "\n",
    "\n",
    "    pre_predict = model.predict(pre_df)\n",
    "    pre_predict= np.round(pre_predict)\n",
    "\n",
    "    pre_predict = pre_predict.tolist()\n",
    "    collection = db['demand-info']\n",
    "\n",
    "    statId = history_stations['_id'][i]\n",
    "    # 해당 statId를 가진 문서 조회\n",
    "\n",
    "    # print(id, statId)\n",
    "    # print(pre_predict)\n",
    "    existing_doc = collection.find_one({\"statId\": statId })\n",
    "\n",
    "    # 문서가 존재하지 않으면 새로운 문서를 추가하고 업데이트\n",
    "    if existing_doc is None:\n",
    "        new_doc = { \"statId\": statId, \"demandInfo\": { \"viewNum\": 0, \"departsIn30m\": [], \"hourlyVisitNum\": [] } }\n",
    "        result = collection.insert_one(new_doc)\n",
    "        print(\"Added new document\")\n",
    "        #time.sleep(0.1)\n",
    "\n",
    "    x = collection.update_one(\n",
    "        {\"statId\":statId},\n",
    "        {\"$set\" : {\n",
    "            'demandInfo.hourlyVisitNum' : pre_predict\n",
    "        }\n",
    "        })"
   ]
  },
  {
   "cell_type": "code",
   "execution_count": null,
   "metadata": {
    "id": "f7X_Wq3-Wx_J"
   },
   "outputs": [],
   "source": [
    "for i in range(len(history_stations)):\n",
    "    run_ml(i)"
   ]
  },
  {
   "cell_type": "markdown",
   "metadata": {
    "id": "QFXAXMFqLgpZ"
   },
   "source": [
    "#### 하나의 데이터프레임으로 합친 뒤 성능\n",
    "- RandomForestRegressor : 0.9388\n",
    "- GridSearchCV 교차 검증을 통해 최적의 하이퍼파라미터 출력한 RandomForestRegressor: (미적용)"
   ]
  },
  {
   "cell_type": "markdown",
   "metadata": {
    "id": "DwpmVXEnKZVX"
   },
   "source": [
    "#### 계획: k-means로 유사한 특징을 가진 충전소들별로 모델 따로 학습 및 적용하기"
   ]
  }
 ],
 "metadata": {
  "colab": {
   "provenance": [],
   "toc_visible": true
  },
  "kernelspec": {
   "display_name": "Python 3",
   "name": "python3"
  },
  "language_info": {
   "name": "python"
  }
 },
 "nbformat": 4,
 "nbformat_minor": 0
}
