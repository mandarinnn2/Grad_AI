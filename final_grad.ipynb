{
  "nbformat": 4,
  "nbformat_minor": 0,
  "metadata": {
    "colab": {
      "provenance": [],
      "toc_visible": true
    },
    "kernelspec": {
      "name": "python3",
      "display_name": "Python 3"
    },
    "language_info": {
      "name": "python"
    }
  },
  "cells": [
    {
      "cell_type": "markdown",
      "metadata": {
        "id": "d375a955-0669-4323-912a-9a511df4290f"
      },
      "source": [
        "# 머신러닝 돌리기 (기본)\n",
        "### history-stations\n",
        "- 새로운 변수 추가, 튜닝 등 진행하지 않음"
      ]
    },
    {
      "cell_type": "code",
      "source": [
        "!pip install pymongo"
      ],
      "metadata": {
        "id": "B13NnVmFQl8o"
      },
      "execution_count": null,
      "outputs": []
    },
    {
      "cell_type": "markdown",
      "source": [
        "#### 라이브러리 준비"
      ],
      "metadata": {
        "id": "TO3exh77t3vo"
      }
    },
    {
      "cell_type": "code",
      "execution_count": null,
      "metadata": {
        "id": "ab8fc94d-d480-44d1-a34e-c407dc92af4a"
      },
      "outputs": [],
      "source": [
        "from sklearn.model_selection import train_test_split\n",
        "from sklearn.ensemble import RandomForestRegressor\n",
        "from sklearn.linear_model import LinearRegression\n",
        "from lightgbm import LGBMRegressor\n",
        "from sklearn.metrics import r2_score\n",
        "import xgboost as xgb\n",
        "\n",
        "import matplotlib.pyplot as plt\n",
        "import seaborn as sns\n",
        "import pandas as pd\n",
        "import numpy as np\n",
        "\n",
        "from prophet import Prophet\n",
        "import holidays\n",
        "\n",
        "from datetime import datetime, timedelta\n",
        "now = datetime.now()"
      ]
    },
    {
      "cell_type": "markdown",
      "source": [
        "#### 방문자수 데이터 데이터 프레임 변환"
      ],
      "metadata": {
        "id": "cNPDRsKQt8xJ"
      }
    },
    {
      "cell_type": "code",
      "execution_count": null,
      "metadata": {
        "id": "93f9d138-4e6f-48a9-9883-52cb7f7dad47"
      },
      "outputs": [],
      "source": [
        "from pymongo import MongoClient\n",
        "\n",
        "client = MongoClient('주소 작성')\n",
        "\n",
        "db = client.crawling\n",
        "\n",
        "collection = db['주소 작성']\n",
        "\n",
        "rows = collection.find()\n",
        "history_stations = []\n",
        "for row in rows:\n",
        "    history_stations.append(row)\n",
        "\n",
        "history_stations = pd.DataFrame(history_stations)"
      ]
    },
    {
      "cell_type": "markdown",
      "source": [
        "#### 머신러닝 코드 RandomForestRegressor"
      ],
      "metadata": {
        "id": "yr40leIKuBSk"
      }
    },
    {
      "cell_type": "code",
      "execution_count": null,
      "metadata": {
        "id": "dd481307-2c2b-4e04-b773-f6befc67e004"
      },
      "outputs": [],
      "source": [
        "def run_ml(i):\n",
        "    df_h = pd.DataFrame(history_stations['history'][i]) # history_chargers의 i번째 history 가져오기\n",
        "\n",
        "    # 변수 생성 (주말, 월, 일, 시간, 분) #########################\n",
        "    df_h['weekday'] = df_h['time'].dt.weekday\n",
        "    df_h['month'] = df_h['time'].dt.month\n",
        "    df_h['day'] = df_h['time'].dt.day\n",
        "    df_h['hour'] = df_h['time'].dt.hour\n",
        "    df_h['minute'] = df_h['time'].dt.minute\n",
        "\n",
        "    # 변수 생성 (공휴일)\n",
        "    kr_holidays = holidays.KR()\n",
        "    df_h['holiday'] = df_h.time.apply(lambda x: 1 if x in kr_holidays else 0)\n",
        "\n",
        "    # ml 실행을 위해 날짜를 index로 설정하기\n",
        "    df_h.set_index(keys='time', inplace=True)\n",
        "\n",
        "    # count 변수 저장하기\n",
        "    count = df_h.iloc[0, 0]\n",
        "\n",
        "    # target(예측할 열) 설정하기\n",
        "    target = 'visitNum'\n",
        "\n",
        "    # x, y 값 설정하기\n",
        "    x = df_h.drop(target, axis=1)\n",
        "    y = df_h[target]\n",
        "\n",
        "    # 데이터 샘플 수 확인 (10개 이하인 경우 예측 생략)\n",
        "    if len(df_h) <= 10:\n",
        "        return 0\n",
        "    else:\n",
        "        # 데이터가 10개 이상일 경우, 기존처럼 훈련/테스트 분할\n",
        "        x_train, x_test, y_train, y_test = train_test_split(x, y, train_size=0.7, random_state=0)\n",
        "\n",
        "\n",
        "    model = RandomForestRegressor(random_state=0)\n",
        "\n",
        "    model.fit(x_train, y_train) # 모델 학습\n",
        "\n",
        "    y_pred = model.predict(x_test) # 모델 예측\n",
        "    y_pred = np.round(y_pred)\n",
        "\n",
        "    print(history_stations['_id'][i], end=' ')\n",
        "    print(r2_score(y_test, y_pred))  # 모델 정확도 출력\n",
        "    acc = model.score(x_test, y_test)\n",
        "\n",
        "    # 시각화를 위함 - df 형식으로 변환\n",
        "    y_pred = pd.DataFrame(y_pred)\n",
        "    y_test = pd.DataFrame(y_test)\n",
        "\n",
        "    # 하나의 df로 합치기\n",
        "    y_test.reset_index(inplace=True)\n",
        "    df = pd.concat([y_test, y_pred], axis=1)\n",
        "    df.columns = ['time', 'y_test', 'y_pred']\n",
        "\n",
        "    # # 시각화\n",
        "    # plt.figure(figsize=(8,6))\n",
        "    # sns.lineplot(x='time' , y='y_test', data=df)\n",
        "    # sns.lineplot(x='time' , y='y_pred', data=df)\n",
        "    # plt.xticks(rotation=50)\n",
        "    # plt.show()\n",
        "\n",
        "    # 시간 단위별 예측 df 생성\n",
        "    pre_df = pd.date_range(now.date()+ timedelta(days=1) , periods=24 , freq=\"30min\") # 30분 단위로 예측 df 만들기\n",
        "\n",
        "    pre_df = pd.DataFrame(pre_df) # 데이터 프레임 형태로 변환\n",
        "    pre_df.columns=['time'] # 열 이름 변경\n",
        "\n",
        "    pre_df['count'] = count\n",
        "\n",
        "    # 변수 추가하기\n",
        "    pre_df['time'] = pd.to_datetime(pre_df['time'])\n",
        "    pre_df['weekday'] = pre_df['time'].dt.weekday\n",
        "    pre_df['month'] = pre_df['time'].dt.month\n",
        "    pre_df['day'] = pre_df['time'].dt.day\n",
        "    pre_df['hour'] = pre_df['time'].dt.hour\n",
        "    pre_df['minute'] = pre_df['time'].dt.minute\n",
        "\n",
        "    kr_holidays = holidays.KR()\n",
        "    pre_df['holiday'] = pre_df.time.apply(lambda x: 1 if x in kr_holidays else 0)\n",
        "\n",
        "    pre_df.set_index(keys='time', inplace=True)\n",
        "\n",
        "    # print(pre_df)\n",
        "    pre_predict = model.predict(pre_df)\n",
        "    pre_predict= np.round(pre_predict)\n",
        "    # print(pre_predict)\n",
        "\n",
        "    pre_predict = pre_predict.tolist()\n",
        "    collection = db['demand-info']\n",
        "\n",
        "    statId = history_stations['_id'][i]\n",
        "    # 해당 statId를 가진 문서 조회\n",
        "    existing_doc = collection.find_one({\"statId\": statId })\n",
        "\n",
        "    # 문서가 존재하지 않으면 새로운 문서를 추가하고 업데이트\n",
        "    if existing_doc is None:\n",
        "        new_doc = { \"statId\": statId, \"demandInfo\": { \"viewNum\": 0, \"departsIn30m\": [], \"hourlyVisitNum\": [] } }\n",
        "        result = collection.insert_one(new_doc)\n",
        "        print(\"Added new document\")\n",
        "        #time.sleep(0.1)\n",
        "\n",
        "    x = collection.update_one(\n",
        "        {\"statId\":statId},\n",
        "        {\"$set\" : {\n",
        "            'demandInfo.hourlyVisitNum' : pre_predict\n",
        "        }\n",
        "        })\n",
        "\n",
        "    return acc"
      ]
    },
    {
      "cell_type": "markdown",
      "metadata": {
        "id": "5ad2d5b8-9f5e-4832-a9f1-a80bf790a098"
      },
      "source": [
        "- 5/23에 새로 생겨난 충전소에 대해서 데이터가 없어서 모델을 돌릴 수 없음 => 시간 경과 자동 해결"
      ]
    },
    {
      "cell_type": "markdown",
      "metadata": {
        "id": "3a988697-21ce-4246-af83-97e9ea6b4e60"
      },
      "source": [
        "- blue = test, orange = predict"
      ]
    },
    {
      "cell_type": "code",
      "execution_count": null,
      "metadata": {
        "id": "4b5c3b40-d5ef-46a7-9389-97c163daa6fe",
        "collapsed": true
      },
      "outputs": [],
      "source": [
        "arr = []\n",
        "for i in range(len(history_stations)):\n",
        "    arr.append(run_ml(i))\n",
        "print(np.mean(arr))"
      ]
    },
    {
      "cell_type": "markdown",
      "source": [
        "# 결정계수 r2 값이 0.7이상이면 좋은 모델, 0.3 이상이면 평범한 모델로 평가"
      ],
      "metadata": {
        "id": "5H-0AGjAlaym"
      }
    },
    {
      "cell_type": "code",
      "source": [
        "## NaN 값이 있는지 확인\n",
        "has_none_or_nan = any(x is None or (isinstance(x, float) and np.isnan(x)) for x in arr)\n",
        "print(has_none_or_nan) # nan값이 있으면 True\n",
        "\n",
        "## NaN 값이 있는 행 확인\n",
        "indices_with_none_or_nan = [i for i, x in enumerate(arr) if x is None or (isinstance(x, float) and np.isnan(x))]\n",
        "print(indices_with_none_or_nan)\n",
        "\n",
        "## NaN 값 제거\n",
        "filtered_list = [x for x in arr if x is not None and not (isinstance(x, float) and np.isnan(x))]\n",
        "print(filtered_list)"
      ],
      "metadata": {
        "id": "NUV3QOFUe1hy"
      },
      "execution_count": null,
      "outputs": []
    },
    {
      "cell_type": "code",
      "source": [
        "print(min(arr))\n",
        "print(max(arr))\n",
        "print(len(arr))\n",
        "print(sum(filtered_list) / len(filtered_list))\n",
        "# arr.index(0.9711363007518797)"
      ],
      "metadata": {
        "id": "oxrl72eIb1S6"
      },
      "execution_count": null,
      "outputs": []
    },
    {
      "cell_type": "markdown",
      "source": [
        "#### 머신러닝 코드 LinearRegression"
      ],
      "metadata": {
        "id": "PqUSM-o_z__P"
      }
    },
    {
      "cell_type": "code",
      "execution_count": null,
      "metadata": {
        "id": "Km2JqXFwz__P"
      },
      "outputs": [],
      "source": [
        "def run_ml(i):\n",
        "    df_h = pd.DataFrame(history_stations['history'][i]) # history_chargers의 i번째 history 가져오기\n",
        "\n",
        "    # 변수 생성 (주말, 월, 일, 시간, 분) #########################\n",
        "    df_h['weekday'] = df_h['time'].dt.weekday\n",
        "    df_h['month'] = df_h['time'].dt.month\n",
        "    df_h['day'] = df_h['time'].dt.day\n",
        "    df_h['hour'] = df_h['time'].dt.hour\n",
        "    df_h['minute'] = df_h['time'].dt.minute\n",
        "\n",
        "    # 변수 생성 (공휴일)\n",
        "    kr_holidays = holidays.KR()\n",
        "    df_h['holiday'] = df_h.time.apply(lambda x: 1 if x in kr_holidays else 0)\n",
        "\n",
        "    # ml 실행을 위해 날짜를 index로 설정하기\n",
        "    df_h.set_index(keys='time', inplace=True)\n",
        "\n",
        "    # count 변수 저장하기\n",
        "    count = df_h.iloc[0, 0]\n",
        "\n",
        "    # target(예측할 열) 설정하기\n",
        "    target = 'visitNum'\n",
        "\n",
        "    # x, y 값 설정하기\n",
        "    x = df_h.drop(target, axis=1)\n",
        "    y = df_h[target]\n",
        "\n",
        "    # 데이터 샘플 수 확인 (10개 이하인 경우 예측 생략)\n",
        "    if len(df_h) <= 10:\n",
        "        return 0\n",
        "    else:\n",
        "        # 데이터가 10개 이상일 경우, 기존처럼 훈련/테스트 분할\n",
        "        x_train, x_test, y_train, y_test = train_test_split(x, y, train_size=0.7, random_state=0)\n",
        "\n",
        "\n",
        "    model = LinearRegression()\n",
        "\n",
        "    model.fit(x_train, y_train) # 모델 학습\n",
        "\n",
        "    y_pred = model.predict(x_test) # 모델 예측\n",
        "    y_pred = np.round(y_pred)\n",
        "\n",
        "    print(history_stations['_id'][i], end=' ')\n",
        "    print(r2_score(y_test, y_pred))  # 모델 정확도 출력\n",
        "    acc = model.score(x_test, y_test)\n",
        "\n",
        "    # 시각화를 위함 - df 형식으로 변환\n",
        "    y_pred = pd.DataFrame(y_pred)\n",
        "    y_test = pd.DataFrame(y_test)\n",
        "\n",
        "    # 하나의 df로 합치기\n",
        "    y_test.reset_index(inplace=True)\n",
        "    df = pd.concat([y_test, y_pred], axis=1)\n",
        "    df.columns = ['time', 'y_test', 'y_pred']\n",
        "\n",
        "    # # 시각화\n",
        "    # plt.figure(figsize=(8,6))\n",
        "    # sns.lineplot(x='time' , y='y_test', data=df)\n",
        "    # sns.lineplot(x='time' , y='y_pred', data=df)\n",
        "    # plt.xticks(rotation=50)\n",
        "    # plt.show()\n",
        "\n",
        "    # 시간 단위별 예측 df 생성\n",
        "    pre_df = pd.date_range(now.date()+ timedelta(days=1) , periods=24 , freq=\"30min\") # 30분 단위로 예측 df 만들기\n",
        "\n",
        "    pre_df = pd.DataFrame(pre_df) # 데이터 프레임 형태로 변환\n",
        "    pre_df.columns=['time'] # 열 이름 변경\n",
        "\n",
        "    pre_df['count'] = count\n",
        "\n",
        "    # 변수 추가하기\n",
        "    pre_df['time'] = pd.to_datetime(pre_df['time'])\n",
        "    pre_df['weekday'] = pre_df['time'].dt.weekday\n",
        "    pre_df['month'] = pre_df['time'].dt.month\n",
        "    pre_df['day'] = pre_df['time'].dt.day\n",
        "    pre_df['hour'] = pre_df['time'].dt.hour\n",
        "    pre_df['minute'] = pre_df['time'].dt.minute\n",
        "\n",
        "    kr_holidays = holidays.KR()\n",
        "    pre_df['holiday'] = pre_df.time.apply(lambda x: 1 if x in kr_holidays else 0)\n",
        "\n",
        "    pre_df.set_index(keys='time', inplace=True)\n",
        "\n",
        "    pre_predict = model.predict(pre_df)\n",
        "    pre_predict= np.round(pre_predict)\n",
        "\n",
        "    pre_predict = pre_predict.tolist()\n",
        "    collection = db['demand-info']\n",
        "\n",
        "    statId = history_stations['_id'][i]\n",
        "    # 해당 statId를 가진 문서 조회\n",
        "    existing_doc = collection.find_one({\"statId\": statId })\n",
        "\n",
        "    # 문서가 존재하지 않으면 새로운 문서를 추가하고 업데이트\n",
        "    if existing_doc is None:\n",
        "        new_doc = { \"statId\": statId, \"demandInfo\": { \"viewNum\": 0, \"departsIn30m\": [], \"hourlyVisitNum\": [] } }\n",
        "        result = collection.insert_one(new_doc)\n",
        "        print(\"Added new document\")\n",
        "        #time.sleep(0.1)\n",
        "\n",
        "    x = collection.update_one(\n",
        "        {\"statId\":statId},\n",
        "        {\"$set\" : {\n",
        "            'demandInfo.hourlyVisitNum' : pre_predict\n",
        "        }\n",
        "        })\n",
        "\n",
        "    return acc"
      ]
    },
    {
      "cell_type": "markdown",
      "metadata": {
        "id": "ZrOxpeXIz__Q"
      },
      "source": [
        "- 5/23에 새로 생겨난 충전소에 대해서 데이터가 없어서 모델을 돌릴 수 없음 => 시간 경과 자동 해결"
      ]
    },
    {
      "cell_type": "markdown",
      "metadata": {
        "id": "NbBjFqTdz__Q"
      },
      "source": [
        "- blue = test, orange = predict"
      ]
    },
    {
      "cell_type": "code",
      "execution_count": null,
      "metadata": {
        "collapsed": true,
        "id": "DNdo4_m2z__Q"
      },
      "outputs": [],
      "source": [
        "arr = []\n",
        "for i in range(len(history_stations)):\n",
        "    arr.append(run_ml(i))\n",
        "print(np.mean(arr))"
      ]
    },
    {
      "cell_type": "markdown",
      "source": [
        "# 결정계수 r2 값이 0.7이상이면 좋은 모델, 0.3 이상이면 평범한 모델로 평가"
      ],
      "metadata": {
        "id": "nGVWXsRpz__R"
      }
    },
    {
      "cell_type": "code",
      "source": [
        "## NaN 값이 있는지 확인\n",
        "has_none_or_nan = any(x is None or (isinstance(x, float) and np.isnan(x)) for x in arr)\n",
        "print(has_none_or_nan) # nan값이 있으면 True\n",
        "\n",
        "## NaN 값이 있는 행 확인\n",
        "indices_with_none_or_nan = [i for i, x in enumerate(arr) if x is None or (isinstance(x, float) and np.isnan(x))]\n",
        "print(indices_with_none_or_nan)\n",
        "\n",
        "## NaN 값 제거\n",
        "filtered_list = [x for x in arr if x is not None and not (isinstance(x, float) and np.isnan(x))]\n",
        "print(filtered_list)"
      ],
      "metadata": {
        "id": "eoboHGzVz__R"
      },
      "execution_count": null,
      "outputs": []
    },
    {
      "cell_type": "code",
      "source": [
        "print(min(arr))\n",
        "print(max(arr))\n",
        "print(len(arr))\n",
        "print(sum(filtered_list) / len(filtered_list))\n",
        "# arr.index(0.9711363007518797)"
      ],
      "metadata": {
        "id": "KDYu3x2Wz__R"
      },
      "execution_count": null,
      "outputs": []
    },
    {
      "cell_type": "markdown",
      "source": [
        "#### 머신러닝 코드 LGBMRegressor"
      ],
      "metadata": {
        "id": "BYiAjhZh1LZb"
      }
    },
    {
      "cell_type": "code",
      "execution_count": null,
      "metadata": {
        "id": "maJN01OU1LZc"
      },
      "outputs": [],
      "source": [
        "def run_ml(i):\n",
        "    df_h = pd.DataFrame(history_stations['history'][i]) # history_chargers의 i번째 history 가져오기\n",
        "\n",
        "    # 변수 생성 (주말, 월, 일, 시간, 분) #########################\n",
        "    df_h['weekday'] = df_h['time'].dt.weekday\n",
        "    df_h['month'] = df_h['time'].dt.month\n",
        "    df_h['day'] = df_h['time'].dt.day\n",
        "    df_h['hour'] = df_h['time'].dt.hour\n",
        "    df_h['minute'] = df_h['time'].dt.minute\n",
        "\n",
        "    # 변수 생성 (공휴일)\n",
        "    kr_holidays = holidays.KR()\n",
        "    df_h['holiday'] = df_h.time.apply(lambda x: 1 if x in kr_holidays else 0)\n",
        "\n",
        "    # ml 실행을 위해 날짜를 index로 설정하기\n",
        "    df_h.set_index(keys='time', inplace=True)\n",
        "\n",
        "    # count 변수 저장하기\n",
        "    count = df_h.iloc[0, 0]\n",
        "\n",
        "    # target(예측할 열) 설정하기\n",
        "    target = 'visitNum'\n",
        "\n",
        "    # x, y 값 설정하기\n",
        "    x = df_h.drop(target, axis=1)\n",
        "    y = df_h[target]\n",
        "\n",
        "    # 데이터 샘플 수 확인 (10개 이하인 경우 예측 생략)\n",
        "    if len(df_h) <= 10:\n",
        "        return 0\n",
        "    else:\n",
        "        # 데이터가 10개 이상일 경우, 기존처럼 훈련/테스트 분할\n",
        "        x_train, x_test, y_train, y_test = train_test_split(x, y, train_size=0.7, random_state=0)\n",
        "\n",
        "\n",
        "    model = LGBMRegressor(random_state=0, verbose=-1)\n",
        "\n",
        "    model.fit(x_train, y_train) # 모델 학습\n",
        "\n",
        "    y_pred = model.predict(x_test) # 모델 예측\n",
        "    y_pred = np.round(y_pred)\n",
        "\n",
        "    print(history_stations['_id'][i], end=' ')\n",
        "    print(r2_score(y_test, y_pred))  # 모델 정확도 출력\n",
        "    acc = model.score(x_test, y_test)\n",
        "\n",
        "    # 시각화를 위함 - df 형식으로 변환\n",
        "    y_pred = pd.DataFrame(y_pred)\n",
        "    y_test = pd.DataFrame(y_test)\n",
        "\n",
        "    # 하나의 df로 합치기\n",
        "    y_test.reset_index(inplace=True)\n",
        "    df = pd.concat([y_test, y_pred], axis=1)\n",
        "    df.columns = ['time', 'y_test', 'y_pred']\n",
        "\n",
        "    # # 시각화\n",
        "    # plt.figure(figsize=(8,6))\n",
        "    # sns.lineplot(x='time' , y='y_test', data=df)\n",
        "    # sns.lineplot(x='time' , y='y_pred', data=df)\n",
        "    # plt.xticks(rotation=50)\n",
        "    # plt.show()\n",
        "\n",
        "    # 시간 단위별 예측 df 생성\n",
        "    pre_df = pd.date_range(now.date()+ timedelta(days=1) , periods=24 , freq=\"30min\") # 30분 단위로 예측 df 만들기\n",
        "\n",
        "    pre_df = pd.DataFrame(pre_df) # 데이터 프레임 형태로 변환\n",
        "    pre_df.columns=['time'] # 열 이름 변경\n",
        "\n",
        "    pre_df['count'] = count\n",
        "\n",
        "    # 변수 추가하기\n",
        "    pre_df['time'] = pd.to_datetime(pre_df['time'])\n",
        "    pre_df['weekday'] = pre_df['time'].dt.weekday\n",
        "    pre_df['month'] = pre_df['time'].dt.month\n",
        "    pre_df['day'] = pre_df['time'].dt.day\n",
        "    pre_df['hour'] = pre_df['time'].dt.hour\n",
        "    pre_df['minute'] = pre_df['time'].dt.minute\n",
        "\n",
        "    kr_holidays = holidays.KR()\n",
        "    pre_df['holiday'] = pre_df.time.apply(lambda x: 1 if x in kr_holidays else 0)\n",
        "\n",
        "    pre_df.set_index(keys='time', inplace=True)\n",
        "\n",
        "    pre_predict = model.predict(pre_df)\n",
        "    pre_predict= np.round(pre_predict)\n",
        "\n",
        "    pre_predict = pre_predict.tolist()\n",
        "    collection = db['demand-info']\n",
        "\n",
        "    statId = history_stations['_id'][i]\n",
        "    # 해당 statId를 가진 문서 조회\n",
        "    existing_doc = collection.find_one({\"statId\": statId })\n",
        "\n",
        "    # 문서가 존재하지 않으면 새로운 문서를 추가하고 업데이트\n",
        "    if existing_doc is None:\n",
        "        new_doc = { \"statId\": statId, \"demandInfo\": { \"viewNum\": 0, \"departsIn30m\": [], \"hourlyVisitNum\": [] } }\n",
        "        result = collection.insert_one(new_doc)\n",
        "        print(\"Added new document\")\n",
        "        #time.sleep(0.1)\n",
        "\n",
        "    x = collection.update_one(\n",
        "        {\"statId\":statId},\n",
        "        {\"$set\" : {\n",
        "            'demandInfo.hourlyVisitNum' : pre_predict\n",
        "        }\n",
        "        })\n",
        "\n",
        "    return acc"
      ]
    },
    {
      "cell_type": "markdown",
      "metadata": {
        "id": "APqb3nFN1LZc"
      },
      "source": [
        "- 5/23에 새로 생겨난 충전소에 대해서 데이터가 없어서 모델을 돌릴 수 없음 => 시간 경과 자동 해결"
      ]
    },
    {
      "cell_type": "markdown",
      "metadata": {
        "id": "x1s2i6Lv1LZc"
      },
      "source": [
        "- blue = test, orange = predict"
      ]
    },
    {
      "cell_type": "code",
      "execution_count": null,
      "metadata": {
        "collapsed": true,
        "id": "VHFosV3F1LZc"
      },
      "outputs": [],
      "source": [
        "arr = []\n",
        "for i in range(len(history_stations)):\n",
        "    arr.append(run_ml(i))\n",
        "print(np.mean(arr))"
      ]
    },
    {
      "cell_type": "markdown",
      "source": [
        "# 결정계수 r2 값이 0.7이상이면 좋은 모델, 0.3 이상이면 평범한 모델로 평가"
      ],
      "metadata": {
        "id": "RBFJuYnr1LZd"
      }
    },
    {
      "cell_type": "code",
      "source": [
        "## NaN 값이 있는지 확인\n",
        "has_none_or_nan = any(x is None or (isinstance(x, float) and np.isnan(x)) for x in arr)\n",
        "print(has_none_or_nan) # nan값이 있으면 True\n",
        "\n",
        "## NaN 값이 있는 행 확인\n",
        "indices_with_none_or_nan = [i for i, x in enumerate(arr) if x is None or (isinstance(x, float) and np.isnan(x))]\n",
        "print(indices_with_none_or_nan)\n",
        "\n",
        "## NaN 값 제거\n",
        "filtered_list = [x for x in arr if x is not None and not (isinstance(x, float) and np.isnan(x))]\n",
        "print(filtered_list)"
      ],
      "metadata": {
        "id": "F58D3V3W1LZd"
      },
      "execution_count": null,
      "outputs": []
    },
    {
      "cell_type": "code",
      "source": [
        "print(min(arr))\n",
        "print(max(arr))\n",
        "print(len(arr))\n",
        "print(sum(filtered_list) / len(filtered_list))\n",
        "# arr.index(0.9711363007518797)"
      ],
      "metadata": {
        "id": "Ci6L5LIQ1LZd"
      },
      "execution_count": null,
      "outputs": []
    },
    {
      "cell_type": "markdown",
      "source": [
        "#### 머신러닝 코드 xgboost"
      ],
      "metadata": {
        "id": "fEWb3uKQs6p9"
      }
    },
    {
      "cell_type": "code",
      "source": [
        "def run_ml(i):\n",
        "    df_h = pd.DataFrame(history_stations['history'][i]) # history_chargers의 i번째 history 가져오기\n",
        "\n",
        "    # 변수 생성 (주말, 월, 일, 시간, 분) #########################\n",
        "    df_h['weekday'] = df_h['time'].dt.weekday\n",
        "    df_h['month'] = df_h['time'].dt.month\n",
        "    df_h['day'] = df_h['time'].dt.day\n",
        "    df_h['hour'] = df_h['time'].dt.hour\n",
        "    df_h['minute'] = df_h['time'].dt.minute\n",
        "\n",
        "    # 변수 생성 (공휴일)\n",
        "    kr_holidays = holidays.KR()\n",
        "    df_h['holiday'] = df_h.time.apply(lambda x: 1 if x in kr_holidays else 0)\n",
        "\n",
        "    # ml 실행을 위해 날짜를 index로 설정하기\n",
        "    df_h.set_index(keys='time', inplace=True)\n",
        "\n",
        "    # count 변수 저장하기\n",
        "    count = df_h.iloc[0, 0]\n",
        "\n",
        "    # target(예측할 열) 설정하기\n",
        "    target = 'visitNum'\n",
        "\n",
        "    # x, y 값 설정하기\n",
        "    x = df_h.drop(target, axis=1)\n",
        "    y = df_h[target]\n",
        "\n",
        "    # 데이터 샘플 수 확인 (10개 이하인 경우 예측 생략)\n",
        "    if len(df_h) <= 10:\n",
        "        return 0\n",
        "    else:\n",
        "        # 데이터가 10개 이상일 경우, 기존처럼 훈련/테스트 분할\n",
        "        x_train, x_test, y_train, y_test = train_test_split(x, y, train_size=0.7, random_state=0)\n",
        "\n",
        "\n",
        "    model = xgb.XGBRegressor(\n",
        "        eval_metric='rmse'  # 회귀에서는 r2를 사용하는 경우\n",
        "    )\n",
        "\n",
        "    model.fit(x_train, y_train) # 모델 학습\n",
        "\n",
        "    y_pred = model.predict(x_test) # 모델 예측\n",
        "    y_pred = np.round(y_pred)\n",
        "\n",
        "    print(history_stations['_id'][i], end=' ')\n",
        "    print(r2_score(y_test, y_pred))  # 모델 정확도 출력\n",
        "    acc = model.score(x_test, y_test)\n",
        "\n",
        "    # 시각화를 위함 - df 형식으로 변환\n",
        "    y_pred = pd.DataFrame(y_pred)\n",
        "    y_test = pd.DataFrame(y_test)\n",
        "\n",
        "    # 하나의 df로 합치기\n",
        "    y_test.reset_index(inplace=True)\n",
        "    df = pd.concat([y_test, y_pred], axis=1)\n",
        "    df.columns = ['time', 'y_test', 'y_pred']\n",
        "\n",
        "    # # 시각화\n",
        "    # plt.figure(figsize=(8,6))\n",
        "    # sns.lineplot(x='time' , y='y_test', data=df)\n",
        "    # sns.lineplot(x='time' , y='y_pred', data=df)\n",
        "    # plt.xticks(rotation=50)\n",
        "    # plt.show()\n",
        "\n",
        "    # 시간 단위별 예측 df 생성\n",
        "    pre_df = pd.date_range(now.date()+ timedelta(days=1) , periods=24 , freq=\"30min\") # 30분 단위로 예측 df 만들기\n",
        "\n",
        "    pre_df = pd.DataFrame(pre_df) # 데이터 프레임 형태로 변환\n",
        "    pre_df.columns=['time'] # 열 이름 변경\n",
        "\n",
        "    pre_df['count'] = count\n",
        "\n",
        "    # 변수 추가하기\n",
        "    pre_df['time'] = pd.to_datetime(pre_df['time'])\n",
        "    pre_df['weekday'] = pre_df['time'].dt.weekday\n",
        "    pre_df['month'] = pre_df['time'].dt.month\n",
        "    pre_df['day'] = pre_df['time'].dt.day\n",
        "    pre_df['hour'] = pre_df['time'].dt.hour\n",
        "    pre_df['minute'] = pre_df['time'].dt.minute\n",
        "\n",
        "    kr_holidays = holidays.KR()\n",
        "    pre_df['holiday'] = pre_df.time.apply(lambda x: 1 if x in kr_holidays else 0)\n",
        "\n",
        "    pre_df.set_index(keys='time', inplace=True)\n",
        "\n",
        "    pre_predict = model.predict(pre_df)\n",
        "    pre_predict= np.round(pre_predict)\n",
        "\n",
        "    pre_predict = pre_predict.tolist()\n",
        "    collection = db['demand-info']\n",
        "\n",
        "    statId = history_stations['_id'][i]\n",
        "    # 해당 statId를 가진 문서 조회\n",
        "    existing_doc = collection.find_one({\"statId\": statId })\n",
        "\n",
        "    # 문서가 존재하지 않으면 새로운 문서를 추가하고 업데이트\n",
        "    if existing_doc is None:\n",
        "        new_doc = { \"statId\": statId, \"demandInfo\": { \"viewNum\": 0, \"departsIn30m\": [], \"hourlyVisitNum\": [] } }\n",
        "        result = collection.insert_one(new_doc)\n",
        "        print(\"Added new document\")\n",
        "        #time.sleep(0.1)\n",
        "\n",
        "    x = collection.update_one(\n",
        "        {\"statId\":statId},\n",
        "        {\"$set\" : {\n",
        "            'demandInfo.hourlyVisitNum' : pre_predict\n",
        "        }\n",
        "        })\n",
        "\n",
        "    return acc"
      ],
      "metadata": {
        "id": "gOcWTW-_tXZ_"
      },
      "execution_count": null,
      "outputs": []
    },
    {
      "cell_type": "code",
      "source": [
        "arr = []\n",
        "for i in range(len(history_stations)):\n",
        "    arr.append(run_ml(i))\n",
        "print(np.mean(arr))"
      ],
      "metadata": {
        "id": "Hq_B4o8guuq2"
      },
      "execution_count": null,
      "outputs": []
    },
    {
      "cell_type": "markdown",
      "source": [
        "# 결정계수 r2 값이 0.7이상이면 좋은 모델, 0.3 이상이면 평범한 모델로 평가"
      ],
      "metadata": {
        "id": "UxOy-dmsuTYr"
      }
    },
    {
      "cell_type": "code",
      "source": [
        "## NaN 값이 있는지 확인\n",
        "has_none_or_nan = any(x is None or (isinstance(x, float) and np.isnan(x)) for x in arr)\n",
        "print(has_none_or_nan) # nan값이 있으면 True\n",
        "\n",
        "## NaN 값이 있는 행 확인\n",
        "indices_with_none_or_nan = [i for i, x in enumerate(arr) if x is None or (isinstance(x, float) and np.isnan(x))]\n",
        "print(indices_with_none_or_nan)\n",
        "\n",
        "## NaN 값 제거\n",
        "filtered_list = [x for x in arr if x is not None and not (isinstance(x, float) and np.isnan(x))]\n",
        "print(filtered_list)"
      ],
      "metadata": {
        "id": "_3pDvvyquTYs"
      },
      "execution_count": null,
      "outputs": []
    },
    {
      "cell_type": "code",
      "source": [
        "print(min(arr))\n",
        "print(max(arr))\n",
        "print(len(arr))\n",
        "print(sum(filtered_list) / len(filtered_list))\n",
        "# arr.index(0.9711363007518797)"
      ],
      "metadata": {
        "id": "G91XtrHYuTYs"
      },
      "execution_count": null,
      "outputs": []
    },
    {
      "cell_type": "markdown",
      "metadata": {
        "id": "DFesEBBk-mqH"
      },
      "source": [
        "# 머신러닝 성능 테스트 ⭐\n",
        "(초기 0.65)\n",
        "## 평가 기준 r2(결정계수)\n",
        "## 1. RandomForestRegressor 👍👍\n",
        "## 결과: 0.7486\n",
        "## 2. LinearRegression\n",
        "## 결과: 0.2363\n",
        "## 3. LGBMRegressor\n",
        "## 결과: 0.7023\n",
        "## 4. xgboost\n",
        "## 결과: 0.6801"
      ]
    }
  ]
}