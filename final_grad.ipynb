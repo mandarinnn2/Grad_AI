{
  "nbformat": 4,
  "nbformat_minor": 0,
  "metadata": {
    "colab": {
      "provenance": [],
      "toc_visible": true
    },
    "kernelspec": {
      "name": "python3",
      "display_name": "Python 3"
    },
    "language_info": {
      "name": "python"
    }
  },
  "cells": [
    {
      "cell_type": "markdown",
      "metadata": {
        "id": "d375a955-0669-4323-912a-9a511df4290f"
      },
      "source": [
        "# 머신러닝 돌리기 (기본)\n",
        "### history-stations\n",
        "- 새로운 변수 추가, 튜닝 등 진행하지 않음"
      ]
    },
    {
      "cell_type": "code",
      "source": [
        "!pip install pymongo"
      ],
      "metadata": {
        "id": "B13NnVmFQl8o"
      },
      "execution_count": null,
      "outputs": []
    },
    {
      "cell_type": "markdown",
      "source": [
        "#### 라이브러리 준비"
      ],
      "metadata": {
        "id": "TO3exh77t3vo"
      }
    },
    {
      "cell_type": "code",
      "execution_count": null,
      "metadata": {
        "id": "ab8fc94d-d480-44d1-a34e-c407dc92af4a"
      },
      "outputs": [],
      "source": [
        "from sklearn.model_selection import train_test_split, GridSearchCV\n",
        "from sklearn.ensemble import RandomForestRegressor\n",
        "from sklearn.linear_model import LinearRegression\n",
        "from lightgbm import LGBMRegressor\n",
        "from sklearn.metrics import r2_score\n",
        "import xgboost as xgb\n",
        "\n",
        "import matplotlib.pyplot as plt\n",
        "import seaborn as sns\n",
        "import pandas as pd\n",
        "import numpy as np\n",
        "\n",
        "from prophet import Prophet\n",
        "import holidays\n",
        "\n",
        "from datetime import datetime, timedelta\n",
        "now = datetime.now()\n",
        "\n",
        "import tensorflow as tf\n",
        "from sklearn.model_selection import TimeSeriesSplit\n",
        "from sklearn.metrics import mean_squared_error, r2_score\n",
        "from tensorflow.keras.models import Sequential\n",
        "from tensorflow.keras.layers import LSTM, Dense, Dropout\n",
        "from tensorflow.keras.optimizers import Adam"
      ]
    },
    {
      "cell_type": "markdown",
      "source": [
        "#### config 파일 업로드"
      ],
      "metadata": {
        "id": "APQNtd1t24aP"
      }
    },
    {
      "cell_type": "code",
      "source": [
        "from google.colab import files\n",
        "\n",
        "# 파일 업로드\n",
        "uploaded = files.upload()"
      ],
      "metadata": {
        "id": "2tRlfzl33HgR"
      },
      "execution_count": null,
      "outputs": []
    },
    {
      "cell_type": "markdown",
      "source": [
        "#### config.txt 파일에서 MongoDB 정보 가져오기"
      ],
      "metadata": {
        "id": "5yqkAytk2PR9"
      }
    },
    {
      "cell_type": "code",
      "source": [
        "# config.txt 파일에서 MongoDB 정보 읽기\n",
        "config = {}\n",
        "\n",
        "# config.txt 파일을 읽어서 정보 가져오기\n",
        "with open('config.txt', 'r') as file:\n",
        "    for line in file:\n",
        "        # 줄에서 공백을 제거하고 '=' 기준으로 나누어 키-값 형태로 저장\n",
        "        key, value = line.strip().split('=')\n",
        "        config[key] = value\n",
        "\n",
        "# config.txt에서 가져온 정보로 MongoDB 연결\n",
        "mongo_uri = config.get('MONGO_URI')\n",
        "db_pw = int(config.get('PW'))\n",
        "collection_name = config.get('COLLECTION_NAME')"
      ],
      "metadata": {
        "id": "NBA9vra32Vme"
      },
      "execution_count": null,
      "outputs": []
    },
    {
      "cell_type": "markdown",
      "source": [
        "#### 방문자수 데이터 데이터 프레임 변환"
      ],
      "metadata": {
        "id": "cNPDRsKQt8xJ"
      }
    },
    {
      "cell_type": "code",
      "execution_count": null,
      "metadata": {
        "id": "93f9d138-4e6f-48a9-9883-52cb7f7dad47"
      },
      "outputs": [],
      "source": [
        "from pymongo import MongoClient\n",
        "\n",
        "# 데이터가 저장된 MongoDB의 주소\n",
        "client = MongoClient(mongo_uri, db_pw)\n",
        "\n",
        "# db를 저장하기\n",
        "db = client.crawling\n",
        "\n",
        "collection = db[collection_name]\n",
        "\n",
        "# collection에 저장된 데이터를 데이터프레임으로 변환 및 저장\n",
        "rows = collection.find()\n",
        "history_stations = []\n",
        "for row in rows:\n",
        "    history_stations.append(row)\n",
        "\n",
        "history_stations = pd.DataFrame(history_stations)"
      ]
    },
    {
      "cell_type": "markdown",
      "source": [
        "#### 머신러닝 코드 RandomForestRegressor"
      ],
      "metadata": {
        "id": "yr40leIKuBSk"
      }
    },
    {
      "cell_type": "code",
      "execution_count": null,
      "metadata": {
        "id": "dd481307-2c2b-4e04-b773-f6befc67e004"
      },
      "outputs": [],
      "source": [
        "def run_ml(i):\n",
        "    df_h = pd.DataFrame(history_stations['history'][i]) # history_chargers의 i번째 history 가져오기\n",
        "\n",
        "    # 변수 생성 (주말, 월, 일, 시간, 분) #########################\n",
        "    df_h['weekday'] = df_h['time'].dt.weekday\n",
        "    df_h['month'] = df_h['time'].dt.month\n",
        "    df_h['day'] = df_h['time'].dt.day\n",
        "    df_h['hour'] = df_h['time'].dt.hour\n",
        "    df_h['minute'] = df_h['time'].dt.minute\n",
        "\n",
        "    # 변수 생성 (공휴일)\n",
        "    kr_holidays = holidays.KR()\n",
        "    df_h['holiday'] = df_h.time.apply(lambda x: 1 if x in kr_holidays else 0)\n",
        "\n",
        "    # ml 실행을 위해 날짜를 index로 설정하기\n",
        "    df_h.set_index(keys='time', inplace=True)\n",
        "\n",
        "    # count 변수 저장하기\n",
        "    count = df_h.iloc[0, 0]\n",
        "\n",
        "    # target(예측할 열) 설정하기\n",
        "    target = 'visitNum'\n",
        "\n",
        "    # x, y 값 설정하기\n",
        "    x = df_h.drop(target, axis=1)\n",
        "    y = df_h[target]\n",
        "\n",
        "    # 데이터 샘플 수 확인 (10개 이하인 경우 예측 생략)\n",
        "    if len(df_h) <= 10:\n",
        "        return 0\n",
        "    else:\n",
        "        # 데이터가 10개 이상일 경우, 기존처럼 훈련/테스트 분할\n",
        "        x_train, x_test, y_train, y_test = train_test_split(x, y, train_size=0.7, random_state=0)\n",
        "\n",
        "\n",
        "    model = RandomForestRegressor(random_state=0)\n",
        "\n",
        "    model.fit(x_train, y_train) # 모델 학습\n",
        "\n",
        "    y_pred = model.predict(x_test) # 모델 예측\n",
        "    y_pred = np.round(y_pred)\n",
        "\n",
        "    print(history_stations['_id'][i], end=' ')\n",
        "    print(r2_score(y_test, y_pred))  # 모델 정확도 출력\n",
        "    acc = model.score(x_test, y_test)\n",
        "\n",
        "    # 시각화를 위함 - df 형식으로 변환\n",
        "    y_pred = pd.DataFrame(y_pred)\n",
        "    y_test = pd.DataFrame(y_test)\n",
        "\n",
        "    # 하나의 df로 합치기\n",
        "    y_test.reset_index(inplace=True)\n",
        "    df = pd.concat([y_test, y_pred], axis=1)\n",
        "    df.columns = ['time', 'y_test', 'y_pred']\n",
        "\n",
        "    # # 시각화\n",
        "    # plt.figure(figsize=(8,6))\n",
        "    # sns.lineplot(x='time' , y='y_test', data=df)\n",
        "    # sns.lineplot(x='time' , y='y_pred', data=df)\n",
        "    # plt.xticks(rotation=50)\n",
        "    # plt.show()\n",
        "\n",
        "    # 시간 단위별 예측 df 생성\n",
        "    pre_df = pd.date_range(now.date()+ timedelta(days=1) , periods=24 , freq=\"30min\") # 30분 단위로 예측 df 만들기\n",
        "\n",
        "    pre_df = pd.DataFrame(pre_df) # 데이터 프레임 형태로 변환\n",
        "    pre_df.columns=['time'] # 열 이름 변경\n",
        "\n",
        "    pre_df['count'] = count\n",
        "\n",
        "    # 변수 추가하기\n",
        "    pre_df['time'] = pd.to_datetime(pre_df['time'])\n",
        "    pre_df['weekday'] = pre_df['time'].dt.weekday\n",
        "    pre_df['month'] = pre_df['time'].dt.month\n",
        "    pre_df['day'] = pre_df['time'].dt.day\n",
        "    pre_df['hour'] = pre_df['time'].dt.hour\n",
        "    pre_df['minute'] = pre_df['time'].dt.minute\n",
        "\n",
        "    kr_holidays = holidays.KR()\n",
        "    pre_df['holiday'] = pre_df.time.apply(lambda x: 1 if x in kr_holidays else 0)\n",
        "\n",
        "    pre_df.set_index(keys='time', inplace=True)\n",
        "\n",
        "    # print(pre_df)\n",
        "    pre_predict = model.predict(pre_df)\n",
        "    pre_predict= np.round(pre_predict)\n",
        "    # print(pre_predict)\n",
        "\n",
        "    pre_predict = pre_predict.tolist()\n",
        "    collection = db['demand-info']\n",
        "\n",
        "    statId = history_stations['_id'][i]\n",
        "    # 해당 statId를 가진 문서 조회\n",
        "    existing_doc = collection.find_one({\"statId\": statId })\n",
        "\n",
        "    # 문서가 존재하지 않으면 새로운 문서를 추가하고 업데이트\n",
        "    if existing_doc is None:\n",
        "        new_doc = { \"statId\": statId, \"demandInfo\": { \"viewNum\": 0, \"departsIn30m\": [], \"hourlyVisitNum\": [] } }\n",
        "        result = collection.insert_one(new_doc)\n",
        "        print(\"Added new document\")\n",
        "        #time.sleep(0.1)\n",
        "\n",
        "    x = collection.update_one(\n",
        "        {\"statId\":statId},\n",
        "        {\"$set\" : {\n",
        "            'demandInfo.hourlyVisitNum' : pre_predict\n",
        "        }\n",
        "        })\n",
        "\n",
        "    return acc"
      ]
    },
    {
      "cell_type": "markdown",
      "metadata": {
        "id": "5ad2d5b8-9f5e-4832-a9f1-a80bf790a098"
      },
      "source": [
        "- 5/23에 새로 생겨난 충전소에 대해서 데이터가 없어서 모델을 돌릴 수 없음 => 시간 경과 자동 해결"
      ]
    },
    {
      "cell_type": "markdown",
      "metadata": {
        "id": "3a988697-21ce-4246-af83-97e9ea6b4e60"
      },
      "source": [
        "- blue = test, orange = predict"
      ]
    },
    {
      "cell_type": "code",
      "execution_count": null,
      "metadata": {
        "id": "4b5c3b40-d5ef-46a7-9389-97c163daa6fe",
        "collapsed": true
      },
      "outputs": [],
      "source": [
        "arr = []\n",
        "for i in range(len(history_stations)):\n",
        "    arr.append(run_ml(i))\n",
        "print(np.mean(arr))"
      ]
    },
    {
      "cell_type": "markdown",
      "source": [
        "# 결정계수 r2 값이 0.7이상이면 좋은 모델, 0.3 이상이면 평범한 모델로 평가"
      ],
      "metadata": {
        "id": "5H-0AGjAlaym"
      }
    },
    {
      "cell_type": "code",
      "source": [
        "## NaN 값이 있는지 확인\n",
        "has_none_or_nan = any(x is None or (isinstance(x, float) and np.isnan(x)) for x in arr)\n",
        "print(has_none_or_nan) # nan값이 있으면 True\n",
        "\n",
        "## NaN 값이 있는 행 확인\n",
        "indices_with_none_or_nan = [i for i, x in enumerate(arr) if x is None or (isinstance(x, float) and np.isnan(x))]\n",
        "print(indices_with_none_or_nan)\n",
        "\n",
        "## NaN 값 제거\n",
        "filtered_list = [x for x in arr if x is not None and not (isinstance(x, float) and np.isnan(x))]\n",
        "print(filtered_list)"
      ],
      "metadata": {
        "id": "NUV3QOFUe1hy"
      },
      "execution_count": null,
      "outputs": []
    },
    {
      "cell_type": "code",
      "source": [
        "print(min(arr))\n",
        "print(max(arr))\n",
        "print(len(arr))\n",
        "print(sum(filtered_list) / len(filtered_list))\n",
        "# arr.index(0.9711363007518797)"
      ],
      "metadata": {
        "id": "oxrl72eIb1S6"
      },
      "execution_count": null,
      "outputs": []
    },
    {
      "cell_type": "markdown",
      "source": [
        "#### 머신러닝 코드 LinearRegression"
      ],
      "metadata": {
        "id": "PqUSM-o_z__P"
      }
    },
    {
      "cell_type": "code",
      "execution_count": null,
      "metadata": {
        "id": "Km2JqXFwz__P"
      },
      "outputs": [],
      "source": [
        "def run_ml(i):\n",
        "    df_h = pd.DataFrame(history_stations['history'][i]) # history_chargers의 i번째 history 가져오기\n",
        "\n",
        "    # 변수 생성 (주말, 월, 일, 시간, 분) #########################\n",
        "    df_h['weekday'] = df_h['time'].dt.weekday\n",
        "    df_h['month'] = df_h['time'].dt.month\n",
        "    df_h['day'] = df_h['time'].dt.day\n",
        "    df_h['hour'] = df_h['time'].dt.hour\n",
        "    df_h['minute'] = df_h['time'].dt.minute\n",
        "\n",
        "    # 변수 생성 (공휴일)\n",
        "    kr_holidays = holidays.KR()\n",
        "    df_h['holiday'] = df_h.time.apply(lambda x: 1 if x in kr_holidays else 0)\n",
        "\n",
        "    # ml 실행을 위해 날짜를 index로 설정하기\n",
        "    df_h.set_index(keys='time', inplace=True)\n",
        "\n",
        "    # count 변수 저장하기\n",
        "    count = df_h.iloc[0, 0]\n",
        "\n",
        "    # target(예측할 열) 설정하기\n",
        "    target = 'visitNum'\n",
        "\n",
        "    # x, y 값 설정하기\n",
        "    x = df_h.drop(target, axis=1)\n",
        "    y = df_h[target]\n",
        "\n",
        "    # 데이터 샘플 수 확인 (10개 이하인 경우 예측 생략)\n",
        "    if len(df_h) <= 10:\n",
        "        return 0\n",
        "    else:\n",
        "        # 데이터가 10개 이상일 경우, 기존처럼 훈련/테스트 분할\n",
        "        x_train, x_test, y_train, y_test = train_test_split(x, y, train_size=0.7, random_state=0)\n",
        "\n",
        "\n",
        "    model = LinearRegression()\n",
        "\n",
        "    model.fit(x_train, y_train) # 모델 학습\n",
        "\n",
        "    y_pred = model.predict(x_test) # 모델 예측\n",
        "    y_pred = np.round(y_pred)\n",
        "\n",
        "    print(history_stations['_id'][i], end=' ')\n",
        "    print(r2_score(y_test, y_pred))  # 모델 정확도 출력\n",
        "    acc = model.score(x_test, y_test)\n",
        "\n",
        "    # 시각화를 위함 - df 형식으로 변환\n",
        "    y_pred = pd.DataFrame(y_pred)\n",
        "    y_test = pd.DataFrame(y_test)\n",
        "\n",
        "    # 하나의 df로 합치기\n",
        "    y_test.reset_index(inplace=True)\n",
        "    df = pd.concat([y_test, y_pred], axis=1)\n",
        "    df.columns = ['time', 'y_test', 'y_pred']\n",
        "\n",
        "    # # 시각화\n",
        "    # plt.figure(figsize=(8,6))\n",
        "    # sns.lineplot(x='time' , y='y_test', data=df)\n",
        "    # sns.lineplot(x='time' , y='y_pred', data=df)\n",
        "    # plt.xticks(rotation=50)\n",
        "    # plt.show()\n",
        "\n",
        "    # 시간 단위별 예측 df 생성\n",
        "    pre_df = pd.date_range(now.date()+ timedelta(days=1) , periods=24 , freq=\"30min\") # 30분 단위로 예측 df 만들기\n",
        "\n",
        "    pre_df = pd.DataFrame(pre_df) # 데이터 프레임 형태로 변환\n",
        "    pre_df.columns=['time'] # 열 이름 변경\n",
        "\n",
        "    pre_df['count'] = count\n",
        "\n",
        "    # 변수 추가하기\n",
        "    pre_df['time'] = pd.to_datetime(pre_df['time'])\n",
        "    pre_df['weekday'] = pre_df['time'].dt.weekday\n",
        "    pre_df['month'] = pre_df['time'].dt.month\n",
        "    pre_df['day'] = pre_df['time'].dt.day\n",
        "    pre_df['hour'] = pre_df['time'].dt.hour\n",
        "    pre_df['minute'] = pre_df['time'].dt.minute\n",
        "\n",
        "    kr_holidays = holidays.KR()\n",
        "    pre_df['holiday'] = pre_df.time.apply(lambda x: 1 if x in kr_holidays else 0)\n",
        "\n",
        "    pre_df.set_index(keys='time', inplace=True)\n",
        "\n",
        "    pre_predict = model.predict(pre_df)\n",
        "    pre_predict= np.round(pre_predict)\n",
        "\n",
        "    pre_predict = pre_predict.tolist()\n",
        "    collection = db['demand-info']\n",
        "\n",
        "    statId = history_stations['_id'][i]\n",
        "    # 해당 statId를 가진 문서 조회\n",
        "    existing_doc = collection.find_one({\"statId\": statId })\n",
        "\n",
        "    # 문서가 존재하지 않으면 새로운 문서를 추가하고 업데이트\n",
        "    if existing_doc is None:\n",
        "        new_doc = { \"statId\": statId, \"demandInfo\": { \"viewNum\": 0, \"departsIn30m\": [], \"hourlyVisitNum\": [] } }\n",
        "        result = collection.insert_one(new_doc)\n",
        "        print(\"Added new document\")\n",
        "        #time.sleep(0.1)\n",
        "\n",
        "    x = collection.update_one(\n",
        "        {\"statId\":statId},\n",
        "        {\"$set\" : {\n",
        "            'demandInfo.hourlyVisitNum' : pre_predict\n",
        "        }\n",
        "        })\n",
        "\n",
        "    return acc"
      ]
    },
    {
      "cell_type": "markdown",
      "metadata": {
        "id": "ZrOxpeXIz__Q"
      },
      "source": [
        "- 5/23에 새로 생겨난 충전소에 대해서 데이터가 없어서 모델을 돌릴 수 없음 => 시간 경과 자동 해결"
      ]
    },
    {
      "cell_type": "markdown",
      "metadata": {
        "id": "NbBjFqTdz__Q"
      },
      "source": [
        "- blue = test, orange = predict"
      ]
    },
    {
      "cell_type": "code",
      "execution_count": null,
      "metadata": {
        "collapsed": true,
        "id": "DNdo4_m2z__Q"
      },
      "outputs": [],
      "source": [
        "arr = []\n",
        "for i in range(len(history_stations)):\n",
        "    arr.append(run_ml(i))\n",
        "print(np.mean(arr))"
      ]
    },
    {
      "cell_type": "markdown",
      "source": [
        "# 결정계수 r2 값이 0.7이상이면 좋은 모델, 0.3 이상이면 평범한 모델로 평가"
      ],
      "metadata": {
        "id": "nGVWXsRpz__R"
      }
    },
    {
      "cell_type": "code",
      "source": [
        "## NaN 값이 있는지 확인\n",
        "has_none_or_nan = any(x is None or (isinstance(x, float) and np.isnan(x)) for x in arr)\n",
        "print(has_none_or_nan) # nan값이 있으면 True\n",
        "\n",
        "## NaN 값이 있는 행 확인\n",
        "indices_with_none_or_nan = [i for i, x in enumerate(arr) if x is None or (isinstance(x, float) and np.isnan(x))]\n",
        "print(indices_with_none_or_nan)\n",
        "\n",
        "## NaN 값 제거\n",
        "filtered_list = [x for x in arr if x is not None and not (isinstance(x, float) and np.isnan(x))]\n",
        "print(filtered_list)"
      ],
      "metadata": {
        "id": "eoboHGzVz__R"
      },
      "execution_count": null,
      "outputs": []
    },
    {
      "cell_type": "code",
      "source": [
        "print(min(arr))\n",
        "print(max(arr))\n",
        "print(len(arr))\n",
        "print(sum(filtered_list) / len(filtered_list))\n",
        "# arr.index(0.9711363007518797)"
      ],
      "metadata": {
        "id": "KDYu3x2Wz__R"
      },
      "execution_count": null,
      "outputs": []
    },
    {
      "cell_type": "markdown",
      "source": [
        "#### 머신러닝 코드 LGBMRegressor"
      ],
      "metadata": {
        "id": "BYiAjhZh1LZb"
      }
    },
    {
      "cell_type": "code",
      "execution_count": null,
      "metadata": {
        "id": "maJN01OU1LZc"
      },
      "outputs": [],
      "source": [
        "def run_ml(i):\n",
        "    df_h = pd.DataFrame(history_stations['history'][i]) # history_chargers의 i번째 history 가져오기\n",
        "\n",
        "    # 변수 생성 (주말, 월, 일, 시간, 분) #########################\n",
        "    df_h['weekday'] = df_h['time'].dt.weekday\n",
        "    df_h['month'] = df_h['time'].dt.month\n",
        "    df_h['day'] = df_h['time'].dt.day\n",
        "    df_h['hour'] = df_h['time'].dt.hour\n",
        "    df_h['minute'] = df_h['time'].dt.minute\n",
        "\n",
        "    # 변수 생성 (공휴일)\n",
        "    kr_holidays = holidays.KR()\n",
        "    df_h['holiday'] = df_h.time.apply(lambda x: 1 if x in kr_holidays else 0)\n",
        "\n",
        "    # ml 실행을 위해 날짜를 index로 설정하기\n",
        "    df_h.set_index(keys='time', inplace=True)\n",
        "\n",
        "    # count 변수 저장하기\n",
        "    count = df_h.iloc[0, 0]\n",
        "\n",
        "    # target(예측할 열) 설정하기\n",
        "    target = 'visitNum'\n",
        "\n",
        "    # x, y 값 설정하기\n",
        "    x = df_h.drop(target, axis=1)\n",
        "    y = df_h[target]\n",
        "\n",
        "    # 데이터 샘플 수 확인 (10개 이하인 경우 예측 생략)\n",
        "    if len(df_h) <= 10:\n",
        "        return 0\n",
        "    else:\n",
        "        # 데이터가 10개 이상일 경우, 기존처럼 훈련/테스트 분할\n",
        "        x_train, x_test, y_train, y_test = train_test_split(x, y, train_size=0.7, random_state=0)\n",
        "\n",
        "\n",
        "    model = LGBMRegressor(random_state=0, verbose=-1)\n",
        "\n",
        "    model.fit(x_train, y_train) # 모델 학습\n",
        "\n",
        "    y_pred = model.predict(x_test) # 모델 예측\n",
        "    y_pred = np.round(y_pred)\n",
        "\n",
        "    print(history_stations['_id'][i], end=' ')\n",
        "    print(r2_score(y_test, y_pred))  # 모델 정확도 출력\n",
        "    acc = model.score(x_test, y_test)\n",
        "\n",
        "    # 시각화를 위함 - df 형식으로 변환\n",
        "    y_pred = pd.DataFrame(y_pred)\n",
        "    y_test = pd.DataFrame(y_test)\n",
        "\n",
        "    # 하나의 df로 합치기\n",
        "    y_test.reset_index(inplace=True)\n",
        "    df = pd.concat([y_test, y_pred], axis=1)\n",
        "    df.columns = ['time', 'y_test', 'y_pred']\n",
        "\n",
        "    # # 시각화\n",
        "    # plt.figure(figsize=(8,6))\n",
        "    # sns.lineplot(x='time' , y='y_test', data=df)\n",
        "    # sns.lineplot(x='time' , y='y_pred', data=df)\n",
        "    # plt.xticks(rotation=50)\n",
        "    # plt.show()\n",
        "\n",
        "    # 시간 단위별 예측 df 생성\n",
        "    pre_df = pd.date_range(now.date()+ timedelta(days=1) , periods=24 , freq=\"30min\") # 30분 단위로 예측 df 만들기\n",
        "\n",
        "    pre_df = pd.DataFrame(pre_df) # 데이터 프레임 형태로 변환\n",
        "    pre_df.columns=['time'] # 열 이름 변경\n",
        "\n",
        "    pre_df['count'] = count\n",
        "\n",
        "    # 변수 추가하기\n",
        "    pre_df['time'] = pd.to_datetime(pre_df['time'])\n",
        "    pre_df['weekday'] = pre_df['time'].dt.weekday\n",
        "    pre_df['month'] = pre_df['time'].dt.month\n",
        "    pre_df['day'] = pre_df['time'].dt.day\n",
        "    pre_df['hour'] = pre_df['time'].dt.hour\n",
        "    pre_df['minute'] = pre_df['time'].dt.minute\n",
        "\n",
        "    kr_holidays = holidays.KR()\n",
        "    pre_df['holiday'] = pre_df.time.apply(lambda x: 1 if x in kr_holidays else 0)\n",
        "\n",
        "    pre_df.set_index(keys='time', inplace=True)\n",
        "\n",
        "    pre_predict = model.predict(pre_df)\n",
        "    pre_predict= np.round(pre_predict)\n",
        "\n",
        "    pre_predict = pre_predict.tolist()\n",
        "    collection = db['demand-info']\n",
        "\n",
        "    statId = history_stations['_id'][i]\n",
        "    # 해당 statId를 가진 문서 조회\n",
        "    existing_doc = collection.find_one({\"statId\": statId })\n",
        "\n",
        "    # 문서가 존재하지 않으면 새로운 문서를 추가하고 업데이트\n",
        "    if existing_doc is None:\n",
        "        new_doc = { \"statId\": statId, \"demandInfo\": { \"viewNum\": 0, \"departsIn30m\": [], \"hourlyVisitNum\": [] } }\n",
        "        result = collection.insert_one(new_doc)\n",
        "        print(\"Added new document\")\n",
        "        #time.sleep(0.1)\n",
        "\n",
        "    x = collection.update_one(\n",
        "        {\"statId\":statId},\n",
        "        {\"$set\" : {\n",
        "            'demandInfo.hourlyVisitNum' : pre_predict\n",
        "        }\n",
        "        })\n",
        "\n",
        "    return acc"
      ]
    },
    {
      "cell_type": "markdown",
      "metadata": {
        "id": "APqb3nFN1LZc"
      },
      "source": [
        "- 5/23에 새로 생겨난 충전소에 대해서 데이터가 없어서 모델을 돌릴 수 없음 => 시간 경과 자동 해결"
      ]
    },
    {
      "cell_type": "markdown",
      "metadata": {
        "id": "x1s2i6Lv1LZc"
      },
      "source": [
        "- blue = test, orange = predict"
      ]
    },
    {
      "cell_type": "code",
      "execution_count": null,
      "metadata": {
        "collapsed": true,
        "id": "VHFosV3F1LZc"
      },
      "outputs": [],
      "source": [
        "arr = []\n",
        "for i in range(len(history_stations)):\n",
        "    arr.append(run_ml(i))\n",
        "print(np.mean(arr))"
      ]
    },
    {
      "cell_type": "markdown",
      "source": [
        "# 결정계수 r2 값이 0.7이상이면 좋은 모델, 0.3 이상이면 평범한 모델로 평가"
      ],
      "metadata": {
        "id": "RBFJuYnr1LZd"
      }
    },
    {
      "cell_type": "code",
      "source": [
        "## NaN 값이 있는지 확인\n",
        "has_none_or_nan = any(x is None or (isinstance(x, float) and np.isnan(x)) for x in arr)\n",
        "print(has_none_or_nan) # nan값이 있으면 True\n",
        "\n",
        "## NaN 값이 있는 행 확인\n",
        "indices_with_none_or_nan = [i for i, x in enumerate(arr) if x is None or (isinstance(x, float) and np.isnan(x))]\n",
        "print(indices_with_none_or_nan)\n",
        "\n",
        "## NaN 값 제거\n",
        "filtered_list = [x for x in arr if x is not None and not (isinstance(x, float) and np.isnan(x))]\n",
        "print(filtered_list)"
      ],
      "metadata": {
        "id": "F58D3V3W1LZd"
      },
      "execution_count": null,
      "outputs": []
    },
    {
      "cell_type": "code",
      "source": [
        "print(min(arr))\n",
        "print(max(arr))\n",
        "print(len(arr))\n",
        "print(sum(filtered_list) / len(filtered_list))\n",
        "# arr.index(0.9711363007518797)"
      ],
      "metadata": {
        "id": "Ci6L5LIQ1LZd"
      },
      "execution_count": null,
      "outputs": []
    },
    {
      "cell_type": "markdown",
      "source": [
        "#### 머신러닝 코드 xgboost"
      ],
      "metadata": {
        "id": "fEWb3uKQs6p9"
      }
    },
    {
      "cell_type": "code",
      "source": [
        "def run_ml(i):\n",
        "    df_h = pd.DataFrame(history_stations['history'][i]) # history_chargers의 i번째 history 가져오기\n",
        "\n",
        "    # 변수 생성 (주말, 월, 일, 시간, 분) #########################\n",
        "    df_h['weekday'] = df_h['time'].dt.weekday\n",
        "    df_h['month'] = df_h['time'].dt.month\n",
        "    df_h['day'] = df_h['time'].dt.day\n",
        "    df_h['hour'] = df_h['time'].dt.hour\n",
        "    df_h['minute'] = df_h['time'].dt.minute\n",
        "\n",
        "    # 변수 생성 (공휴일)\n",
        "    kr_holidays = holidays.KR()\n",
        "    df_h['holiday'] = df_h.time.apply(lambda x: 1 if x in kr_holidays else 0)\n",
        "\n",
        "    # ml 실행을 위해 날짜를 index로 설정하기\n",
        "    df_h.set_index(keys='time', inplace=True)\n",
        "\n",
        "    # count 변수 저장하기\n",
        "    count = df_h.iloc[0, 0]\n",
        "\n",
        "    # target(예측할 열) 설정하기\n",
        "    target = 'visitNum'\n",
        "\n",
        "    # x, y 값 설정하기\n",
        "    x = df_h.drop(target, axis=1)\n",
        "    y = df_h[target]\n",
        "\n",
        "    # 데이터 샘플 수 확인 (10개 이하인 경우 예측 생략)\n",
        "    if len(df_h) <= 10:\n",
        "        return 0\n",
        "    else:\n",
        "        # 데이터가 10개 이상일 경우, 기존처럼 훈련/테스트 분할\n",
        "        x_train, x_test, y_train, y_test = train_test_split(x, y, train_size=0.7, random_state=0)\n",
        "\n",
        "\n",
        "    model = xgb.XGBRegressor(\n",
        "        eval_metric='rmse'  # 회귀에서는 r2를 사용하는 경우\n",
        "    )\n",
        "\n",
        "    model.fit(x_train, y_train) # 모델 학습\n",
        "\n",
        "    y_pred = model.predict(x_test) # 모델 예측\n",
        "    y_pred = np.round(y_pred)\n",
        "\n",
        "    print(history_stations['_id'][i], end=' ')\n",
        "    print(r2_score(y_test, y_pred))  # 모델 정확도 출력\n",
        "    acc = model.score(x_test, y_test)\n",
        "\n",
        "    # 시각화를 위함 - df 형식으로 변환\n",
        "    y_pred = pd.DataFrame(y_pred)\n",
        "    y_test = pd.DataFrame(y_test)\n",
        "\n",
        "    # 하나의 df로 합치기\n",
        "    y_test.reset_index(inplace=True)\n",
        "    df = pd.concat([y_test, y_pred], axis=1)\n",
        "    df.columns = ['time', 'y_test', 'y_pred']\n",
        "\n",
        "    # # 시각화\n",
        "    # plt.figure(figsize=(8,6))\n",
        "    # sns.lineplot(x='time' , y='y_test', data=df)\n",
        "    # sns.lineplot(x='time' , y='y_pred', data=df)\n",
        "    # plt.xticks(rotation=50)\n",
        "    # plt.show()\n",
        "\n",
        "    # 시간 단위별 예측 df 생성\n",
        "    pre_df = pd.date_range(now.date()+ timedelta(days=1) , periods=24 , freq=\"30min\") # 30분 단위로 예측 df 만들기\n",
        "\n",
        "    pre_df = pd.DataFrame(pre_df) # 데이터 프레임 형태로 변환\n",
        "    pre_df.columns=['time'] # 열 이름 변경\n",
        "\n",
        "    pre_df['count'] = count\n",
        "\n",
        "    # 변수 추가하기\n",
        "    pre_df['time'] = pd.to_datetime(pre_df['time'])\n",
        "    pre_df['weekday'] = pre_df['time'].dt.weekday\n",
        "    pre_df['month'] = pre_df['time'].dt.month\n",
        "    pre_df['day'] = pre_df['time'].dt.day\n",
        "    pre_df['hour'] = pre_df['time'].dt.hour\n",
        "    pre_df['minute'] = pre_df['time'].dt.minute\n",
        "\n",
        "    kr_holidays = holidays.KR()\n",
        "    pre_df['holiday'] = pre_df.time.apply(lambda x: 1 if x in kr_holidays else 0)\n",
        "\n",
        "    pre_df.set_index(keys='time', inplace=True)\n",
        "\n",
        "    pre_predict = model.predict(pre_df)\n",
        "    pre_predict= np.round(pre_predict)\n",
        "\n",
        "    pre_predict = pre_predict.tolist()\n",
        "    collection = db['demand-info']\n",
        "\n",
        "    statId = history_stations['_id'][i]\n",
        "    # 해당 statId를 가진 문서 조회\n",
        "    existing_doc = collection.find_one({\"statId\": statId })\n",
        "\n",
        "    # 문서가 존재하지 않으면 새로운 문서를 추가하고 업데이트\n",
        "    if existing_doc is None:\n",
        "        new_doc = { \"statId\": statId, \"demandInfo\": { \"viewNum\": 0, \"departsIn30m\": [], \"hourlyVisitNum\": [] } }\n",
        "        result = collection.insert_one(new_doc)\n",
        "        print(\"Added new document\")\n",
        "        #time.sleep(0.1)\n",
        "\n",
        "    x = collection.update_one(\n",
        "        {\"statId\":statId},\n",
        "        {\"$set\" : {\n",
        "            'demandInfo.hourlyVisitNum' : pre_predict\n",
        "        }\n",
        "        })\n",
        "\n",
        "    return acc"
      ],
      "metadata": {
        "id": "gOcWTW-_tXZ_"
      },
      "execution_count": null,
      "outputs": []
    },
    {
      "cell_type": "code",
      "source": [
        "arr = []\n",
        "for i in range(len(history_stations)):\n",
        "    arr.append(run_ml(i))\n",
        "print(np.mean(arr))"
      ],
      "metadata": {
        "id": "Hq_B4o8guuq2"
      },
      "execution_count": null,
      "outputs": []
    },
    {
      "cell_type": "markdown",
      "source": [
        "# 결정계수 r2 값이 0.7이상이면 좋은 모델, 0.3 이상이면 평범한 모델로 평가"
      ],
      "metadata": {
        "id": "UxOy-dmsuTYr"
      }
    },
    {
      "cell_type": "code",
      "source": [
        "## NaN 값이 있는지 확인\n",
        "has_none_or_nan = any(x is None or (isinstance(x, float) and np.isnan(x)) for x in arr)\n",
        "print(has_none_or_nan) # nan값이 있으면 True\n",
        "\n",
        "## NaN 값이 있는 행 확인\n",
        "indices_with_none_or_nan = [i for i, x in enumerate(arr) if x is None or (isinstance(x, float) and np.isnan(x))]\n",
        "print(indices_with_none_or_nan)\n",
        "\n",
        "## NaN 값 제거\n",
        "filtered_list = [x for x in arr if x is not None and not (isinstance(x, float) and np.isnan(x))]\n",
        "print(filtered_list)"
      ],
      "metadata": {
        "id": "_3pDvvyquTYs"
      },
      "execution_count": null,
      "outputs": []
    },
    {
      "cell_type": "code",
      "source": [
        "print(min(arr))\n",
        "print(max(arr))\n",
        "print(len(arr))\n",
        "print(sum(filtered_list) / len(filtered_list))\n",
        "# arr.index(0.9711363007518797)"
      ],
      "metadata": {
        "id": "G91XtrHYuTYs"
      },
      "execution_count": null,
      "outputs": []
    },
    {
      "cell_type": "code",
      "source": [],
      "metadata": {
        "id": "WXX4FLv33A6n"
      },
      "execution_count": null,
      "outputs": []
    },
    {
      "cell_type": "markdown",
      "metadata": {
        "id": "DFesEBBk-mqH"
      },
      "source": [
        "# 머신러닝 성능 테스트 ⭐\n",
        "(초기 0.65)\n",
        "## 평가 기준 r2(결정계수)\n",
        "## 1. RandomForestRegressor 👍👍\n",
        "## 결과: 0.7486\n",
        "## 2. LinearRegression\n",
        "## 결과: 0.2363\n",
        "## 3. LGBMRegressor\n",
        "## 결과: 0.7023\n",
        "## 4. xgboost\n",
        "## 결과: 0.6801"
      ]
    },
    {
      "cell_type": "markdown",
      "source": [
        "#### 딥러닝 돌리기(기본)"
      ],
      "metadata": {
        "id": "ARiSaIDNv5SG"
      }
    },
    {
      "cell_type": "markdown",
      "source": [
        "#### 딥러닝 코드 LSTM"
      ],
      "metadata": {
        "id": "d4kmAX-ayAZ1"
      }
    },
    {
      "cell_type": "code",
      "source": [
        "def run_ml(i):\n",
        "    df_h = pd.DataFrame(history_stations['history'][i])  # history_stations의 i번째 history 가져오기\n",
        "\n",
        "    # 변수 생성 (주말, 월, 일, 시간, 분) #########################\n",
        "    df_h['weekday'] = df_h['time'].dt.weekday\n",
        "    df_h['month'] = df_h['time'].dt.month\n",
        "    df_h['day'] = df_h['time'].dt.day\n",
        "    df_h['hour'] = df_h['time'].dt.hour\n",
        "    df_h['minute'] = df_h['time'].dt.minute\n",
        "\n",
        "    # 변수 생성 (공휴일)\n",
        "    kr_holidays = holidays.KR()\n",
        "    df_h['holiday'] = df_h.time.apply(lambda x: 1 if x in kr_holidays else 0)\n",
        "\n",
        "    # ml 실행을 위해 날짜를 index로 설정하기\n",
        "    df_h.set_index(keys='time', inplace=True)\n",
        "\n",
        "    # count 변수 저장하기\n",
        "    count = df_h.iloc[0, 0]\n",
        "\n",
        "    # target(예측할 열) 설정하기\n",
        "    target = 'visitNum'\n",
        "\n",
        "    # x, y 값 설정하기\n",
        "    x = df_h.drop(target, axis=1)\n",
        "    y = df_h[target]\n",
        "\n",
        "    # 데이터 샘플 수 확인 (10개 이하인 경우 예측 생략)\n",
        "    if len(df_h) <= 10:\n",
        "        return 0\n",
        "    else:\n",
        "        # 데이터가 10개 이상일 경우, 시계열 교차 검증 (TimeSeriesSplit)\n",
        "        tscv = TimeSeriesSplit(n_splits=5)\n",
        "        for train_index, test_index in tscv.split(x):\n",
        "            x_train, x_test = x.iloc[train_index], x.iloc[test_index]\n",
        "            y_train, y_test = y.iloc[train_index], y.iloc[test_index]\n",
        "\n",
        "        # LSTM 모델을 위한 데이터 형상 변환\n",
        "        def create_lstm_data(x, y, time_step=1):\n",
        "            X, y_lstm = [], []\n",
        "            for i in range(len(x) - time_step):\n",
        "                X.append(x.iloc[i:(i + time_step)].values)\n",
        "                y_lstm.append(y.iloc[i + time_step])\n",
        "            return np.array(X), np.array(y_lstm)\n",
        "\n",
        "        time_step = 1  # 예를 들어, 1시간 간격으로 예측\n",
        "        X_train, y_train_lstm = create_lstm_data(x_train, y_train, time_step)\n",
        "        X_test, y_test_lstm = create_lstm_data(x_test, y_test, time_step)\n",
        "\n",
        "        # LSTM 모델 정의\n",
        "        model = Sequential()\n",
        "        model.add(LSTM(units=50, return_sequences=True, input_shape=(X_train.shape[1], X_train.shape[2])))\n",
        "        model.add(Dropout(0.2))  # Dropout 레이어 추가 (과적합 방지)\n",
        "        model.add(LSTM(units=50, return_sequences=False))\n",
        "        model.add(Dropout(0.2))\n",
        "        model.add(Dense(units=1))  # 예측하려는 값은 1개 (visitNum)\n",
        "\n",
        "        model.compile(optimizer=Adam(learning_rate=0.001), loss='mean_squared_error')\n",
        "\n",
        "        # LSTM 모델 학습\n",
        "        model.fit(X_train, y_train_lstm, epochs=10, batch_size=32, verbose=1)\n",
        "\n",
        "        # 예측\n",
        "        y_pred = model.predict(X_test)\n",
        "        y_pred = np.round(y_pred)\n",
        "\n",
        "        print(history_stations['_id'][i], end=' ')\n",
        "        print(r2_score(y_test_lstm, y_pred))  # 모델 정확도 출력\n",
        "        acc = model.evaluate(X_test, y_test_lstm, verbose=0)\n",
        "\n",
        "        # 시각화를 위한 DataFrame 생성\n",
        "        y_pred_df = pd.DataFrame(y_pred)\n",
        "        y_test_df = pd.DataFrame(y_test_lstm)\n",
        "\n",
        "        # 하나의 DataFrame으로 합치기\n",
        "        y_test_df.reset_index(inplace=True)\n",
        "        df = pd.concat([y_test_df, y_pred_df], axis=1)\n",
        "        df.columns = ['time', 'y_test', 'y_pred']\n",
        "\n",
        "        # 시간 단위별 예측 DataFrame 생성\n",
        "        pre_df = pd.date_range(now.date() + timedelta(days=1), periods=24, freq=\"30min\")  # 30분 단위로 예측 df 만들기\n",
        "\n",
        "        pre_df = pd.DataFrame(pre_df)\n",
        "        pre_df.columns = ['time']  # 열 이름 변경\n",
        "\n",
        "        pre_df['count'] = count\n",
        "\n",
        "        # 변수 추가하기\n",
        "        pre_df['time'] = pd.to_datetime(pre_df['time'])\n",
        "        pre_df['weekday'] = pre_df['time'].dt.weekday\n",
        "        pre_df['month'] = pre_df['time'].dt.month\n",
        "        pre_df['day'] = pre_df['time'].dt.day\n",
        "        pre_df['hour'] = pre_df['time'].dt.hour\n",
        "        pre_df['minute'] = pre_df['time'].dt.minute\n",
        "\n",
        "        kr_holidays = holidays.KR()\n",
        "        pre_df['holiday'] = pre_df.time.apply(lambda x: 1 if x in kr_holidays else 0)\n",
        "\n",
        "        pre_df.set_index(keys='time', inplace=True)\n",
        "\n",
        "        # LSTM을 사용하여 예측\n",
        "        pre_X, _ = create_lstm_data(pre_df, pd.Series(np.zeros(len(pre_df))), time_step)\n",
        "        pre_predict = model.predict(pre_X)\n",
        "        pre_predict = np.round(pre_predict)\n",
        "\n",
        "        pre_predict = pre_predict.tolist()\n",
        "        collection = db['demand-info']\n",
        "\n",
        "        statId = history_stations['_id'][i]\n",
        "        # 해당 statId를 가진 문서 조회\n",
        "        existing_doc = collection.find_one({\"statId\": statId})\n",
        "\n",
        "        # 문서가 존재하지 않으면 새로운 문서를 추가하고 업데이트\n",
        "        if existing_doc is None:\n",
        "            new_doc = {\"statId\": statId, \"demandInfo\": {\"viewNum\": 0, \"departsIn30m\": [], \"hourlyVisitNum\": []}}\n",
        "            result = collection.insert_one(new_doc)\n",
        "            print(\"Added new document\")\n",
        "\n",
        "        collection.update_one(\n",
        "            {\"statId\": statId},\n",
        "            {\"$set\": {'demandInfo.hourlyVisitNum': pre_predict}}\n",
        "        )\n",
        "\n",
        "        return acc"
      ],
      "metadata": {
        "id": "q1LxIi4ByEaE"
      },
      "execution_count": null,
      "outputs": []
    },
    {
      "cell_type": "code",
      "source": [
        "arr = []\n",
        "for i in range(len(history_stations)):\n",
        "    arr.append(run_ml(i))\n",
        "print(np.mean(arr))"
      ],
      "metadata": {
        "id": "YelM-c4myYAx"
      },
      "execution_count": null,
      "outputs": []
    },
    {
      "cell_type": "markdown",
      "source": [
        "#### 모든 충전소 정보를 하나로 합치기 => df_all"
      ],
      "metadata": {
        "id": "734bxHC3AtLK"
      }
    },
    {
      "cell_type": "code",
      "source": [
        "# history_stations의 각 항목을 리스트로 저장\n",
        "dfs = []\n",
        "\n",
        "# 첫 번째 항목 처리\n",
        "for i in range(len(history_stations)):\n",
        "    df_temp = pd.DataFrame(history_stations['history'][i])  # history 항목을 DataFrame으로 변환\n",
        "    df_temp['_id'] = history_stations['_id'][i]  # _id 값을 추가\n",
        "    dfs.append(df_temp)  # 각 DataFrame을 리스트에 저장\n",
        "\n",
        "# 모든 DataFrame을 한 번에 concat\n",
        "df_all = pd.concat(dfs, ignore_index=True)\n",
        "\n",
        "# 결과 확인\n",
        "df_all.tail()"
      ],
      "metadata": {
        "id": "H9uRWEubBf32"
      },
      "execution_count": null,
      "outputs": []
    },
    {
      "cell_type": "markdown",
      "source": [
        "#### 임의의 날짜 변수 추가"
      ],
      "metadata": {
        "id": "nYhYiSPlDywX"
      }
    },
    {
      "cell_type": "code",
      "source": [
        "# 변수 생성 (주말, 월, 일, 시간, 분) #########################\n",
        "df_all['weekday'] = df_all['time'].dt.weekday\n",
        "df_all['month'] = df_all['time'].dt.month\n",
        "df_all['day'] = df_all['time'].dt.day\n",
        "df_all['hour'] = df_all['time'].dt.hour\n",
        "df_all['minute'] = df_all['time'].dt.minute\n",
        "\n",
        "# 변수 생성 (공휴일)\n",
        "kr_holidays = holidays.KR()\n",
        "df_all['holiday'] = df_all.time.apply(lambda x: 1 if x in kr_holidays else 0)\n",
        "\n",
        "# ml 실행을 위해 날짜를 index로 설정하기\n",
        "df_all.set_index(keys='time', inplace=True)"
      ],
      "metadata": {
        "id": "V_9hVDJSD_Nx"
      },
      "execution_count": null,
      "outputs": []
    },
    {
      "cell_type": "code",
      "source": [
        "len(df_all['_id'].value_counts())"
      ],
      "metadata": {
        "id": "geadbbpgEIn5"
      },
      "execution_count": null,
      "outputs": []
    },
    {
      "cell_type": "markdown",
      "source": [
        "#### 충전소 _id 값을 인코딩하기\n",
        "- id 값이 고유한 카테고리인데, Label Encoding은 숫자 순서가 크기를 암묵적으로 부여하기 때문에 모델이 그 사이의 숫자 차이를 학습할 수 있다.\n",
        "- 예를 들어, id 0과 id 1이 다를 뿐인데, 모델은 이 차이를 수치적으로 다르게 취급할 수 있다.\n",
        "- id 값을 0, 1, 2...와 같은 연속적인 정수로 변환하면, 모델이 이 값들 간의 순서 관계나 크기 차이를 학습할 수 있게 되는데, 이는 실제로 의미가 없을 수 있다.\n",
        "- One Hot Encoding은 충전소의 수가 2471 + α이기 때문에 변수가 너무 많이 생겨 사용할 수 없다.\n",
        "- 그러므고 가장 유용하다고 판단되는 target_encoding을 활용한다."
      ],
      "metadata": {
        "id": "H3VAJxGcEMe7"
      }
    },
    {
      "cell_type": "markdown",
      "source": [
        "#### target encoding 적용"
      ],
      "metadata": {
        "id": "DPO_Bnv_HJ6P"
      }
    },
    {
      "cell_type": "code",
      "source": [
        "# 1. 각 '_id'에 대해 target 값(visitNum)의 평균을 구하기\n",
        "target_means = df_all.groupby('_id')['visitNum'].mean()\n",
        "\n",
        "# 2. '_id' 컬럼을 해당 평균 값으로 대체하기\n",
        "df_all['id_encoded'] = df_all['_id'].map(target_means)\n",
        "\n",
        "# _id 컬럼 삭제하기\n",
        "df_all = df_all.drop('_id', axis=1)"
      ],
      "metadata": {
        "id": "UPq8zBoNF8Gd"
      },
      "execution_count": null,
      "outputs": []
    },
    {
      "cell_type": "code",
      "source": [
        "df_all.head()"
      ],
      "metadata": {
        "id": "TimYWwXYGMHm"
      },
      "execution_count": null,
      "outputs": []
    },
    {
      "cell_type": "code",
      "source": [
        "# count 변수 저장하기\n",
        "count = df_all.iloc[0, 0]\n",
        "\n",
        "# target(예측할 열) 설정하기\n",
        "target = 'visitNum'\n",
        "\n",
        "# x, y 값 설정하기\n",
        "x = df_all.drop(target, axis=1)\n",
        "y = df_all[target]\n",
        "\n",
        "\n",
        "# 데이터가 10개 이상일 경우, 기존처럼 훈련/테스트 분할\n",
        "x_train, x_test, y_train, y_test = train_test_split(x, y, train_size=0.7, random_state=0)\n",
        "\n",
        "model = RandomForestRegressor(random_state=0, n_jobs=-1)\n",
        "\n",
        "model.fit(x_train, y_train) # 모델 학습\n",
        "\n",
        "y_pred = model.predict(x_test) # 모델 예측\n",
        "y_pred = np.round(y_pred)\n",
        "\n",
        "print(r2_score(y_test, y_pred))  # 모델 정확도 출력\n",
        "acc = model.score(x_test, y_test)\n",
        "\n",
        "# 시각화를 위함 - df 형식으로 변환\n",
        "y_pred = pd.DataFrame(y_pred)\n",
        "y_test = pd.DataFrame(y_test)\n",
        "\n",
        "# 하나의 df로 합치기\n",
        "y_test.reset_index(inplace=True)\n",
        "df = pd.concat([y_test, y_pred], axis=1)\n",
        "df.columns = ['time', 'y_test', 'y_pred']"
      ],
      "metadata": {
        "id": "ip6ZuwLsGUBQ"
      },
      "execution_count": null,
      "outputs": []
    },
    {
      "cell_type": "code",
      "source": [
        "# 'y_test'와 'y_pred' 열을 비교하여 정확도 평가\n",
        "\n",
        "# R² (R-squared) 평가\n",
        "r2 = r2_score(df['y_test'], df['y_pred'])\n",
        "print(f\"R-squared: {r2:.4f}\")\n",
        "\n",
        "# MSE (Mean Squared Error) 평가\n",
        "mse = mean_squared_error(df['y_test'], df['y_pred'])\n",
        "print(f\"Mean Squared Error: {mse:.4f}\")\n",
        "\n",
        "# RMSE (Root Mean Squared Error) 평가\n",
        "rmse = mse ** 0.5\n",
        "print(f\"Root Mean Squared Error: {rmse:.4f}\")"
      ],
      "metadata": {
        "id": "0fnwpxFYLzKS"
      },
      "execution_count": null,
      "outputs": []
    },
    {
      "cell_type": "code",
      "source": [
        "# 시각화\n",
        "plt.figure(figsize=(8,6))\n",
        "sns.lineplot(x='time' , y='y_test', data=df)\n",
        "sns.lineplot(x='time' , y='y_pred', data=df)\n",
        "plt.xticks(rotation=50)\n",
        "plt.show()"
      ],
      "metadata": {
        "id": "_XmHcamectWR"
      },
      "execution_count": null,
      "outputs": []
    },
    {
      "cell_type": "code",
      "source": [
        "# 일정 간격으로 데이터 샘플링 (예: 2471개마다 하나씩 선택)\n",
        "df_resampled = df.iloc[::2471, :]\n",
        "\n",
        "plt.figure(figsize=(8,6))\n",
        "sns.lineplot(x='time', y='y_test', data=df_resampled, label='Actual')\n",
        "sns.lineplot(x='time', y='y_pred', data=df_resampled, label='Predicted')\n",
        "plt.xticks(rotation=50)\n",
        "plt.show()"
      ],
      "metadata": {
        "id": "6mgQOf9ngaTB"
      },
      "execution_count": null,
      "outputs": []
    },
    {
      "cell_type": "markdown",
      "source": [
        "#### 교차 검증으로 최적의 하이퍼파라미터를 찾고, 해당 하이퍼파라미터로 모델을 학습한 후 예측과 성능 평가를 수행하는 코드"
      ],
      "metadata": {
        "id": "oBtg6RHKHfyG"
      }
    },
    {
      "cell_type": "code",
      "source": [
        "# # count 변수 저장하기\n",
        "# count = df_all.iloc[0, 0]\n",
        "\n",
        "# # target(예측할 열) 설정하기\n",
        "# target = 'visitNum'\n",
        "\n",
        "# # x, y 값 설정하기\n",
        "# x = df_all.drop(target, axis=1)\n",
        "# y = df_all[target]\n",
        "\n",
        "# # 훈련/테스트 데이터 분할 (기존처럼)\n",
        "# x_train, x_test, y_train, y_test = train_test_split(x, y, train_size=0.7, random_state=0)\n",
        "\n",
        "# # 랜덤포레스트 모델 초기화\n",
        "# model = RandomForestRegressor(random_state=0, n_jobs=-1)\n",
        "\n",
        "# # 하이퍼파라미터 그리드 설정 (교차 검증을 위한 파라미터 범위)\n",
        "# param_grid = {\n",
        "#     'n_estimators': [50, 100, 200],    # 트리 개수\n",
        "#     'max_depth': [10, 20, 30, None],    # 트리의 최대 깊이\n",
        "#     'min_samples_split': [2, 5, 10],    # 분할할 최소 샘플 수\n",
        "#     'min_samples_leaf': [1, 2, 4],      # 리프 노드에 필요한 최소 샘플 수\n",
        "#     'max_features': ['auto', 'sqrt', 'log2'],  # 각 트리에서 선택할 특성의 수\n",
        "# }\n",
        "\n",
        "# # GridSearchCV 사용: 교차 검증을 통해 하이퍼파라미터 튜닝\n",
        "# grid_search = GridSearchCV(estimator=model, param_grid=param_grid, cv=5, scoring='r2', n_jobs=-1)\n",
        "\n",
        "# # GridSearchCV로 학습\n",
        "# grid_search.fit(x_train, y_train)\n",
        "\n",
        "# # 최적의 하이퍼파라미터 출력\n",
        "# print(\"Best parameters found: \", grid_search.best_params_)\n",
        "\n",
        "# # 최적의 모델로 예측\n",
        "# best_model = grid_search.best_estimator_\n",
        "\n",
        "# # 모델 예측\n",
        "# y_pred = best_model.predict(x_test)\n",
        "\n",
        "# # 예측 결과 반올림\n",
        "# y_pred = np.round(y_pred)\n",
        "\n",
        "# # 정확도 출력 (R2 score)\n",
        "# print(f\"R2 score: {r2_score(y_test, y_pred)}\")\n",
        "\n",
        "# # 모델 정확도 (score method)\n",
        "# acc = best_model.score(x_test, y_test)\n",
        "# print(f\"Model accuracy (R^2 score): {acc}\")\n",
        "\n",
        "# # 시각화를 위한 df 형식으로 변환\n",
        "# y_pred_df = pd.DataFrame(y_pred, columns=['y_pred'])\n",
        "# y_test_df = pd.DataFrame(y_test).reset_index(drop=True)\n",
        "\n",
        "# # 예측값과 실제값을 합치기\n",
        "# df = pd.concat([y_test_df, y_pred_df], axis=1)\n",
        "# df.columns = ['y_test', 'y_pred']\n",
        "\n",
        "# # 결과 출력\n",
        "# df.head()"
      ],
      "metadata": {
        "id": "4py2zA8gJjZO"
      },
      "execution_count": null,
      "outputs": []
    },
    {
      "cell_type": "code",
      "source": [
        "# 'y_test'와 'y_pred' 열을 비교하여 정확도 평가\n",
        "\n",
        "# R² (R-squared) 평가\n",
        "r2 = r2_score(df['y_test'], df['y_pred'])\n",
        "print(f\"R-squared: {r2:.4f}\")\n",
        "\n",
        "# MSE (Mean Squared Error) 평가\n",
        "mse = mean_squared_error(df['y_test'], df['y_pred'])\n",
        "print(f\"Mean Squared Error: {mse:.4f}\")\n",
        "\n",
        "# RMSE (Root Mean Squared Error) 평가\n",
        "rmse = mse ** 0.5\n",
        "print(f\"Root Mean Squared Error: {rmse:.4f}\")"
      ],
      "metadata": {
        "id": "2zPuQgxtMY_W"
      },
      "execution_count": null,
      "outputs": []
    },
    {
      "cell_type": "code",
      "source": [
        "# 시각화\n",
        "plt.figure(figsize=(8,6))\n",
        "sns.lineplot(x='time' , y='y_test', data=df)\n",
        "sns.lineplot(x='time' , y='y_pred', data=df)\n",
        "plt.xticks(rotation=50)\n",
        "plt.show()"
      ],
      "metadata": {
        "id": "lfpkON_1Wf9q"
      },
      "execution_count": null,
      "outputs": []
    },
    {
      "cell_type": "markdown",
      "source": [
        "#### 실제 데이터로 예측 후 MongoDB에 반영하기 🌟"
      ],
      "metadata": {
        "id": "Nq7-iYUvShXC"
      }
    },
    {
      "cell_type": "code",
      "source": [
        "def run_ml(i):\n",
        "    # 시간 단위별 예측 df 생성\n",
        "    pre_df = pd.date_range(now.date()+ timedelta(days=1) , periods=24 , freq=\"30min\") # 30분 단위로 예측 df 만들기\n",
        "\n",
        "    pre_df = pd.DataFrame(pre_df) # 데이터 프레임 형태로 변환\n",
        "    pre_df.columns=['time'] # 열 이름 변경\n",
        "\n",
        "    id = history_stations['_id'][i]\n",
        "\n",
        "    pre_df['count'] = count\n",
        "\n",
        "    # 변수 추가하기\n",
        "    pre_df['time'] = pd.to_datetime(pre_df['time'])\n",
        "    pre_df['weekday'] = pre_df['time'].dt.weekday\n",
        "    pre_df['month'] = pre_df['time'].dt.month\n",
        "    pre_df['day'] = pre_df['time'].dt.day\n",
        "    pre_df['hour'] = pre_df['time'].dt.hour\n",
        "    pre_df['minute'] = pre_df['time'].dt.minute\n",
        "\n",
        "    kr_holidays = holidays.KR()\n",
        "    pre_df['holiday'] = pre_df.time.apply(lambda x: 1 if x in kr_holidays else 0)\n",
        "\n",
        "    pre_df.set_index(keys='time', inplace=True)\n",
        "\n",
        "    #### target encoding을 사용하려고 하는데 각각 target을 i값 별로 다르기 때문에\n",
        "    pre_df['id_encoded'] = target_means.iloc[i]\n",
        "\n",
        "\n",
        "    pre_predict = model.predict(pre_df)\n",
        "    pre_predict= np.round(pre_predict)\n",
        "\n",
        "    pre_predict = pre_predict.tolist()\n",
        "    collection = db['demand-info']\n",
        "\n",
        "    statId = history_stations['_id'][i]\n",
        "    # 해당 statId를 가진 문서 조회\n",
        "\n",
        "    # print(id, statId)\n",
        "    # print(pre_predict)\n",
        "    existing_doc = collection.find_one({\"statId\": statId })\n",
        "\n",
        "    # 문서가 존재하지 않으면 새로운 문서를 추가하고 업데이트\n",
        "    if existing_doc is None:\n",
        "        new_doc = { \"statId\": statId, \"demandInfo\": { \"viewNum\": 0, \"departsIn30m\": [], \"hourlyVisitNum\": [] } }\n",
        "        result = collection.insert_one(new_doc)\n",
        "        print(\"Added new document\")\n",
        "        #time.sleep(0.1)\n",
        "\n",
        "    x = collection.update_one(\n",
        "        {\"statId\":statId},\n",
        "        {\"$set\" : {\n",
        "            'demandInfo.hourlyVisitNum' : pre_predict\n",
        "        }\n",
        "        })"
      ],
      "metadata": {
        "id": "gZAzLUpoSnQr"
      },
      "execution_count": null,
      "outputs": []
    },
    {
      "cell_type": "code",
      "source": [
        "for i in range(len(history_stations)):\n",
        "    run_ml(i)"
      ],
      "metadata": {
        "id": "f7X_Wq3-Wx_J"
      },
      "execution_count": null,
      "outputs": []
    },
    {
      "cell_type": "markdown",
      "source": [
        "#### 하나의 데이터프레임으로 합친 뒤 성능\n",
        "- RandomForestRegressor : 0.9388\n",
        "- GridSearchCV 교차 검증을 통해 최적의 하이퍼파라미터 출력한 RandomForestRegressor:"
      ],
      "metadata": {
        "id": "QFXAXMFqLgpZ"
      }
    },
    {
      "cell_type": "markdown",
      "source": [
        "#### k-means로 유사한 특징을 가진 충전소들별로 모델 따로 학습 및 적용하기"
      ],
      "metadata": {
        "id": "DwpmVXEnKZVX"
      }
    }
  ]
}