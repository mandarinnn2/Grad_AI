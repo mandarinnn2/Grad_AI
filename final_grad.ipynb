{
 "cells": [
  {
   "cell_type": "markdown",
   "metadata": {
    "id": "d375a955-0669-4323-912a-9a511df4290f"
   },
   "source": [
    "# 머신러닝 돌리기 (기본)\n",
    "### history-stations\n",
    "- 새로운 변수 추가, 튜닝 등 진행하지 않음"
   ]
  },
  {
   "cell_type": "code",
   "execution_count": 1,
   "metadata": {
    "colab": {
     "base_uri": "https://localhost:8080/"
    },
    "id": "B13NnVmFQl8o",
    "outputId": "18e3ef62-5f49-4132-8ce9-87fb0c091320"
   },
   "outputs": [
    {
     "name": "stdout",
     "output_type": "stream",
     "text": [
      "Collecting pymongo\n",
      "  Downloading pymongo-4.10.1-cp310-cp310-manylinux_2_17_x86_64.manylinux2014_x86_64.whl.metadata (22 kB)\n",
      "Collecting dnspython<3.0.0,>=1.16.0 (from pymongo)\n",
      "  Downloading dnspython-2.7.0-py3-none-any.whl.metadata (5.8 kB)\n",
      "Downloading pymongo-4.10.1-cp310-cp310-manylinux_2_17_x86_64.manylinux2014_x86_64.whl (1.4 MB)\n",
      "\u001b[2K   \u001b[90m━━━━━━━━━━━━━━━━━━━━━━━━━━━━━━━━━━━━━━━━\u001b[0m \u001b[32m1.4/1.4 MB\u001b[0m \u001b[31m28.5 MB/s\u001b[0m eta \u001b[36m0:00:00\u001b[0m\n",
      "\u001b[?25hDownloading dnspython-2.7.0-py3-none-any.whl (313 kB)\n",
      "\u001b[2K   \u001b[90m━━━━━━━━━━━━━━━━━━━━━━━━━━━━━━━━━━━━━━━━\u001b[0m \u001b[32m313.6/313.6 kB\u001b[0m \u001b[31m19.5 MB/s\u001b[0m eta \u001b[36m0:00:00\u001b[0m\n",
      "\u001b[?25hInstalling collected packages: dnspython, pymongo\n",
      "Successfully installed dnspython-2.7.0 pymongo-4.10.1\n"
     ]
    }
   ],
   "source": [
    "!pip install pymongo"
   ]
  },
  {
   "cell_type": "markdown",
   "metadata": {
    "id": "TO3exh77t3vo"
   },
   "source": [
    "#### 라이브러리 준비"
   ]
  },
  {
   "cell_type": "code",
   "execution_count": 24,
   "metadata": {
    "id": "ab8fc94d-d480-44d1-a34e-c407dc92af4a"
   },
   "outputs": [],
   "source": [
    "from sklearn.model_selection import train_test_split, GridSearchCV, KFold\n",
    "from sklearn.ensemble import RandomForestRegressor\n",
    "from sklearn.linear_model import LinearRegression\n",
    "from lightgbm import LGBMRegressor\n",
    "from sklearn.metrics import r2_score\n",
    "import xgboost as xgb\n",
    "from sklearn.cluster import KMeans\n",
    "from sklearn.preprocessing import LabelEncoder\n",
    "from sklearn.model_selection import cross_val_score\n",
    "\n",
    "import matplotlib.pyplot as plt\n",
    "import seaborn as sns\n",
    "import pandas as pd\n",
    "from pandas import json_normalize\n",
    "import numpy as np\n",
    "\n",
    "from prophet import Prophet\n",
    "import holidays\n",
    "\n",
    "from datetime import datetime, timedelta\n",
    "now = datetime.now()\n",
    "\n",
    "import tensorflow as tf\n",
    "from sklearn.model_selection import TimeSeriesSplit\n",
    "from sklearn.metrics import mean_squared_error, r2_score, mean_absolute_error\n",
    "from tensorflow.keras.models import Sequential\n",
    "from tensorflow.keras.layers import LSTM, Dense, Dropout\n",
    "from tensorflow.keras.optimizers import Adam"
   ]
  },
  {
   "cell_type": "markdown",
   "metadata": {
    "id": "APQNtd1t24aP"
   },
   "source": [
    "#### config 파일 업로드"
   ]
  },
  {
   "cell_type": "code",
   "execution_count": 4,
   "metadata": {
    "colab": {
     "base_uri": "https://localhost:8080/",
     "height": 77
    },
    "id": "2tRlfzl33HgR",
    "outputId": "e0050d8e-c4d2-4d01-fd19-43efe413ab11"
   },
   "outputs": [
    {
     "data": {
      "text/html": [
       "\n",
       "     <input type=\"file\" id=\"files-d121993d-6ee9-47e2-b66f-ce41943972cf\" name=\"files[]\" multiple disabled\n",
       "        style=\"border:none\" />\n",
       "     <output id=\"result-d121993d-6ee9-47e2-b66f-ce41943972cf\">\n",
       "      Upload widget is only available when the cell has been executed in the\n",
       "      current browser session. Please rerun this cell to enable.\n",
       "      </output>\n",
       "      <script>// Copyright 2017 Google LLC\n",
       "//\n",
       "// Licensed under the Apache License, Version 2.0 (the \"License\");\n",
       "// you may not use this file except in compliance with the License.\n",
       "// You may obtain a copy of the License at\n",
       "//\n",
       "//      http://www.apache.org/licenses/LICENSE-2.0\n",
       "//\n",
       "// Unless required by applicable law or agreed to in writing, software\n",
       "// distributed under the License is distributed on an \"AS IS\" BASIS,\n",
       "// WITHOUT WARRANTIES OR CONDITIONS OF ANY KIND, either express or implied.\n",
       "// See the License for the specific language governing permissions and\n",
       "// limitations under the License.\n",
       "\n",
       "/**\n",
       " * @fileoverview Helpers for google.colab Python module.\n",
       " */\n",
       "(function(scope) {\n",
       "function span(text, styleAttributes = {}) {\n",
       "  const element = document.createElement('span');\n",
       "  element.textContent = text;\n",
       "  for (const key of Object.keys(styleAttributes)) {\n",
       "    element.style[key] = styleAttributes[key];\n",
       "  }\n",
       "  return element;\n",
       "}\n",
       "\n",
       "// Max number of bytes which will be uploaded at a time.\n",
       "const MAX_PAYLOAD_SIZE = 100 * 1024;\n",
       "\n",
       "function _uploadFiles(inputId, outputId) {\n",
       "  const steps = uploadFilesStep(inputId, outputId);\n",
       "  const outputElement = document.getElementById(outputId);\n",
       "  // Cache steps on the outputElement to make it available for the next call\n",
       "  // to uploadFilesContinue from Python.\n",
       "  outputElement.steps = steps;\n",
       "\n",
       "  return _uploadFilesContinue(outputId);\n",
       "}\n",
       "\n",
       "// This is roughly an async generator (not supported in the browser yet),\n",
       "// where there are multiple asynchronous steps and the Python side is going\n",
       "// to poll for completion of each step.\n",
       "// This uses a Promise to block the python side on completion of each step,\n",
       "// then passes the result of the previous step as the input to the next step.\n",
       "function _uploadFilesContinue(outputId) {\n",
       "  const outputElement = document.getElementById(outputId);\n",
       "  const steps = outputElement.steps;\n",
       "\n",
       "  const next = steps.next(outputElement.lastPromiseValue);\n",
       "  return Promise.resolve(next.value.promise).then((value) => {\n",
       "    // Cache the last promise value to make it available to the next\n",
       "    // step of the generator.\n",
       "    outputElement.lastPromiseValue = value;\n",
       "    return next.value.response;\n",
       "  });\n",
       "}\n",
       "\n",
       "/**\n",
       " * Generator function which is called between each async step of the upload\n",
       " * process.\n",
       " * @param {string} inputId Element ID of the input file picker element.\n",
       " * @param {string} outputId Element ID of the output display.\n",
       " * @return {!Iterable<!Object>} Iterable of next steps.\n",
       " */\n",
       "function* uploadFilesStep(inputId, outputId) {\n",
       "  const inputElement = document.getElementById(inputId);\n",
       "  inputElement.disabled = false;\n",
       "\n",
       "  const outputElement = document.getElementById(outputId);\n",
       "  outputElement.innerHTML = '';\n",
       "\n",
       "  const pickedPromise = new Promise((resolve) => {\n",
       "    inputElement.addEventListener('change', (e) => {\n",
       "      resolve(e.target.files);\n",
       "    });\n",
       "  });\n",
       "\n",
       "  const cancel = document.createElement('button');\n",
       "  inputElement.parentElement.appendChild(cancel);\n",
       "  cancel.textContent = 'Cancel upload';\n",
       "  const cancelPromise = new Promise((resolve) => {\n",
       "    cancel.onclick = () => {\n",
       "      resolve(null);\n",
       "    };\n",
       "  });\n",
       "\n",
       "  // Wait for the user to pick the files.\n",
       "  const files = yield {\n",
       "    promise: Promise.race([pickedPromise, cancelPromise]),\n",
       "    response: {\n",
       "      action: 'starting',\n",
       "    }\n",
       "  };\n",
       "\n",
       "  cancel.remove();\n",
       "\n",
       "  // Disable the input element since further picks are not allowed.\n",
       "  inputElement.disabled = true;\n",
       "\n",
       "  if (!files) {\n",
       "    return {\n",
       "      response: {\n",
       "        action: 'complete',\n",
       "      }\n",
       "    };\n",
       "  }\n",
       "\n",
       "  for (const file of files) {\n",
       "    const li = document.createElement('li');\n",
       "    li.append(span(file.name, {fontWeight: 'bold'}));\n",
       "    li.append(span(\n",
       "        `(${file.type || 'n/a'}) - ${file.size} bytes, ` +\n",
       "        `last modified: ${\n",
       "            file.lastModifiedDate ? file.lastModifiedDate.toLocaleDateString() :\n",
       "                                    'n/a'} - `));\n",
       "    const percent = span('0% done');\n",
       "    li.appendChild(percent);\n",
       "\n",
       "    outputElement.appendChild(li);\n",
       "\n",
       "    const fileDataPromise = new Promise((resolve) => {\n",
       "      const reader = new FileReader();\n",
       "      reader.onload = (e) => {\n",
       "        resolve(e.target.result);\n",
       "      };\n",
       "      reader.readAsArrayBuffer(file);\n",
       "    });\n",
       "    // Wait for the data to be ready.\n",
       "    let fileData = yield {\n",
       "      promise: fileDataPromise,\n",
       "      response: {\n",
       "        action: 'continue',\n",
       "      }\n",
       "    };\n",
       "\n",
       "    // Use a chunked sending to avoid message size limits. See b/62115660.\n",
       "    let position = 0;\n",
       "    do {\n",
       "      const length = Math.min(fileData.byteLength - position, MAX_PAYLOAD_SIZE);\n",
       "      const chunk = new Uint8Array(fileData, position, length);\n",
       "      position += length;\n",
       "\n",
       "      const base64 = btoa(String.fromCharCode.apply(null, chunk));\n",
       "      yield {\n",
       "        response: {\n",
       "          action: 'append',\n",
       "          file: file.name,\n",
       "          data: base64,\n",
       "        },\n",
       "      };\n",
       "\n",
       "      let percentDone = fileData.byteLength === 0 ?\n",
       "          100 :\n",
       "          Math.round((position / fileData.byteLength) * 100);\n",
       "      percent.textContent = `${percentDone}% done`;\n",
       "\n",
       "    } while (position < fileData.byteLength);\n",
       "  }\n",
       "\n",
       "  // All done.\n",
       "  yield {\n",
       "    response: {\n",
       "      action: 'complete',\n",
       "    }\n",
       "  };\n",
       "}\n",
       "\n",
       "scope.google = scope.google || {};\n",
       "scope.google.colab = scope.google.colab || {};\n",
       "scope.google.colab._files = {\n",
       "  _uploadFiles,\n",
       "  _uploadFilesContinue,\n",
       "};\n",
       "})(self);\n",
       "</script> "
      ],
      "text/plain": [
       "<IPython.core.display.HTML object>"
      ]
     },
     "metadata": {},
     "output_type": "display_data"
    },
    {
     "name": "stdout",
     "output_type": "stream",
     "text": [
      "Saving config.txt to config.txt\n"
     ]
    }
   ],
   "source": [
    "from google.colab import files\n",
    "\n",
    "# 파일 업로드\n",
    "uploaded = files.upload()"
   ]
  },
  {
   "cell_type": "markdown",
   "metadata": {
    "id": "5yqkAytk2PR9"
   },
   "source": [
    "#### config.txt 파일에서 MongoDB 정보 가져오기"
   ]
  },
  {
   "cell_type": "code",
   "execution_count": 5,
   "metadata": {
    "id": "NBA9vra32Vme"
   },
   "outputs": [],
   "source": [
    "# config.txt 파일에서 MongoDB 정보 읽기\n",
    "config = {}\n",
    "\n",
    "# config.txt 파일을 읽어서 정보 가져오기\n",
    "with open('config.txt', 'r') as file:\n",
    "    for line in file:\n",
    "        # 줄에서 공백을 제거하고 '=' 기준으로 나누어 키-값 형태로 저장\n",
    "        key, value = line.strip().split('=')\n",
    "        config[key] = value\n",
    "\n",
    "# config.txt에서 가져온 정보로 MongoDB 연결\n",
    "mongo_uri = config.get('MONGO_URI')\n",
    "db_pw = int(config.get('PW'))\n",
    "collection_name = config.get('COLLECTION_NAME')"
   ]
  },
  {
   "cell_type": "markdown",
   "metadata": {
    "id": "cNPDRsKQt8xJ"
   },
   "source": [
    "#### 방문자수 데이터 데이터 프레임 변환"
   ]
  },
  {
   "cell_type": "code",
   "execution_count": 6,
   "metadata": {
    "id": "93f9d138-4e6f-48a9-9883-52cb7f7dad47"
   },
   "outputs": [],
   "source": [
    "from pymongo import MongoClient\n",
    "\n",
    "# 데이터가 저장된 MongoDB의 주소\n",
    "client = MongoClient(mongo_uri, db_pw)\n",
    "\n",
    "# db를 저장하기\n",
    "db = client.crawling\n",
    "\n",
    "collection = db[collection_name]\n",
    "\n",
    "# collection에 저장된 데이터를 데이터프레임으로 변환 및 저장\n",
    "rows = collection.find()\n",
    "history_stations = []\n",
    "for row in rows:\n",
    "    history_stations.append(row)\n",
    "\n",
    "history_stations = pd.DataFrame(history_stations)"
   ]
  },
  {
   "cell_type": "markdown",
   "metadata": {
    "id": "crBZI11S7mIG"
   },
   "source": [
    "#### 그룹화된 충전소 데이터 데이터 프레임 변환"
   ]
  },
  {
   "cell_type": "code",
   "execution_count": 7,
   "metadata": {
    "id": "Of0JOtkg7elz"
   },
   "outputs": [],
   "source": [
    "from pymongo import MongoClient\n",
    "\n",
    "# 데이터가 저장된 MongoDB의 주소\n",
    "client = MongoClient(mongo_uri, db_pw)\n",
    "\n",
    "# db를 저장하기\n",
    "db = client.crawling\n",
    "\n",
    "collection = db['grouped-chargers']\n",
    "\n",
    "# collection에 저장된 데이터를 데이터프레임으로 변환 및 저장\n",
    "rows = collection.find()\n",
    "grouped_chargers = []\n",
    "for row in rows:\n",
    "    grouped_chargers.append(row)\n",
    "\n",
    "grouped_chargers = pd.DataFrame(grouped_chargers)"
   ]
  },
  {
   "cell_type": "markdown",
   "metadata": {
    "id": "yr40leIKuBSk"
   },
   "source": [
    "#### 머신러닝 코드 RandomForestRegressor"
   ]
  },
  {
   "cell_type": "code",
   "execution_count": null,
   "metadata": {
    "id": "dd481307-2c2b-4e04-b773-f6befc67e004"
   },
   "outputs": [],
   "source": [
    "def run_ml(i):\n",
    "    df_h = pd.DataFrame(history_stations['history'][i]) # history_chargers의 i번째 history 가져오기\n",
    "\n",
    "    # 변수 생성 (주말, 월, 일, 시간, 분) #########################\n",
    "    df_h['weekday'] = df_h['time'].dt.weekday\n",
    "    df_h['month'] = df_h['time'].dt.month\n",
    "    df_h['day'] = df_h['time'].dt.day\n",
    "    df_h['hour'] = df_h['time'].dt.hour\n",
    "    df_h['minute'] = df_h['time'].dt.minute\n",
    "\n",
    "    # 변수 생성 (공휴일)\n",
    "    kr_holidays = holidays.KR()\n",
    "    df_h['holiday'] = df_h.time.apply(lambda x: 1 if x in kr_holidays else 0)\n",
    "\n",
    "    # ml 실행을 위해 날짜를 index로 설정하기\n",
    "    df_h.set_index(keys='time', inplace=True)\n",
    "\n",
    "    # count 변수 저장하기\n",
    "    count = df_h.iloc[0, 0]\n",
    "\n",
    "    # target(예측할 열) 설정하기\n",
    "    target = 'visitNum'\n",
    "\n",
    "    # x, y 값 설정하기\n",
    "    x = df_h.drop(target, axis=1)\n",
    "    y = df_h[target]\n",
    "\n",
    "    # 데이터 샘플 수 확인 (10개 이하인 경우 예측 생략)\n",
    "    if len(df_h) <= 10:\n",
    "        return 0\n",
    "    else:\n",
    "        # 데이터가 10개 이상일 경우, 기존처럼 훈련/테스트 분할\n",
    "        x_train, x_test, y_train, y_test = train_test_split(x, y, train_size=0.7, random_state=0)\n",
    "\n",
    "\n",
    "    model = RandomForestRegressor(random_state=0)\n",
    "\n",
    "    model.fit(x_train, y_train) # 모델 학습\n",
    "\n",
    "    y_pred = model.predict(x_test) # 모델 예측\n",
    "    y_pred = np.round(y_pred)\n",
    "\n",
    "    print(history_stations['_id'][i], end=' ')\n",
    "    print(r2_score(y_test, y_pred))  # 모델 정확도 출력\n",
    "    acc = model.score(x_test, y_test)\n",
    "\n",
    "    # 시각화를 위함 - df 형식으로 변환\n",
    "    y_pred = pd.DataFrame(y_pred)\n",
    "    y_test = pd.DataFrame(y_test)\n",
    "\n",
    "    # 하나의 df로 합치기\n",
    "    y_test.reset_index(inplace=True)\n",
    "    df = pd.concat([y_test, y_pred], axis=1)\n",
    "    df.columns = ['time', 'y_test', 'y_pred']\n",
    "\n",
    "    # # 시각화\n",
    "    # plt.figure(figsize=(8,6))\n",
    "    # sns.lineplot(x='time' , y='y_test', data=df)\n",
    "    # sns.lineplot(x='time' , y='y_pred', data=df)\n",
    "    # plt.xticks(rotation=50)\n",
    "    # plt.show()\n",
    "\n",
    "    # 시간 단위별 예측 df 생성\n",
    "    pre_df = pd.date_range(now.date()+ timedelta(days=1) , periods=24 , freq=\"30min\") # 30분 단위로 예측 df 만들기\n",
    "\n",
    "    pre_df = pd.DataFrame(pre_df) # 데이터 프레임 형태로 변환\n",
    "    pre_df.columns=['time'] # 열 이름 변경\n",
    "\n",
    "    pre_df['count'] = count\n",
    "\n",
    "    # 변수 추가하기\n",
    "    pre_df['time'] = pd.to_datetime(pre_df['time'])\n",
    "    pre_df['weekday'] = pre_df['time'].dt.weekday\n",
    "    pre_df['month'] = pre_df['time'].dt.month\n",
    "    pre_df['day'] = pre_df['time'].dt.day\n",
    "    pre_df['hour'] = pre_df['time'].dt.hour\n",
    "    pre_df['minute'] = pre_df['time'].dt.minute\n",
    "\n",
    "    kr_holidays = holidays.KR()\n",
    "    pre_df['holiday'] = pre_df.time.apply(lambda x: 1 if x in kr_holidays else 0)\n",
    "\n",
    "    pre_df.set_index(keys='time', inplace=True)\n",
    "\n",
    "    # print(pre_df)\n",
    "    pre_predict = model.predict(pre_df)\n",
    "    pre_predict= np.round(pre_predict)\n",
    "    # print(pre_predict)\n",
    "\n",
    "    pre_predict = pre_predict.tolist()\n",
    "    collection = db['demand-info']\n",
    "\n",
    "    statId = history_stations['_id'][i]\n",
    "    # 해당 statId를 가진 문서 조회\n",
    "    existing_doc = collection.find_one({\"statId\": statId })\n",
    "\n",
    "    # 문서가 존재하지 않으면 새로운 문서를 추가하고 업데이트\n",
    "    if existing_doc is None:\n",
    "        new_doc = { \"statId\": statId, \"demandInfo\": { \"viewNum\": 0, \"departsIn30m\": [], \"hourlyVisitNum\": [] } }\n",
    "        result = collection.insert_one(new_doc)\n",
    "        print(\"Added new document\")\n",
    "        #time.sleep(0.1)\n",
    "\n",
    "    x = collection.update_one(\n",
    "        {\"statId\":statId},\n",
    "        {\"$set\" : {\n",
    "            'demandInfo.hourlyVisitNum' : pre_predict\n",
    "        }\n",
    "        })\n",
    "\n",
    "    return acc"
   ]
  },
  {
   "cell_type": "markdown",
   "metadata": {
    "id": "5ad2d5b8-9f5e-4832-a9f1-a80bf790a098"
   },
   "source": [
    "- 5/23에 새로 생겨난 충전소에 대해서 데이터가 없어서 모델을 돌릴 수 없음 => 시간 경과 자동 해결"
   ]
  },
  {
   "cell_type": "markdown",
   "metadata": {
    "id": "3a988697-21ce-4246-af83-97e9ea6b4e60"
   },
   "source": [
    "- blue = test, orange = predict"
   ]
  },
  {
   "cell_type": "code",
   "execution_count": null,
   "metadata": {
    "collapsed": true,
    "id": "4b5c3b40-d5ef-46a7-9389-97c163daa6fe"
   },
   "outputs": [],
   "source": [
    "arr = []\n",
    "for i in range(len(history_stations)):\n",
    "    arr.append(run_ml(i))\n",
    "print(np.mean(arr))"
   ]
  },
  {
   "cell_type": "markdown",
   "metadata": {
    "id": "5H-0AGjAlaym"
   },
   "source": [
    "# 결정계수 r2 값이 0.7이상이면 좋은 모델, 0.3 이상이면 평범한 모델로 평가"
   ]
  },
  {
   "cell_type": "code",
   "execution_count": null,
   "metadata": {
    "id": "NUV3QOFUe1hy"
   },
   "outputs": [],
   "source": [
    "## NaN 값이 있는지 확인\n",
    "has_none_or_nan = any(x is None or (isinstance(x, float) and np.isnan(x)) for x in arr)\n",
    "print(has_none_or_nan) # nan값이 있으면 True\n",
    "\n",
    "## NaN 값이 있는 행 확인\n",
    "indices_with_none_or_nan = [i for i, x in enumerate(arr) if x is None or (isinstance(x, float) and np.isnan(x))]\n",
    "print(indices_with_none_or_nan)\n",
    "\n",
    "## NaN 값 제거\n",
    "filtered_list = [x for x in arr if x is not None and not (isinstance(x, float) and np.isnan(x))]\n",
    "print(filtered_list)"
   ]
  },
  {
   "cell_type": "code",
   "execution_count": null,
   "metadata": {
    "id": "oxrl72eIb1S6"
   },
   "outputs": [],
   "source": [
    "print(min(arr))\n",
    "print(max(arr))\n",
    "print(len(arr))\n",
    "print(sum(filtered_list) / len(filtered_list))\n",
    "# arr.index(0.9711363007518797)"
   ]
  },
  {
   "cell_type": "markdown",
   "metadata": {
    "id": "PqUSM-o_z__P"
   },
   "source": [
    "#### 머신러닝 코드 LinearRegression"
   ]
  },
  {
   "cell_type": "code",
   "execution_count": null,
   "metadata": {
    "id": "Km2JqXFwz__P"
   },
   "outputs": [],
   "source": [
    "def run_ml(i):\n",
    "    df_h = pd.DataFrame(history_stations['history'][i]) # history_chargers의 i번째 history 가져오기\n",
    "\n",
    "    # 변수 생성 (주말, 월, 일, 시간, 분) #########################\n",
    "    df_h['weekday'] = df_h['time'].dt.weekday\n",
    "    df_h['month'] = df_h['time'].dt.month\n",
    "    df_h['day'] = df_h['time'].dt.day\n",
    "    df_h['hour'] = df_h['time'].dt.hour\n",
    "    df_h['minute'] = df_h['time'].dt.minute\n",
    "\n",
    "    # 변수 생성 (공휴일)\n",
    "    kr_holidays = holidays.KR()\n",
    "    df_h['holiday'] = df_h.time.apply(lambda x: 1 if x in kr_holidays else 0)\n",
    "\n",
    "    # ml 실행을 위해 날짜를 index로 설정하기\n",
    "    df_h.set_index(keys='time', inplace=True)\n",
    "\n",
    "    # count 변수 저장하기\n",
    "    count = df_h.iloc[0, 0]\n",
    "\n",
    "    # target(예측할 열) 설정하기\n",
    "    target = 'visitNum'\n",
    "\n",
    "    # x, y 값 설정하기\n",
    "    x = df_h.drop(target, axis=1)\n",
    "    y = df_h[target]\n",
    "\n",
    "    # 데이터 샘플 수 확인 (10개 이하인 경우 예측 생략)\n",
    "    if len(df_h) <= 10:\n",
    "        return 0\n",
    "    else:\n",
    "        # 데이터가 10개 이상일 경우, 기존처럼 훈련/테스트 분할\n",
    "        x_train, x_test, y_train, y_test = train_test_split(x, y, train_size=0.7, random_state=0)\n",
    "\n",
    "\n",
    "    model = LinearRegression()\n",
    "\n",
    "    model.fit(x_train, y_train) # 모델 학습\n",
    "\n",
    "    y_pred = model.predict(x_test) # 모델 예측\n",
    "    y_pred = np.round(y_pred)\n",
    "\n",
    "    print(history_stations['_id'][i], end=' ')\n",
    "    print(r2_score(y_test, y_pred))  # 모델 정확도 출력\n",
    "    acc = model.score(x_test, y_test)\n",
    "\n",
    "    # 시각화를 위함 - df 형식으로 변환\n",
    "    y_pred = pd.DataFrame(y_pred)\n",
    "    y_test = pd.DataFrame(y_test)\n",
    "\n",
    "    # 하나의 df로 합치기\n",
    "    y_test.reset_index(inplace=True)\n",
    "    df = pd.concat([y_test, y_pred], axis=1)\n",
    "    df.columns = ['time', 'y_test', 'y_pred']\n",
    "\n",
    "    # # 시각화\n",
    "    # plt.figure(figsize=(8,6))\n",
    "    # sns.lineplot(x='time' , y='y_test', data=df)\n",
    "    # sns.lineplot(x='time' , y='y_pred', data=df)\n",
    "    # plt.xticks(rotation=50)\n",
    "    # plt.show()\n",
    "\n",
    "    # 시간 단위별 예측 df 생성\n",
    "    pre_df = pd.date_range(now.date()+ timedelta(days=1) , periods=24 , freq=\"30min\") # 30분 단위로 예측 df 만들기\n",
    "\n",
    "    pre_df = pd.DataFrame(pre_df) # 데이터 프레임 형태로 변환\n",
    "    pre_df.columns=['time'] # 열 이름 변경\n",
    "\n",
    "    pre_df['count'] = count\n",
    "\n",
    "    # 변수 추가하기\n",
    "    pre_df['time'] = pd.to_datetime(pre_df['time'])\n",
    "    pre_df['weekday'] = pre_df['time'].dt.weekday\n",
    "    pre_df['month'] = pre_df['time'].dt.month\n",
    "    pre_df['day'] = pre_df['time'].dt.day\n",
    "    pre_df['hour'] = pre_df['time'].dt.hour\n",
    "    pre_df['minute'] = pre_df['time'].dt.minute\n",
    "\n",
    "    kr_holidays = holidays.KR()\n",
    "    pre_df['holiday'] = pre_df.time.apply(lambda x: 1 if x in kr_holidays else 0)\n",
    "\n",
    "    pre_df.set_index(keys='time', inplace=True)\n",
    "\n",
    "    pre_predict = model.predict(pre_df)\n",
    "    pre_predict= np.round(pre_predict)\n",
    "\n",
    "    pre_predict = pre_predict.tolist()\n",
    "    collection = db['demand-info']\n",
    "\n",
    "    statId = history_stations['_id'][i]\n",
    "    # 해당 statId를 가진 문서 조회\n",
    "    existing_doc = collection.find_one({\"statId\": statId })\n",
    "\n",
    "    # 문서가 존재하지 않으면 새로운 문서를 추가하고 업데이트\n",
    "    if existing_doc is None:\n",
    "        new_doc = { \"statId\": statId, \"demandInfo\": { \"viewNum\": 0, \"departsIn30m\": [], \"hourlyVisitNum\": [] } }\n",
    "        result = collection.insert_one(new_doc)\n",
    "        print(\"Added new document\")\n",
    "        #time.sleep(0.1)\n",
    "\n",
    "    x = collection.update_one(\n",
    "        {\"statId\":statId},\n",
    "        {\"$set\" : {\n",
    "            'demandInfo.hourlyVisitNum' : pre_predict\n",
    "        }\n",
    "        })\n",
    "\n",
    "    return acc"
   ]
  },
  {
   "cell_type": "markdown",
   "metadata": {
    "id": "ZrOxpeXIz__Q"
   },
   "source": [
    "- 5/23에 새로 생겨난 충전소에 대해서 데이터가 없어서 모델을 돌릴 수 없음 => 시간 경과 자동 해결"
   ]
  },
  {
   "cell_type": "markdown",
   "metadata": {
    "id": "NbBjFqTdz__Q"
   },
   "source": [
    "- blue = test, orange = predict"
   ]
  },
  {
   "cell_type": "code",
   "execution_count": null,
   "metadata": {
    "collapsed": true,
    "id": "DNdo4_m2z__Q"
   },
   "outputs": [],
   "source": [
    "arr = []\n",
    "for i in range(len(history_stations)):\n",
    "    arr.append(run_ml(i))\n",
    "print(np.mean(arr))"
   ]
  },
  {
   "cell_type": "markdown",
   "metadata": {
    "id": "nGVWXsRpz__R"
   },
   "source": [
    "# 결정계수 r2 값이 0.7이상이면 좋은 모델, 0.3 이상이면 평범한 모델로 평가"
   ]
  },
  {
   "cell_type": "code",
   "execution_count": null,
   "metadata": {
    "id": "eoboHGzVz__R"
   },
   "outputs": [],
   "source": [
    "## NaN 값이 있는지 확인\n",
    "has_none_or_nan = any(x is None or (isinstance(x, float) and np.isnan(x)) for x in arr)\n",
    "print(has_none_or_nan) # nan값이 있으면 True\n",
    "\n",
    "## NaN 값이 있는 행 확인\n",
    "indices_with_none_or_nan = [i for i, x in enumerate(arr) if x is None or (isinstance(x, float) and np.isnan(x))]\n",
    "print(indices_with_none_or_nan)\n",
    "\n",
    "## NaN 값 제거\n",
    "filtered_list = [x for x in arr if x is not None and not (isinstance(x, float) and np.isnan(x))]\n",
    "print(filtered_list)"
   ]
  },
  {
   "cell_type": "code",
   "execution_count": null,
   "metadata": {
    "id": "KDYu3x2Wz__R"
   },
   "outputs": [],
   "source": [
    "print(min(arr))\n",
    "print(max(arr))\n",
    "print(len(arr))\n",
    "print(sum(filtered_list) / len(filtered_list))\n",
    "# arr.index(0.9711363007518797)"
   ]
  },
  {
   "cell_type": "markdown",
   "metadata": {
    "id": "BYiAjhZh1LZb"
   },
   "source": [
    "#### 머신러닝 코드 LGBMRegressor"
   ]
  },
  {
   "cell_type": "code",
   "execution_count": null,
   "metadata": {
    "id": "maJN01OU1LZc"
   },
   "outputs": [],
   "source": [
    "def run_ml(i):\n",
    "    df_h = pd.DataFrame(history_stations['history'][i]) # history_chargers의 i번째 history 가져오기\n",
    "\n",
    "    # 변수 생성 (주말, 월, 일, 시간, 분) #########################\n",
    "    df_h['weekday'] = df_h['time'].dt.weekday\n",
    "    df_h['month'] = df_h['time'].dt.month\n",
    "    df_h['day'] = df_h['time'].dt.day\n",
    "    df_h['hour'] = df_h['time'].dt.hour\n",
    "    df_h['minute'] = df_h['time'].dt.minute\n",
    "\n",
    "    # 변수 생성 (공휴일)\n",
    "    kr_holidays = holidays.KR()\n",
    "    df_h['holiday'] = df_h.time.apply(lambda x: 1 if x in kr_holidays else 0)\n",
    "\n",
    "    # ml 실행을 위해 날짜를 index로 설정하기\n",
    "    df_h.set_index(keys='time', inplace=True)\n",
    "\n",
    "    # count 변수 저장하기\n",
    "    count = df_h.iloc[0, 0]\n",
    "\n",
    "    # target(예측할 열) 설정하기\n",
    "    target = 'visitNum'\n",
    "\n",
    "    # x, y 값 설정하기\n",
    "    x = df_h.drop(target, axis=1)\n",
    "    y = df_h[target]\n",
    "\n",
    "    # 데이터 샘플 수 확인 (10개 이하인 경우 예측 생략)\n",
    "    if len(df_h) <= 10:\n",
    "        return 0\n",
    "    else:\n",
    "        # 데이터가 10개 이상일 경우, 기존처럼 훈련/테스트 분할\n",
    "        x_train, x_test, y_train, y_test = train_test_split(x, y, train_size=0.7, random_state=0)\n",
    "\n",
    "\n",
    "    model = LGBMRegressor(random_state=0, verbose=-1)\n",
    "\n",
    "    model.fit(x_train, y_train) # 모델 학습\n",
    "\n",
    "    y_pred = model.predict(x_test) # 모델 예측\n",
    "    y_pred = np.round(y_pred)\n",
    "\n",
    "    print(history_stations['_id'][i], end=' ')\n",
    "    print(r2_score(y_test, y_pred))  # 모델 정확도 출력\n",
    "    acc = model.score(x_test, y_test)\n",
    "\n",
    "    # 시각화를 위함 - df 형식으로 변환\n",
    "    y_pred = pd.DataFrame(y_pred)\n",
    "    y_test = pd.DataFrame(y_test)\n",
    "\n",
    "    # 하나의 df로 합치기\n",
    "    y_test.reset_index(inplace=True)\n",
    "    df = pd.concat([y_test, y_pred], axis=1)\n",
    "    df.columns = ['time', 'y_test', 'y_pred']\n",
    "\n",
    "    # # 시각화\n",
    "    # plt.figure(figsize=(8,6))\n",
    "    # sns.lineplot(x='time' , y='y_test', data=df)\n",
    "    # sns.lineplot(x='time' , y='y_pred', data=df)\n",
    "    # plt.xticks(rotation=50)\n",
    "    # plt.show()\n",
    "\n",
    "    # 시간 단위별 예측 df 생성\n",
    "    pre_df = pd.date_range(now.date()+ timedelta(days=1) , periods=24 , freq=\"30min\") # 30분 단위로 예측 df 만들기\n",
    "\n",
    "    pre_df = pd.DataFrame(pre_df) # 데이터 프레임 형태로 변환\n",
    "    pre_df.columns=['time'] # 열 이름 변경\n",
    "\n",
    "    pre_df['count'] = count\n",
    "\n",
    "    # 변수 추가하기\n",
    "    pre_df['time'] = pd.to_datetime(pre_df['time'])\n",
    "    pre_df['weekday'] = pre_df['time'].dt.weekday\n",
    "    pre_df['month'] = pre_df['time'].dt.month\n",
    "    pre_df['day'] = pre_df['time'].dt.day\n",
    "    pre_df['hour'] = pre_df['time'].dt.hour\n",
    "    pre_df['minute'] = pre_df['time'].dt.minute\n",
    "\n",
    "    kr_holidays = holidays.KR()\n",
    "    pre_df['holiday'] = pre_df.time.apply(lambda x: 1 if x in kr_holidays else 0)\n",
    "\n",
    "    pre_df.set_index(keys='time', inplace=True)\n",
    "\n",
    "    pre_predict = model.predict(pre_df)\n",
    "    pre_predict= np.round(pre_predict)\n",
    "\n",
    "    pre_predict = pre_predict.tolist()\n",
    "    collection = db['demand-info']\n",
    "\n",
    "    statId = history_stations['_id'][i]\n",
    "    # 해당 statId를 가진 문서 조회\n",
    "    existing_doc = collection.find_one({\"statId\": statId })\n",
    "\n",
    "    # 문서가 존재하지 않으면 새로운 문서를 추가하고 업데이트\n",
    "    if existing_doc is None:\n",
    "        new_doc = { \"statId\": statId, \"demandInfo\": { \"viewNum\": 0, \"departsIn30m\": [], \"hourlyVisitNum\": [] } }\n",
    "        result = collection.insert_one(new_doc)\n",
    "        print(\"Added new document\")\n",
    "        #time.sleep(0.1)\n",
    "\n",
    "    x = collection.update_one(\n",
    "        {\"statId\":statId},\n",
    "        {\"$set\" : {\n",
    "            'demandInfo.hourlyVisitNum' : pre_predict\n",
    "        }\n",
    "        })\n",
    "\n",
    "    return acc"
   ]
  },
  {
   "cell_type": "markdown",
   "metadata": {
    "id": "APqb3nFN1LZc"
   },
   "source": [
    "- 5/23에 새로 생겨난 충전소에 대해서 데이터가 없어서 모델을 돌릴 수 없음 => 시간 경과 자동 해결"
   ]
  },
  {
   "cell_type": "markdown",
   "metadata": {
    "id": "x1s2i6Lv1LZc"
   },
   "source": [
    "- blue = test, orange = predict"
   ]
  },
  {
   "cell_type": "code",
   "execution_count": null,
   "metadata": {
    "collapsed": true,
    "id": "VHFosV3F1LZc"
   },
   "outputs": [],
   "source": [
    "arr = []\n",
    "for i in range(len(history_stations)):\n",
    "    arr.append(run_ml(i))\n",
    "print(np.mean(arr))"
   ]
  },
  {
   "cell_type": "markdown",
   "metadata": {
    "id": "RBFJuYnr1LZd"
   },
   "source": [
    "# 결정계수 r2 값이 0.7이상이면 좋은 모델, 0.3 이상이면 평범한 모델로 평가"
   ]
  },
  {
   "cell_type": "code",
   "execution_count": null,
   "metadata": {
    "id": "F58D3V3W1LZd"
   },
   "outputs": [],
   "source": [
    "## NaN 값이 있는지 확인\n",
    "has_none_or_nan = any(x is None or (isinstance(x, float) and np.isnan(x)) for x in arr)\n",
    "print(has_none_or_nan) # nan값이 있으면 True\n",
    "\n",
    "## NaN 값이 있는 행 확인\n",
    "indices_with_none_or_nan = [i for i, x in enumerate(arr) if x is None or (isinstance(x, float) and np.isnan(x))]\n",
    "print(indices_with_none_or_nan)\n",
    "\n",
    "## NaN 값 제거\n",
    "filtered_list = [x for x in arr if x is not None and not (isinstance(x, float) and np.isnan(x))]\n",
    "print(filtered_list)"
   ]
  },
  {
   "cell_type": "code",
   "execution_count": null,
   "metadata": {
    "id": "Ci6L5LIQ1LZd"
   },
   "outputs": [],
   "source": [
    "print(min(arr))\n",
    "print(max(arr))\n",
    "print(len(arr))\n",
    "print(sum(filtered_list) / len(filtered_list))\n",
    "# arr.index(0.9711363007518797)"
   ]
  },
  {
   "cell_type": "markdown",
   "metadata": {
    "id": "fEWb3uKQs6p9"
   },
   "source": [
    "#### 머신러닝 코드 xgboost"
   ]
  },
  {
   "cell_type": "code",
   "execution_count": null,
   "metadata": {
    "id": "gOcWTW-_tXZ_"
   },
   "outputs": [],
   "source": [
    "def run_ml(i):\n",
    "    df_h = pd.DataFrame(history_stations['history'][i]) # history_chargers의 i번째 history 가져오기\n",
    "\n",
    "    # 변수 생성 (주말, 월, 일, 시간, 분) #########################\n",
    "    df_h['weekday'] = df_h['time'].dt.weekday\n",
    "    df_h['month'] = df_h['time'].dt.month\n",
    "    df_h['day'] = df_h['time'].dt.day\n",
    "    df_h['hour'] = df_h['time'].dt.hour\n",
    "    df_h['minute'] = df_h['time'].dt.minute\n",
    "\n",
    "    # 변수 생성 (공휴일)\n",
    "    kr_holidays = holidays.KR()\n",
    "    df_h['holiday'] = df_h.time.apply(lambda x: 1 if x in kr_holidays else 0)\n",
    "\n",
    "    # ml 실행을 위해 날짜를 index로 설정하기\n",
    "    df_h.set_index(keys='time', inplace=True)\n",
    "\n",
    "    # count 변수 저장하기\n",
    "    count = df_h.iloc[0, 0]\n",
    "\n",
    "    # target(예측할 열) 설정하기\n",
    "    target = 'visitNum'\n",
    "\n",
    "    # x, y 값 설정하기\n",
    "    x = df_h.drop(target, axis=1)\n",
    "    y = df_h[target]\n",
    "\n",
    "    # 데이터 샘플 수 확인 (10개 이하인 경우 예측 생략)\n",
    "    if len(df_h) <= 10:\n",
    "        return 0\n",
    "    else:\n",
    "        # 데이터가 10개 이상일 경우, 기존처럼 훈련/테스트 분할\n",
    "        x_train, x_test, y_train, y_test = train_test_split(x, y, train_size=0.7, random_state=0)\n",
    "\n",
    "\n",
    "    model = xgb.XGBRegressor(\n",
    "        eval_metric='rmse'  # 회귀에서는 r2를 사용하는 경우\n",
    "    )\n",
    "\n",
    "    model.fit(x_train, y_train) # 모델 학습\n",
    "\n",
    "    y_pred = model.predict(x_test) # 모델 예측\n",
    "    y_pred = np.round(y_pred)\n",
    "\n",
    "    print(history_stations['_id'][i], end=' ')\n",
    "    print(r2_score(y_test, y_pred))  # 모델 정확도 출력\n",
    "    acc = model.score(x_test, y_test)\n",
    "\n",
    "    # 시각화를 위함 - df 형식으로 변환\n",
    "    y_pred = pd.DataFrame(y_pred)\n",
    "    y_test = pd.DataFrame(y_test)\n",
    "\n",
    "    # 하나의 df로 합치기\n",
    "    y_test.reset_index(inplace=True)\n",
    "    df = pd.concat([y_test, y_pred], axis=1)\n",
    "    df.columns = ['time', 'y_test', 'y_pred']\n",
    "\n",
    "    # # 시각화\n",
    "    # plt.figure(figsize=(8,6))\n",
    "    # sns.lineplot(x='time' , y='y_test', data=df)\n",
    "    # sns.lineplot(x='time' , y='y_pred', data=df)\n",
    "    # plt.xticks(rotation=50)\n",
    "    # plt.show()\n",
    "\n",
    "    # 시간 단위별 예측 df 생성\n",
    "    pre_df = pd.date_range(now.date()+ timedelta(days=1) , periods=24 , freq=\"30min\") # 30분 단위로 예측 df 만들기\n",
    "\n",
    "    pre_df = pd.DataFrame(pre_df) # 데이터 프레임 형태로 변환\n",
    "    pre_df.columns=['time'] # 열 이름 변경\n",
    "\n",
    "    pre_df['count'] = count\n",
    "\n",
    "    # 변수 추가하기\n",
    "    pre_df['time'] = pd.to_datetime(pre_df['time'])\n",
    "    pre_df['weekday'] = pre_df['time'].dt.weekday\n",
    "    pre_df['month'] = pre_df['time'].dt.month\n",
    "    pre_df['day'] = pre_df['time'].dt.day\n",
    "    pre_df['hour'] = pre_df['time'].dt.hour\n",
    "    pre_df['minute'] = pre_df['time'].dt.minute\n",
    "\n",
    "    kr_holidays = holidays.KR()\n",
    "    pre_df['holiday'] = pre_df.time.apply(lambda x: 1 if x in kr_holidays else 0)\n",
    "\n",
    "    pre_df.set_index(keys='time', inplace=True)\n",
    "\n",
    "    pre_predict = model.predict(pre_df)\n",
    "    pre_predict= np.round(pre_predict)\n",
    "\n",
    "    pre_predict = pre_predict.tolist()\n",
    "    collection = db['demand-info']\n",
    "\n",
    "    statId = history_stations['_id'][i]\n",
    "    # 해당 statId를 가진 문서 조회\n",
    "    existing_doc = collection.find_one({\"statId\": statId })\n",
    "\n",
    "    # 문서가 존재하지 않으면 새로운 문서를 추가하고 업데이트\n",
    "    if existing_doc is None:\n",
    "        new_doc = { \"statId\": statId, \"demandInfo\": { \"viewNum\": 0, \"departsIn30m\": [], \"hourlyVisitNum\": [] } }\n",
    "        result = collection.insert_one(new_doc)\n",
    "        print(\"Added new document\")\n",
    "        #time.sleep(0.1)\n",
    "\n",
    "    x = collection.update_one(\n",
    "        {\"statId\":statId},\n",
    "        {\"$set\" : {\n",
    "            'demandInfo.hourlyVisitNum' : pre_predict\n",
    "        }\n",
    "        })\n",
    "\n",
    "    return acc"
   ]
  },
  {
   "cell_type": "code",
   "execution_count": null,
   "metadata": {
    "id": "Hq_B4o8guuq2"
   },
   "outputs": [],
   "source": [
    "arr = []\n",
    "for i in range(len(history_stations)):\n",
    "    arr.append(run_ml(i))\n",
    "print(np.mean(arr))"
   ]
  },
  {
   "cell_type": "markdown",
   "metadata": {
    "id": "UxOy-dmsuTYr"
   },
   "source": [
    "# 결정계수 r2 값이 0.7이상이면 좋은 모델, 0.3 이상이면 평범한 모델로 평가"
   ]
  },
  {
   "cell_type": "code",
   "execution_count": null,
   "metadata": {
    "id": "_3pDvvyquTYs"
   },
   "outputs": [],
   "source": [
    "## NaN 값이 있는지 확인\n",
    "has_none_or_nan = any(x is None or (isinstance(x, float) and np.isnan(x)) for x in arr)\n",
    "print(has_none_or_nan) # nan값이 있으면 True\n",
    "\n",
    "## NaN 값이 있는 행 확인\n",
    "indices_with_none_or_nan = [i for i, x in enumerate(arr) if x is None or (isinstance(x, float) and np.isnan(x))]\n",
    "print(indices_with_none_or_nan)\n",
    "\n",
    "## NaN 값 제거\n",
    "filtered_list = [x for x in arr if x is not None and not (isinstance(x, float) and np.isnan(x))]\n",
    "print(filtered_list)"
   ]
  },
  {
   "cell_type": "code",
   "execution_count": null,
   "metadata": {
    "id": "G91XtrHYuTYs"
   },
   "outputs": [],
   "source": [
    "print(min(arr))\n",
    "print(max(arr))\n",
    "print(len(arr))\n",
    "print(sum(filtered_list) / len(filtered_list))\n",
    "# arr.index(0.9711363007518797)"
   ]
  },
  {
   "cell_type": "code",
   "execution_count": null,
   "metadata": {
    "id": "WXX4FLv33A6n"
   },
   "outputs": [],
   "source": []
  },
  {
   "cell_type": "markdown",
   "metadata": {
    "id": "DFesEBBk-mqH"
   },
   "source": [
    "# 머신러닝 성능 테스트 ⭐\n",
    "(초기 0.65)\n",
    "## 평가 기준 r2(결정계수)\n",
    "## 1. RandomForestRegressor 👍👍\n",
    "## 결과: 0.7486\n",
    "## 2. LinearRegression\n",
    "## 결과: 0.2363\n",
    "## 3. LGBMRegressor\n",
    "## 결과: 0.7023\n",
    "## 4. xgboost\n",
    "## 결과: 0.6801"
   ]
  },
  {
   "cell_type": "markdown",
   "metadata": {
    "id": "ARiSaIDNv5SG"
   },
   "source": [
    "#### 딥러닝 돌리기(기본)"
   ]
  },
  {
   "cell_type": "markdown",
   "metadata": {
    "id": "d4kmAX-ayAZ1"
   },
   "source": [
    "#### 딥러닝 코드 LSTM"
   ]
  },
  {
   "cell_type": "code",
   "execution_count": null,
   "metadata": {
    "id": "q1LxIi4ByEaE"
   },
   "outputs": [],
   "source": [
    "def run_ml(i):\n",
    "    df_h = pd.DataFrame(history_stations['history'][i])  # history_stations의 i번째 history 가져오기\n",
    "\n",
    "    # 변수 생성 (주말, 월, 일, 시간, 분) #########################\n",
    "    df_h['weekday'] = df_h['time'].dt.weekday\n",
    "    df_h['month'] = df_h['time'].dt.month\n",
    "    df_h['day'] = df_h['time'].dt.day\n",
    "    df_h['hour'] = df_h['time'].dt.hour\n",
    "    df_h['minute'] = df_h['time'].dt.minute\n",
    "\n",
    "    # 변수 생성 (공휴일)\n",
    "    kr_holidays = holidays.KR()\n",
    "    df_h['holiday'] = df_h.time.apply(lambda x: 1 if x in kr_holidays else 0)\n",
    "\n",
    "    # ml 실행을 위해 날짜를 index로 설정하기\n",
    "    df_h.set_index(keys='time', inplace=True)\n",
    "\n",
    "    # count 변수 저장하기\n",
    "    count = df_h.iloc[0, 0]\n",
    "\n",
    "    # target(예측할 열) 설정하기\n",
    "    target = 'visitNum'\n",
    "\n",
    "    # x, y 값 설정하기\n",
    "    x = df_h.drop(target, axis=1)\n",
    "    y = df_h[target]\n",
    "\n",
    "    # 데이터 샘플 수 확인 (10개 이하인 경우 예측 생략)\n",
    "    if len(df_h) <= 10:\n",
    "        return 0\n",
    "    else:\n",
    "        # 데이터가 10개 이상일 경우, 시계열 교차 검증 (TimeSeriesSplit)\n",
    "        tscv = TimeSeriesSplit(n_splits=5)\n",
    "        for train_index, test_index in tscv.split(x):\n",
    "            x_train, x_test = x.iloc[train_index], x.iloc[test_index]\n",
    "            y_train, y_test = y.iloc[train_index], y.iloc[test_index]\n",
    "\n",
    "        # LSTM 모델을 위한 데이터 형상 변환\n",
    "        def create_lstm_data(x, y, time_step=1):\n",
    "            X, y_lstm = [], []\n",
    "            for i in range(len(x) - time_step):\n",
    "                X.append(x.iloc[i:(i + time_step)].values)\n",
    "                y_lstm.append(y.iloc[i + time_step])\n",
    "            return np.array(X), np.array(y_lstm)\n",
    "\n",
    "        time_step = 1  # 예를 들어, 1시간 간격으로 예측\n",
    "        X_train, y_train_lstm = create_lstm_data(x_train, y_train, time_step)\n",
    "        X_test, y_test_lstm = create_lstm_data(x_test, y_test, time_step)\n",
    "\n",
    "        # LSTM 모델 정의\n",
    "        model = Sequential()\n",
    "        model.add(LSTM(units=50, return_sequences=True, input_shape=(X_train.shape[1], X_train.shape[2])))\n",
    "        model.add(Dropout(0.2))  # Dropout 레이어 추가 (과적합 방지)\n",
    "        model.add(LSTM(units=50, return_sequences=False))\n",
    "        model.add(Dropout(0.2))\n",
    "        model.add(Dense(units=1))  # 예측하려는 값은 1개 (visitNum)\n",
    "\n",
    "        model.compile(optimizer=Adam(learning_rate=0.001), loss='mean_squared_error')\n",
    "\n",
    "        # LSTM 모델 학습\n",
    "        model.fit(X_train, y_train_lstm, epochs=10, batch_size=32, verbose=1)\n",
    "\n",
    "        # 예측\n",
    "        y_pred = model.predict(X_test)\n",
    "        y_pred = np.round(y_pred)\n",
    "\n",
    "        print(history_stations['_id'][i], end=' ')\n",
    "        print(r2_score(y_test_lstm, y_pred))  # 모델 정확도 출력\n",
    "        acc = model.evaluate(X_test, y_test_lstm, verbose=0)\n",
    "\n",
    "        # 시각화를 위한 DataFrame 생성\n",
    "        y_pred_df = pd.DataFrame(y_pred)\n",
    "        y_test_df = pd.DataFrame(y_test_lstm)\n",
    "\n",
    "        # 하나의 DataFrame으로 합치기\n",
    "        y_test_df.reset_index(inplace=True)\n",
    "        df = pd.concat([y_test_df, y_pred_df], axis=1)\n",
    "        df.columns = ['time', 'y_test', 'y_pred']\n",
    "\n",
    "        # 시간 단위별 예측 DataFrame 생성\n",
    "        pre_df = pd.date_range(now.date() + timedelta(days=1), periods=24, freq=\"30min\")  # 30분 단위로 예측 df 만들기\n",
    "\n",
    "        pre_df = pd.DataFrame(pre_df)\n",
    "        pre_df.columns = ['time']  # 열 이름 변경\n",
    "\n",
    "        pre_df['count'] = count\n",
    "\n",
    "        # 변수 추가하기\n",
    "        pre_df['time'] = pd.to_datetime(pre_df['time'])\n",
    "        pre_df['weekday'] = pre_df['time'].dt.weekday\n",
    "        pre_df['month'] = pre_df['time'].dt.month\n",
    "        pre_df['day'] = pre_df['time'].dt.day\n",
    "        pre_df['hour'] = pre_df['time'].dt.hour\n",
    "        pre_df['minute'] = pre_df['time'].dt.minute\n",
    "\n",
    "        kr_holidays = holidays.KR()\n",
    "        pre_df['holiday'] = pre_df.time.apply(lambda x: 1 if x in kr_holidays else 0)\n",
    "\n",
    "        pre_df.set_index(keys='time', inplace=True)\n",
    "\n",
    "        # LSTM을 사용하여 예측\n",
    "        pre_X, _ = create_lstm_data(pre_df, pd.Series(np.zeros(len(pre_df))), time_step)\n",
    "        pre_predict = model.predict(pre_X)\n",
    "        pre_predict = np.round(pre_predict)\n",
    "\n",
    "        pre_predict = pre_predict.tolist()\n",
    "        collection = db['demand-info']\n",
    "\n",
    "        statId = history_stations['_id'][i]\n",
    "        # 해당 statId를 가진 문서 조회\n",
    "        existing_doc = collection.find_one({\"statId\": statId})\n",
    "\n",
    "        # 문서가 존재하지 않으면 새로운 문서를 추가하고 업데이트\n",
    "        if existing_doc is None:\n",
    "            new_doc = {\"statId\": statId, \"demandInfo\": {\"viewNum\": 0, \"departsIn30m\": [], \"hourlyVisitNum\": []}}\n",
    "            result = collection.insert_one(new_doc)\n",
    "            print(\"Added new document\")\n",
    "\n",
    "        collection.update_one(\n",
    "            {\"statId\": statId},\n",
    "            {\"$set\": {'demandInfo.hourlyVisitNum': pre_predict}}\n",
    "        )\n",
    "\n",
    "        return acc"
   ]
  },
  {
   "cell_type": "code",
   "execution_count": null,
   "metadata": {
    "id": "YelM-c4myYAx"
   },
   "outputs": [],
   "source": [
    "arr = []\n",
    "for i in range(len(history_stations)):\n",
    "    arr.append(run_ml(i))\n",
    "print(np.mean(arr))"
   ]
  },
  {
   "cell_type": "markdown",
   "metadata": {
    "id": "734bxHC3AtLK"
   },
   "source": [
    "#### 모든 충전소 정보를 하나로 합치기 => df_all"
   ]
  },
  {
   "cell_type": "code",
   "execution_count": 8,
   "metadata": {
    "colab": {
     "base_uri": "https://localhost:8080/",
     "height": 206
    },
    "id": "H9uRWEubBf32",
    "outputId": "43ac61cb-8b11-4be7-d992-be32ee240c30"
   },
   "outputs": [
    {
     "data": {
      "application/vnd.google.colaboratory.intrinsic+json": {
       "summary": "{\n  \"name\": \"df_all\",\n  \"rows\": 5,\n  \"fields\": [\n    {\n      \"column\": \"time\",\n      \"properties\": {\n        \"dtype\": \"date\",\n        \"min\": \"2024-11-19 09:00:00\",\n        \"max\": \"2024-11-19 11:00:00\",\n        \"num_unique_values\": 5,\n        \"samples\": [\n          \"2024-11-19 09:30:00\",\n          \"2024-11-19 11:00:00\",\n          \"2024-11-19 10:00:00\"\n        ],\n        \"semantic_type\": \"\",\n        \"description\": \"\"\n      }\n    },\n    {\n      \"column\": \"count\",\n      \"properties\": {\n        \"dtype\": \"number\",\n        \"std\": 0,\n        \"min\": 2,\n        \"max\": 2,\n        \"num_unique_values\": 1,\n        \"samples\": [\n          2\n        ],\n        \"semantic_type\": \"\",\n        \"description\": \"\"\n      }\n    },\n    {\n      \"column\": \"visitNum\",\n      \"properties\": {\n        \"dtype\": \"number\",\n        \"std\": 0,\n        \"min\": 0,\n        \"max\": 0,\n        \"num_unique_values\": 1,\n        \"samples\": [\n          0\n        ],\n        \"semantic_type\": \"\",\n        \"description\": \"\"\n      }\n    },\n    {\n      \"column\": \"_id\",\n      \"properties\": {\n        \"dtype\": \"category\",\n        \"num_unique_values\": 1,\n        \"samples\": [\n          \"VTE30004\"\n        ],\n        \"semantic_type\": \"\",\n        \"description\": \"\"\n      }\n    }\n  ]\n}",
       "type": "dataframe"
      },
      "text/html": [
       "\n",
       "  <div id=\"df-42cc4201-a7c9-4534-a2db-2efef3b22e9e\" class=\"colab-df-container\">\n",
       "    <div>\n",
       "<style scoped>\n",
       "    .dataframe tbody tr th:only-of-type {\n",
       "        vertical-align: middle;\n",
       "    }\n",
       "\n",
       "    .dataframe tbody tr th {\n",
       "        vertical-align: top;\n",
       "    }\n",
       "\n",
       "    .dataframe thead th {\n",
       "        text-align: right;\n",
       "    }\n",
       "</style>\n",
       "<table border=\"1\" class=\"dataframe\">\n",
       "  <thead>\n",
       "    <tr style=\"text-align: right;\">\n",
       "      <th></th>\n",
       "      <th>time</th>\n",
       "      <th>count</th>\n",
       "      <th>visitNum</th>\n",
       "      <th>_id</th>\n",
       "    </tr>\n",
       "  </thead>\n",
       "  <tbody>\n",
       "    <tr>\n",
       "      <th>2969406</th>\n",
       "      <td>2024-11-19 09:00:00</td>\n",
       "      <td>2</td>\n",
       "      <td>0</td>\n",
       "      <td>VTE30004</td>\n",
       "    </tr>\n",
       "    <tr>\n",
       "      <th>2969407</th>\n",
       "      <td>2024-11-19 09:30:00</td>\n",
       "      <td>2</td>\n",
       "      <td>0</td>\n",
       "      <td>VTE30004</td>\n",
       "    </tr>\n",
       "    <tr>\n",
       "      <th>2969408</th>\n",
       "      <td>2024-11-19 10:00:00</td>\n",
       "      <td>2</td>\n",
       "      <td>0</td>\n",
       "      <td>VTE30004</td>\n",
       "    </tr>\n",
       "    <tr>\n",
       "      <th>2969409</th>\n",
       "      <td>2024-11-19 10:30:00</td>\n",
       "      <td>2</td>\n",
       "      <td>0</td>\n",
       "      <td>VTE30004</td>\n",
       "    </tr>\n",
       "    <tr>\n",
       "      <th>2969410</th>\n",
       "      <td>2024-11-19 11:00:00</td>\n",
       "      <td>2</td>\n",
       "      <td>0</td>\n",
       "      <td>VTE30004</td>\n",
       "    </tr>\n",
       "  </tbody>\n",
       "</table>\n",
       "</div>\n",
       "    <div class=\"colab-df-buttons\">\n",
       "\n",
       "  <div class=\"colab-df-container\">\n",
       "    <button class=\"colab-df-convert\" onclick=\"convertToInteractive('df-42cc4201-a7c9-4534-a2db-2efef3b22e9e')\"\n",
       "            title=\"Convert this dataframe to an interactive table.\"\n",
       "            style=\"display:none;\">\n",
       "\n",
       "  <svg xmlns=\"http://www.w3.org/2000/svg\" height=\"24px\" viewBox=\"0 -960 960 960\">\n",
       "    <path d=\"M120-120v-720h720v720H120Zm60-500h600v-160H180v160Zm220 220h160v-160H400v160Zm0 220h160v-160H400v160ZM180-400h160v-160H180v160Zm440 0h160v-160H620v160ZM180-180h160v-160H180v160Zm440 0h160v-160H620v160Z\"/>\n",
       "  </svg>\n",
       "    </button>\n",
       "\n",
       "  <style>\n",
       "    .colab-df-container {\n",
       "      display:flex;\n",
       "      gap: 12px;\n",
       "    }\n",
       "\n",
       "    .colab-df-convert {\n",
       "      background-color: #E8F0FE;\n",
       "      border: none;\n",
       "      border-radius: 50%;\n",
       "      cursor: pointer;\n",
       "      display: none;\n",
       "      fill: #1967D2;\n",
       "      height: 32px;\n",
       "      padding: 0 0 0 0;\n",
       "      width: 32px;\n",
       "    }\n",
       "\n",
       "    .colab-df-convert:hover {\n",
       "      background-color: #E2EBFA;\n",
       "      box-shadow: 0px 1px 2px rgba(60, 64, 67, 0.3), 0px 1px 3px 1px rgba(60, 64, 67, 0.15);\n",
       "      fill: #174EA6;\n",
       "    }\n",
       "\n",
       "    .colab-df-buttons div {\n",
       "      margin-bottom: 4px;\n",
       "    }\n",
       "\n",
       "    [theme=dark] .colab-df-convert {\n",
       "      background-color: #3B4455;\n",
       "      fill: #D2E3FC;\n",
       "    }\n",
       "\n",
       "    [theme=dark] .colab-df-convert:hover {\n",
       "      background-color: #434B5C;\n",
       "      box-shadow: 0px 1px 3px 1px rgba(0, 0, 0, 0.15);\n",
       "      filter: drop-shadow(0px 1px 2px rgba(0, 0, 0, 0.3));\n",
       "      fill: #FFFFFF;\n",
       "    }\n",
       "  </style>\n",
       "\n",
       "    <script>\n",
       "      const buttonEl =\n",
       "        document.querySelector('#df-42cc4201-a7c9-4534-a2db-2efef3b22e9e button.colab-df-convert');\n",
       "      buttonEl.style.display =\n",
       "        google.colab.kernel.accessAllowed ? 'block' : 'none';\n",
       "\n",
       "      async function convertToInteractive(key) {\n",
       "        const element = document.querySelector('#df-42cc4201-a7c9-4534-a2db-2efef3b22e9e');\n",
       "        const dataTable =\n",
       "          await google.colab.kernel.invokeFunction('convertToInteractive',\n",
       "                                                    [key], {});\n",
       "        if (!dataTable) return;\n",
       "\n",
       "        const docLinkHtml = 'Like what you see? Visit the ' +\n",
       "          '<a target=\"_blank\" href=https://colab.research.google.com/notebooks/data_table.ipynb>data table notebook</a>'\n",
       "          + ' to learn more about interactive tables.';\n",
       "        element.innerHTML = '';\n",
       "        dataTable['output_type'] = 'display_data';\n",
       "        await google.colab.output.renderOutput(dataTable, element);\n",
       "        const docLink = document.createElement('div');\n",
       "        docLink.innerHTML = docLinkHtml;\n",
       "        element.appendChild(docLink);\n",
       "      }\n",
       "    </script>\n",
       "  </div>\n",
       "\n",
       "\n",
       "<div id=\"df-fad105f2-530f-4586-aa40-a1a9e00c2874\">\n",
       "  <button class=\"colab-df-quickchart\" onclick=\"quickchart('df-fad105f2-530f-4586-aa40-a1a9e00c2874')\"\n",
       "            title=\"Suggest charts\"\n",
       "            style=\"display:none;\">\n",
       "\n",
       "<svg xmlns=\"http://www.w3.org/2000/svg\" height=\"24px\"viewBox=\"0 0 24 24\"\n",
       "     width=\"24px\">\n",
       "    <g>\n",
       "        <path d=\"M19 3H5c-1.1 0-2 .9-2 2v14c0 1.1.9 2 2 2h14c1.1 0 2-.9 2-2V5c0-1.1-.9-2-2-2zM9 17H7v-7h2v7zm4 0h-2V7h2v10zm4 0h-2v-4h2v4z\"/>\n",
       "    </g>\n",
       "</svg>\n",
       "  </button>\n",
       "\n",
       "<style>\n",
       "  .colab-df-quickchart {\n",
       "      --bg-color: #E8F0FE;\n",
       "      --fill-color: #1967D2;\n",
       "      --hover-bg-color: #E2EBFA;\n",
       "      --hover-fill-color: #174EA6;\n",
       "      --disabled-fill-color: #AAA;\n",
       "      --disabled-bg-color: #DDD;\n",
       "  }\n",
       "\n",
       "  [theme=dark] .colab-df-quickchart {\n",
       "      --bg-color: #3B4455;\n",
       "      --fill-color: #D2E3FC;\n",
       "      --hover-bg-color: #434B5C;\n",
       "      --hover-fill-color: #FFFFFF;\n",
       "      --disabled-bg-color: #3B4455;\n",
       "      --disabled-fill-color: #666;\n",
       "  }\n",
       "\n",
       "  .colab-df-quickchart {\n",
       "    background-color: var(--bg-color);\n",
       "    border: none;\n",
       "    border-radius: 50%;\n",
       "    cursor: pointer;\n",
       "    display: none;\n",
       "    fill: var(--fill-color);\n",
       "    height: 32px;\n",
       "    padding: 0;\n",
       "    width: 32px;\n",
       "  }\n",
       "\n",
       "  .colab-df-quickchart:hover {\n",
       "    background-color: var(--hover-bg-color);\n",
       "    box-shadow: 0 1px 2px rgba(60, 64, 67, 0.3), 0 1px 3px 1px rgba(60, 64, 67, 0.15);\n",
       "    fill: var(--button-hover-fill-color);\n",
       "  }\n",
       "\n",
       "  .colab-df-quickchart-complete:disabled,\n",
       "  .colab-df-quickchart-complete:disabled:hover {\n",
       "    background-color: var(--disabled-bg-color);\n",
       "    fill: var(--disabled-fill-color);\n",
       "    box-shadow: none;\n",
       "  }\n",
       "\n",
       "  .colab-df-spinner {\n",
       "    border: 2px solid var(--fill-color);\n",
       "    border-color: transparent;\n",
       "    border-bottom-color: var(--fill-color);\n",
       "    animation:\n",
       "      spin 1s steps(1) infinite;\n",
       "  }\n",
       "\n",
       "  @keyframes spin {\n",
       "    0% {\n",
       "      border-color: transparent;\n",
       "      border-bottom-color: var(--fill-color);\n",
       "      border-left-color: var(--fill-color);\n",
       "    }\n",
       "    20% {\n",
       "      border-color: transparent;\n",
       "      border-left-color: var(--fill-color);\n",
       "      border-top-color: var(--fill-color);\n",
       "    }\n",
       "    30% {\n",
       "      border-color: transparent;\n",
       "      border-left-color: var(--fill-color);\n",
       "      border-top-color: var(--fill-color);\n",
       "      border-right-color: var(--fill-color);\n",
       "    }\n",
       "    40% {\n",
       "      border-color: transparent;\n",
       "      border-right-color: var(--fill-color);\n",
       "      border-top-color: var(--fill-color);\n",
       "    }\n",
       "    60% {\n",
       "      border-color: transparent;\n",
       "      border-right-color: var(--fill-color);\n",
       "    }\n",
       "    80% {\n",
       "      border-color: transparent;\n",
       "      border-right-color: var(--fill-color);\n",
       "      border-bottom-color: var(--fill-color);\n",
       "    }\n",
       "    90% {\n",
       "      border-color: transparent;\n",
       "      border-bottom-color: var(--fill-color);\n",
       "    }\n",
       "  }\n",
       "</style>\n",
       "\n",
       "  <script>\n",
       "    async function quickchart(key) {\n",
       "      const quickchartButtonEl =\n",
       "        document.querySelector('#' + key + ' button');\n",
       "      quickchartButtonEl.disabled = true;  // To prevent multiple clicks.\n",
       "      quickchartButtonEl.classList.add('colab-df-spinner');\n",
       "      try {\n",
       "        const charts = await google.colab.kernel.invokeFunction(\n",
       "            'suggestCharts', [key], {});\n",
       "      } catch (error) {\n",
       "        console.error('Error during call to suggestCharts:', error);\n",
       "      }\n",
       "      quickchartButtonEl.classList.remove('colab-df-spinner');\n",
       "      quickchartButtonEl.classList.add('colab-df-quickchart-complete');\n",
       "    }\n",
       "    (() => {\n",
       "      let quickchartButtonEl =\n",
       "        document.querySelector('#df-fad105f2-530f-4586-aa40-a1a9e00c2874 button');\n",
       "      quickchartButtonEl.style.display =\n",
       "        google.colab.kernel.accessAllowed ? 'block' : 'none';\n",
       "    })();\n",
       "  </script>\n",
       "</div>\n",
       "\n",
       "    </div>\n",
       "  </div>\n"
      ],
      "text/plain": [
       "                       time  count  visitNum       _id\n",
       "2969406 2024-11-19 09:00:00      2         0  VTE30004\n",
       "2969407 2024-11-19 09:30:00      2         0  VTE30004\n",
       "2969408 2024-11-19 10:00:00      2         0  VTE30004\n",
       "2969409 2024-11-19 10:30:00      2         0  VTE30004\n",
       "2969410 2024-11-19 11:00:00      2         0  VTE30004"
      ]
     },
     "execution_count": 8,
     "metadata": {},
     "output_type": "execute_result"
    }
   ],
   "source": [
    "# history_stations의 각 항목을 리스트로 저장\n",
    "dfs = []\n",
    "\n",
    "# 첫 번째 항목 처리\n",
    "for i in range(len(history_stations)):\n",
    "    df_temp = pd.DataFrame(history_stations['history'][i])  # history 항목을 DataFrame으로 변환\n",
    "    df_temp['_id'] = history_stations['_id'][i]  # _id 값을 추가\n",
    "    dfs.append(df_temp)  # 각 DataFrame을 리스트에 저장\n",
    "\n",
    "# 모든 DataFrame을 한 번에 concat\n",
    "df_all = pd.concat(dfs, ignore_index=True)\n",
    "\n",
    "# 결과 확인\n",
    "df_all.tail()"
   ]
  },
  {
   "cell_type": "markdown",
   "metadata": {
    "id": "nYhYiSPlDywX"
   },
   "source": [
    "#### 임의의 날짜 변수 추가"
   ]
  },
  {
   "cell_type": "code",
   "execution_count": 9,
   "metadata": {
    "id": "V_9hVDJSD_Nx"
   },
   "outputs": [],
   "source": [
    "# 변수 생성 (주말, 월, 일, 시간, 분) #########################\n",
    "df_all['weekday'] = df_all['time'].dt.weekday\n",
    "df_all['month'] = df_all['time'].dt.month\n",
    "df_all['day'] = df_all['time'].dt.day\n",
    "df_all['hour'] = df_all['time'].dt.hour\n",
    "df_all['minute'] = df_all['time'].dt.minute\n",
    "\n",
    "# 변수 생성 (공휴일)\n",
    "kr_holidays = holidays.KR()\n",
    "df_all['holiday'] = df_all.time.apply(lambda x: 1 if x in kr_holidays else 0)\n",
    "\n",
    "\n",
    "# ml 실행을 위해 날짜를 index로 설정하기\n",
    "df_all.set_index(keys='time', inplace=True)"
   ]
  },
  {
   "cell_type": "code",
   "execution_count": 10,
   "metadata": {
    "colab": {
     "base_uri": "https://localhost:8080/"
    },
    "id": "geadbbpgEIn5",
    "outputId": "c8ed5186-8360-4aed-8345-b5770b89f5cd"
   },
   "outputs": [
    {
     "data": {
      "text/plain": [
       "2477"
      ]
     },
     "execution_count": 10,
     "metadata": {},
     "output_type": "execute_result"
    }
   ],
   "source": [
    "len(df_all['_id'].value_counts())"
   ]
  },
  {
   "cell_type": "markdown",
   "metadata": {
    "id": "H3VAJxGcEMe7"
   },
   "source": [
    "#### 충전소 _id 값을 인코딩하기\n",
    "- id 값이 고유한 카테고리인데, Label Encoding은 숫자 순서가 크기를 암묵적으로 부여하기 때문에 모델이 그 사이의 숫자 차이를 학습할 수 있다.\n",
    "- 예를 들어, id 0과 id 1이 다를 뿐인데, 모델은 이 차이를 수치적으로 다르게 취급할 수 있다.\n",
    "- id 값을 0, 1, 2...와 같은 연속적인 정수로 변환하면, 모델이 이 값들 간의 순서 관계나 크기 차이를 학습할 수 있게 되는데, 이는 실제로 의미가 없을 수 있다.\n",
    "- One Hot Encoding은 충전소의 수가 2471 + α이기 때문에 변수가 너무 많이 생겨 사용할 수 없다.\n",
    "- 그러므고 가장 유용하다고 판단되는 target_encoding을 활용한다."
   ]
  },
  {
   "cell_type": "code",
   "execution_count": 11,
   "metadata": {
    "id": "aDSX4BHfkrXj"
   },
   "outputs": [],
   "source": [
    "df_all['organization'] = df_all['_id'].astype(str).str[:2]"
   ]
  },
  {
   "cell_type": "code",
   "execution_count": 12,
   "metadata": {
    "id": "DSFA-q9vnwcp"
   },
   "outputs": [],
   "source": [
    "# 1. LabelEncoder 객체 생성\n",
    "label_encoder = LabelEncoder()\n",
    "\n",
    "# 2. 'organization' 컬럼을 라벨 인코딩하여 'org_encoded' 컬럼에 저장\n",
    "df_all['org_encoded'] = label_encoder.fit_transform(df_all['organization'])\n",
    "\n",
    "# 3. 'organization' 컬럼 삭제하기\n",
    "df_all = df_all.drop('organization', axis=1)"
   ]
  },
  {
   "cell_type": "markdown",
   "metadata": {
    "id": "DPO_Bnv_HJ6P"
   },
   "source": [
    "#### target encoding 적용"
   ]
  },
  {
   "cell_type": "code",
   "execution_count": 13,
   "metadata": {
    "id": "UPq8zBoNF8Gd"
   },
   "outputs": [],
   "source": [
    "# 1. 각 '_id'에 대해 target 값(visitNum)의 평균을 구하기\n",
    "target_means = df_all.groupby('_id')['visitNum'].mean()\n",
    "\n",
    "# 2. '_id' 컬럼을 해당 평균 값으로 대체하기\n",
    "df_all['id_encoded'] = df_all['_id'].map(target_means)\n",
    "\n",
    "# _id 컬럼 삭제하기\n",
    "df_all = df_all.drop('_id', axis=1)"
   ]
  },
  {
   "cell_type": "markdown",
   "metadata": {
    "id": "RIvPVgU8kUvk"
   },
   "source": [
    "#### 근데 굳이 타겟인코딩을 해야되나?\n",
    "- ID값으로 유의미한 값을 얻지 못하는 경우 그냥 삭제해도 좋을 듯하다\n",
    "- 그런데 성능 차이가 많이 나서 꼭 필요한 것 같다."
   ]
  },
  {
   "cell_type": "markdown",
   "metadata": {
    "id": "_ktzNMJmnLru"
   },
   "source": [
    "#### 모델 학습 및 예측"
   ]
  },
  {
   "cell_type": "code",
   "execution_count": 14,
   "metadata": {
    "colab": {
     "base_uri": "https://localhost:8080/"
    },
    "id": "ip6ZuwLsGUBQ",
    "outputId": "409e17c7-0328-4e47-d936-919641b5919a"
   },
   "outputs": [
    {
     "name": "stdout",
     "output_type": "stream",
     "text": [
      "0.945284745217545\n"
     ]
    }
   ],
   "source": [
    "# count 변수 저장하기\n",
    "count = df_all.iloc[0, 0]\n",
    "\n",
    "# target(예측할 열) 설정하기\n",
    "target = 'visitNum'\n",
    "\n",
    "# x, y 값 설정하기\n",
    "x = df_all.drop(target, axis=1)\n",
    "y = df_all[target]\n",
    "\n",
    "\n",
    "# 데이터가 10개 이상일 경우, 기존처럼 훈련/테스트 분할\n",
    "x_train, x_test, y_train, y_test = train_test_split(x, y, train_size=0.7, random_state=0)\n",
    "\n",
    "model = RandomForestRegressor(random_state=0, n_jobs=-1)\n",
    "\n",
    "model.fit(x_train, y_train) # 모델 학습\n",
    "\n",
    "# 특성 중요도 추출\n",
    "importances = model.feature_importances_\n",
    "\n",
    "y_pred = model.predict(x_test) # 모델 예측\n",
    "y_pred = np.round(y_pred)\n",
    "\n",
    "print(r2_score(y_test, y_pred))  # 모델 정확도 출력\n",
    "acc = model.score(x_test, y_test)\n",
    "\n",
    "# 시각화를 위함 - df 형식으로 변환\n",
    "y_pred = pd.DataFrame(y_pred)\n",
    "y_test = pd.DataFrame(y_test)\n",
    "\n",
    "# 하나의 df로 합치기\n",
    "y_test.reset_index(inplace=True)\n",
    "df = pd.concat([y_test, y_pred], axis=1)\n",
    "df.columns = ['time', 'y_test', 'y_pred']"
   ]
  },
  {
   "cell_type": "code",
   "execution_count": 15,
   "metadata": {
    "colab": {
     "base_uri": "https://localhost:8080/"
    },
    "id": "0fnwpxFYLzKS",
    "outputId": "635db494-395a-44e0-ad17-5daea21ecad3"
   },
   "outputs": [
    {
     "name": "stdout",
     "output_type": "stream",
     "text": [
      "R-squared: 0.9453\n",
      "Mean Squared Error: 0.1869\n",
      "Root Mean Squared Error: 0.4324\n",
      "Mean Absolute Error: 0.1380\n"
     ]
    }
   ],
   "source": [
    "# 'y_test'와 'y_pred' 열을 비교하여 정확도 평가\n",
    "\n",
    "# R² (R-squared) 평가\n",
    "r2 = r2_score(df['y_test'], df['y_pred'])\n",
    "print(f\"R-squared: {r2:.4f}\")\n",
    "\n",
    "# MSE (Mean Squared Error) 평가\n",
    "mse = mean_squared_error(df['y_test'], df['y_pred'])\n",
    "print(f\"Mean Squared Error: {mse:.4f}\")\n",
    "\n",
    "# RMSE (Root Mean Squared Error) 평가\n",
    "rmse = mse ** 0.5\n",
    "print(f\"Root Mean Squared Error: {rmse:.4f}\")\n",
    "\n",
    "# MAE (Mean Absolute Error) 평가\n",
    "mae = mean_absolute_error(df['y_test'], df['y_pred'])\n",
    "print(f\"Mean Absolute Error: {mae:.4f}\")"
   ]
  },
  {
   "cell_type": "markdown",
   "metadata": {
    "id": "yajn3En6JbpE"
   },
   "source": [
    "#### 특성 중요도 계산\n",
    "특성 중요도는 각 특성이 얼마나 중요한지를 나타내며, 높은 값일수록 해당 특성이 예측에 큰 영향을 미친다는 것을 의미한다."
   ]
  },
  {
   "cell_type": "code",
   "execution_count": 19,
   "metadata": {
    "colab": {
     "base_uri": "https://localhost:8080/",
     "height": 472
    },
    "id": "2TLLCkNNOsvb",
    "outputId": "19f91cb9-76a4-4f55-afc8-751f539c7ecd"
   },
   "outputs": [
    {
     "data": {
      "image/png": "[encoded data removed]",
      "text/plain": [
       "<Figure size 640x480 with 1 Axes>"
      ]
     },
     "metadata": {},
     "output_type": "display_data"
    }
   ],
   "source": [
    "# 특성 중요도 시각화\n",
    "indices = np.argsort(importances) # 오름차순정렬\n",
    "\n",
    "# importances와 x_train.columns을 정렬된 순서대로 재배치\n",
    "sorted_importances = importances[indices]\n",
    "sorted_features = x_train.columns[indices]\n",
    "\n",
    "# 막대 그래프 그리기\n",
    "plt.barh(sorted_features, sorted_importances)\n",
    "plt.xlabel('Feature Importance')\n",
    "plt.title('Feature Importance from Random Forest')\n",
    "plt.show()"
   ]
  },
  {
   "cell_type": "code",
   "execution_count": 20,
   "metadata": {
    "colab": {
     "base_uri": "https://localhost:8080/",
     "height": 598
    },
    "id": "_XmHcamectWR",
    "outputId": "10d0ea53-e949-4028-c83a-b64b9eebe64a"
   },
   "outputs": [
    {
     "data": {
      "image/png": "[encoded data removed]",
      "text/plain": [
       "<Figure size 800x600 with 1 Axes>"
      ]
     },
     "metadata": {},
     "output_type": "display_data"
    }
   ],
   "source": [
    "# 시각화\n",
    "plt.figure(figsize=(8,6))\n",
    "sns.lineplot(x='time' , y='y_test', data=df)\n",
    "sns.lineplot(x='time' , y='y_pred', data=df)\n",
    "plt.xticks(rotation=50)\n",
    "plt.show()\n",
    "\n",
    "# blue: test / orange: predict"
   ]
  },
  {
   "cell_type": "markdown",
   "metadata": {
    "id": "2hvTOVSSHjPJ"
   },
   "source": [
    "#### 머신러닝 모델 예측 결과 시각화\n",
    "이는 시계열 데이터에서 자주 발생하는 계절성(seasonality)과 추세(trend)를 잘 반영한 결과이다.\n",
    "\n",
    "1. 계절성 (Seasonality)\n",
    "계절성은 데이터에서 특정 기간마다 규칙적으로 반복되는 패턴.\n",
    "예를 들어, 시간대별로 충전 수요가 증가하거나 감소하는 패턴이 있을 수 있다.\n",
    "이는 하루 중 특정 시간대에 충전소를 이용하려는 수요가 몰리는 경우, 혹은 주말과 평일에 수요 차이가 나는 경우 등에서 발생할 수 있다.\n",
    "\n",
    "시간대별 수요: 예를 들어, 출퇴근 시간대(아침, 저녁)에 충전소 수요가 급증하거나, 주중과 주말 사이에 수요 차이가 나타날 수 있다.\n",
    "주기적인 변화: 특정 계절에 따라 충전 수요가 달라지는 경향이 있을 수 있다. 예를 들어, 겨울철에는 차량의 배터리 효율이 낮아져 충전 수요가 증가하는 등의 현상.\n",
    "모델이 시간이 지나면서 규칙적으로 반복되는 패턴을 보인다면, 이는 계절성을 잘 포착한 것으로, 시간의 흐름에 따라 충전 수요가 반복적인 주기성을 따르고 있다는 것을 의미한다.\n",
    "\n",
    "2. 추세 (Trend)\n",
    "추세는 시간이 지나면서 데이터의 전반적인 방향성이 변하는 패턴을 의미한다. 예를 들어, 전기차 사용자가 증가함에 따라 충전소의 수요가 지속적으로 증가하는 현상이다.\n",
    "\n",
    "수요 증가 추세: 전기차가 점차 보급되어 충전 수요는 시간이 지남에 따라 꾸준히 증가할 가능성이 크다.\n",
    "산업 발전: 충전소의 인프라가 확장되고, 충전 속도가 빨라지거나 충전소의 접근성이 향상되면, 추세적으로 수요가 더욱 증가할 수 있다.\n",
    "예측 모델이 시각화에서 시간에 따라 점진적으로 증가하는 패턴을 보였다면, 이는 추세를 잘 반영한 결과일 수 있다.\n",
    "\n",
    "3. 모델에서의 계절성 & 추세 반영\n",
    "계절성 반영: ARIMA 모델이나 SARIMA(계절성 ARIMA) 모델은 계절성과 추세를 모두 반영할 수 있는 모델이다.\n",
    "추세 반영: 모델이 시간의 흐름에 따라 수요의 증가나 감소를 잘 예측한다면, 이는 추세를 고려한 예측이 잘 이루어진 것이다.\n",
    "예를 들어, LSTM(장기 단기 기억) 모델은 시간에 따른 추세와 계절성을 학습하는 데 효과적일 수 있다."
   ]
  },
  {
   "cell_type": "code",
   "execution_count": 21,
   "metadata": {
    "colab": {
     "base_uri": "https://localhost:8080/",
     "height": 598
    },
    "id": "6mgQOf9ngaTB",
    "outputId": "1316b67f-f3df-4830-8ce7-e4af58ace603"
   },
   "outputs": [
    {
     "data": {
      "image/png": "[encoded data removed]",
      "text/plain": [
       "<Figure size 800x600 with 1 Axes>"
      ]
     },
     "metadata": {},
     "output_type": "display_data"
    }
   ],
   "source": [
    "# 일정 간격으로 데이터 샘플링 (예: 2471개마다 하나씩 선택)\n",
    "df_resampled = df.iloc[::2471, :]\n",
    "\n",
    "plt.figure(figsize=(8,6))\n",
    "sns.lineplot(x='time', y='y_test', data=df_resampled, label='Actual')\n",
    "sns.lineplot(x='time', y='y_pred', data=df_resampled, label='Predicted')\n",
    "plt.xticks(rotation=50)\n",
    "plt.show()"
   ]
  },
  {
   "cell_type": "markdown",
   "metadata": {
    "id": "oBtg6RHKHfyG"
   },
   "source": [
    "#### 교차 검증으로 최적의 하이퍼파라미터를 찾고, 해당 하이퍼파라미터로 모델을 학습한 후 예측과 성능 평가를 수행하는 코드"
   ]
  },
  {
   "cell_type": "code",
   "execution_count": null,
   "metadata": {
    "id": "4py2zA8gJjZO"
   },
   "outputs": [],
   "source": [
    "# # count 변수 저장하기\n",
    "# count = df_all.iloc[0, 0]\n",
    "\n",
    "# # target(예측할 열) 설정하기\n",
    "# target = 'visitNum'\n",
    "\n",
    "# # x, y 값 설정하기\n",
    "# x = df_all.drop(target, axis=1)\n",
    "# y = df_all[target]\n",
    "\n",
    "# # 훈련/테스트 데이터 분할 (기존처럼)\n",
    "# x_train, x_test, y_train, y_test = train_test_split(x, y, train_size=0.7, random_state=0)\n",
    "\n",
    "# # 랜덤포레스트 모델 초기화\n",
    "# model = RandomForestRegressor(random_state=0, n_jobs=-1)\n",
    "\n",
    "# # 하이퍼파라미터 그리드 설정 (교차 검증을 위한 파라미터 범위)\n",
    "# param_grid = {\n",
    "#     'n_estimators': [50, 100, 200],    # 트리 개수\n",
    "#     'max_depth': [10, 20, 30, None],    # 트리의 최대 깊이\n",
    "#     'min_samples_split': [2, 5, 10],    # 분할할 최소 샘플 수\n",
    "#     'min_samples_leaf': [1, 2, 4],      # 리프 노드에 필요한 최소 샘플 수\n",
    "#     'max_features': ['auto', 'sqrt', 'log2'],  # 각 트리에서 선택할 특성의 수\n",
    "# }\n",
    "\n",
    "# # GridSearchCV 사용: 교차 검증을 통해 하이퍼파라미터 튜닝\n",
    "# grid_search = GridSearchCV(estimator=model, param_grid=param_grid, cv=5, scoring='r2', n_jobs=-1)\n",
    "\n",
    "# # GridSearchCV로 학습\n",
    "# grid_search.fit(x_train, y_train)\n",
    "\n",
    "# # 최적의 하이퍼파라미터 출력\n",
    "# print(\"Best parameters found: \", grid_search.best_params_)\n",
    "\n",
    "# # 최적의 모델로 예측\n",
    "# best_model = grid_search.best_estimator_\n",
    "\n",
    "# # 모델 예측\n",
    "# y_pred = best_model.predict(x_test)\n",
    "\n",
    "# # 예측 결과 반올림\n",
    "# y_pred = np.round(y_pred)\n",
    "\n",
    "# # 정확도 출력 (R2 score)\n",
    "# print(f\"R2 score: {r2_score(y_test, y_pred)}\")\n",
    "\n",
    "# # 모델 정확도 (score method)\n",
    "# acc = best_model.score(x_test, y_test)\n",
    "# print(f\"Model accuracy (R^2 score): {acc}\")\n",
    "\n",
    "# # 시각화를 위한 df 형식으로 변환\n",
    "# y_pred_df = pd.DataFrame(y_pred, columns=['y_pred'])\n",
    "# y_test_df = pd.DataFrame(y_test).reset_index(drop=True)\n",
    "\n",
    "# # 예측값과 실제값을 합치기\n",
    "# df = pd.concat([y_test_df, y_pred_df], axis=1)\n",
    "# df.columns = ['y_test', 'y_pred']\n",
    "\n",
    "# # 결과 출력\n",
    "# df.head()"
   ]
  },
  {
   "cell_type": "markdown",
   "metadata": {
    "id": "anbILPLgQd-N"
   },
   "source": [
    "#### K-폴드 교차 검증 (K-Fold Cross-Validation)\n",
    "- 과적합 방지, 일반화 성능 평가"
   ]
  },
  {
   "cell_type": "code",
   "execution_count": 25,
   "metadata": {
    "colab": {
     "base_uri": "https://localhost:8080/"
    },
    "id": "dRzVtJt2Q9JD",
    "outputId": "c408f11f-79d6-489a-d8cd-c58b9c04d664"
   },
   "outputs": [
    {
     "name": "stdout",
     "output_type": "stream",
     "text": [
      "Fold 1: R² = 0.9497\n",
      "                 time  y_test  y_pred  fold\n",
      "0 2024-10-24 19:30:00       0     0.0     1\n",
      "1 2024-10-24 20:30:00       0     0.0     1\n",
      "2 2024-10-24 21:30:00       0     0.0     1\n",
      "3 2024-10-25 00:00:00       0     0.0     1\n",
      "4 2024-10-25 01:00:00       0     0.0     1\n",
      "Fold 2: R² = 0.9496\n",
      "                 time  y_test  y_pred  fold\n",
      "0 2024-10-24 22:30:00       0     0.0     2\n",
      "1 2024-10-25 11:30:00       0     0.0     2\n",
      "2 2024-10-25 14:00:00       0     0.0     2\n",
      "3 2024-10-25 15:00:00       0     0.0     2\n",
      "4 2024-10-25 17:30:00       0     0.0     2\n",
      "Fold 3: R² = 0.9492\n",
      "                 time  y_test  y_pred  fold\n",
      "0 2024-10-24 20:00:00       0     0.0     3\n",
      "1 2024-10-24 23:00:00       0     0.0     3\n",
      "2 2024-10-24 23:30:00       0     0.0     3\n",
      "3 2024-10-25 00:30:00       0     0.0     3\n",
      "4 2024-10-25 02:00:00       0     0.0     3\n",
      "Fold 4: R² = 0.9496\n",
      "                 time  y_test  y_pred  fold\n",
      "0 2024-10-24 22:00:00       0     0.0     4\n",
      "1 2024-10-25 04:30:00       0     0.0     4\n",
      "2 2024-10-25 06:00:00       0     0.0     4\n",
      "3 2024-10-25 08:30:00       0     0.0     4\n",
      "4 2024-10-25 11:00:00       0     0.0     4\n",
      "Fold 5: R² = 0.9493\n",
      "                 time  y_test  y_pred  fold\n",
      "0 2024-10-24 21:00:00       0     0.0     5\n",
      "1 2024-10-25 03:00:00       0     0.0     5\n",
      "2 2024-10-25 06:30:00       0     0.0     5\n",
      "3 2024-10-25 09:00:00       0     0.0     5\n",
      "4 2024-10-25 10:00:00       0     0.0     5\n",
      "\n",
      "교차 검증 평균 R²: 0.9495\n"
     ]
    }
   ],
   "source": [
    "# count 변수 저장하기\n",
    "count = df_all.iloc[0, 0]\n",
    "\n",
    "# target(예측할 열) 설정하기\n",
    "target = 'visitNum'\n",
    "\n",
    "# x, y 값 설정하기\n",
    "x = df_all.drop(target, axis=1)\n",
    "y = df_all[target]\n",
    "\n",
    "# KFold 교차 검증 설정 (예: 5개의 폴드)\n",
    "kf = KFold(n_splits=5, shuffle=True, random_state=0)\n",
    "\n",
    "model = RandomForestRegressor(random_state=0, n_jobs=-1)\n",
    "\n",
    "# K-폴드 교차 검증 수행\n",
    "fold = 1\n",
    "results = []\n",
    "\n",
    "for train_index, test_index in kf.split(x):\n",
    "    # 훈련/테스트 데이터 나누기\n",
    "    x_train, x_test = x.iloc[train_index], x.iloc[test_index]\n",
    "    y_train, y_test = y.iloc[train_index], y.iloc[test_index]\n",
    "\n",
    "    # 모델 학습\n",
    "    model.fit(x_train, y_train)\n",
    "\n",
    "    # 예측\n",
    "    y_pred = model.predict(x_test)\n",
    "    y_pred = np.round(y_pred)\n",
    "\n",
    "    # 평가 지표 (R²) 계산\n",
    "    r2 = r2_score(y_test, y_pred)\n",
    "    results.append(r2)\n",
    "\n",
    "    # 시각화를 위한 결과 저장 (DataFrame 형식)\n",
    "    y_pred_df = pd.DataFrame(y_pred)\n",
    "    y_test_df = pd.DataFrame(y_test)\n",
    "    y_test_df.reset_index(inplace=True)\n",
    "\n",
    "    fold_df = pd.concat([y_test_df, y_pred_df], axis=1)\n",
    "    fold_df.columns = ['time', 'y_test', 'y_pred']\n",
    "    fold_df['fold'] = fold  # 각 폴드 번호 추가\n",
    "\n",
    "    # 결과 출력 (각 폴드에 대한 예측)\n",
    "    print(f\"Fold {fold}: R² = {r2:.4f}\")\n",
    "    print(fold_df.head())  # 각 폴드에서의 예측값 몇 개 출력\n",
    "    fold += 1\n",
    "\n",
    "# 교차 검증 전체 결과 출력\n",
    "print(f\"\\n교차 검증 평균 R²: {np.mean(results):.4f}\")"
   ]
  },
  {
   "cell_type": "markdown",
   "metadata": {
    "id": "Nq7-iYUvShXC"
   },
   "source": [
    "#### 실제 데이터로 예측 후 MongoDB에 반영하기 🌟"
   ]
  },
  {
   "cell_type": "code",
   "execution_count": 26,
   "metadata": {
    "id": "MSOFSvyozV8a"
   },
   "outputs": [],
   "source": [
    "classes = label_encoder.classes_"
   ]
  },
  {
   "cell_type": "code",
   "execution_count": 27,
   "metadata": {
    "id": "gZAzLUpoSnQr"
   },
   "outputs": [],
   "source": [
    "def run_ml(i):\n",
    "    # 시간 단위별 예측 df 생성\n",
    "    pre_df = pd.date_range(now.date()+ timedelta(days=1) , periods=24 , freq=\"30min\") # 30분 단위로 예측 df 만들기\n",
    "\n",
    "    pre_df = pd.DataFrame(pre_df) # 데이터 프레임 형태로 변환\n",
    "    pre_df.columns=['time'] # 열 이름 변경\n",
    "\n",
    "    id = history_stations['_id'][i]\n",
    "\n",
    "    pre_df['count'] = count\n",
    "\n",
    "    # 변수 추가하기\n",
    "    pre_df['time'] = pd.to_datetime(pre_df['time'])\n",
    "    pre_df['weekday'] = pre_df['time'].dt.weekday\n",
    "    pre_df['month'] = pre_df['time'].dt.month\n",
    "    pre_df['day'] = pre_df['time'].dt.day\n",
    "    pre_df['hour'] = pre_df['time'].dt.hour\n",
    "    pre_df['minute'] = pre_df['time'].dt.minute\n",
    "\n",
    "    kr_holidays = holidays.KR()\n",
    "    pre_df['holiday'] = pre_df.time.apply(lambda x: 1 if x in kr_holidays else 0)\n",
    "\n",
    "    pre_df.set_index(keys='time', inplace=True)\n",
    "\n",
    "    # #### 충전소 종류 추가\n",
    "    # 'id'의 앞 두 글자만 추출\n",
    "    id_prefix = id[:2]  # 예: 'AB'\n",
    "\n",
    "    # 'id_prefix'와 'classes_'에서 동일한 값이 있는 인덱스 찾기\n",
    "    org_value = np.where(classes == id_prefix)[0]\n",
    "    pre_df['org_encoded'] = org_value[0]\n",
    "\n",
    "    #### target encoding을 사용하려고 하는데 각각 target을 i값 별로 다르기 때문에\n",
    "    pre_df['id_encoded'] = target_means.iloc[i]\n",
    "\n",
    "\n",
    "    pre_predict = model.predict(pre_df)\n",
    "    pre_predict= np.round(pre_predict)\n",
    "\n",
    "    pre_predict = pre_predict.tolist()\n",
    "    collection = db['demand-info']\n",
    "\n",
    "    statId = history_stations['_id'][i]\n",
    "    # 해당 statId를 가진 문서 조회\n",
    "\n",
    "    # print(id, statId)\n",
    "    # print(pre_predict)\n",
    "    existing_doc = collection.find_one({\"statId\": statId })\n",
    "\n",
    "    # 문서가 존재하지 않으면 새로운 문서를 추가하고 업데이트\n",
    "    if existing_doc is None:\n",
    "        new_doc = { \"statId\": statId, \"demandInfo\": { \"viewNum\": 0, \"departsIn30m\": [], \"hourlyVisitNum\": [] } }\n",
    "        result = collection.insert_one(new_doc)\n",
    "        print(\"Added new document\")\n",
    "        #time.sleep(0.1)\n",
    "\n",
    "    x = collection.update_one(\n",
    "        {\"statId\":statId},\n",
    "        {\"$set\" : {\n",
    "            'demandInfo.hourlyVisitNum' : pre_predict\n",
    "        }\n",
    "        })"
   ]
  },
  {
   "cell_type": "code",
   "execution_count": 28,
   "metadata": {
    "id": "4K2uqh0a5DDt"
   },
   "outputs": [],
   "source": [
    "#### 약 20분 소요됨 ㅇㅇ"
   ]
  },
  {
   "cell_type": "code",
   "execution_count": 29,
   "metadata": {
    "colab": {
     "base_uri": "https://localhost:8080/"
    },
    "id": "f7X_Wq3-Wx_J",
    "outputId": "3a628ab1-6f0e-4d3f-a198-2b64823451ee"
   },
   "outputs": [
    {
     "name": "stdout",
     "output_type": "stream",
     "text": [
      "Added new document\n"
     ]
    }
   ],
   "source": [
    "for i in range(len(history_stations)):\n",
    "    run_ml(i)"
   ]
  },
  {
   "cell_type": "markdown",
   "metadata": {
    "id": "QFXAXMFqLgpZ"
   },
   "source": [
    "#### 하나의 데이터프레임으로 합친 뒤 성능\n",
    "- RandomForestRegressor(충전소 id => 타겟인코딩 사용) : 0.9396\n",
    "- RandomForestRegressor(충전소 종류 => 라벨인코딩 사용) : 0.6\n",
    "- RandomForestRegressor(충전소 id, 종류 둘 다 사용) : 0.9460 👍\n",
    "    - R-squared: 0.9443\n",
    "    - Mean Squared Error: 0.1853\n",
    "    - Root Mean Squared Error: 0.4305\n",
    "    - Mean Absolute Error: 0.1375\n",
    "    - 교차 검증 평균 R²: 0.9495\n",
    "\n",
    "- GridSearchCV 교차 검증을 통해 최적의 하이퍼파라미터 출력한 RandomForestRegressor:\n",
    "\n",
    "⚠️ 항상 모델의 변수를 변경하면 모델 예측 시 사용되는 데이터프레임의 변수도 변경해주기."
   ]
  },
  {
   "cell_type": "markdown",
   "metadata": {
    "id": "DwpmVXEnKZVX"
   },
   "source": [
    "#### k-means로 유사한 특징을 가진 충전소들별로 모델 따로 학습 및 적용하기"
   ]
  },
  {
   "cell_type": "code",
   "execution_count": null,
   "metadata": {
    "id": "sQg27_SBf4s8"
   },
   "outputs": [],
   "source": [
    "import pandas as pd\n",
    "from sklearn.cluster import KMeans\n",
    "from sklearn.preprocessing import StandardScaler\n",
    "\n",
    "# 필요한 열만 선택 (id_encoded는 각 충전소를 구분하는 식별자라고 가정)\n",
    "features = ['count', 'weekday', 'month', 'day', 'hour', 'minute', 'holiday']\n",
    "\n",
    "# id_encoded는 각 충전소를 구분하는 변수로, 군집화 과정에 포함하지 않음\n",
    "X = df_all[features]\n",
    "\n",
    "# 데이터 스케일링\n",
    "scaler = StandardScaler()\n",
    "X_scaled = scaler.fit_transform(X)\n",
    "\n",
    "# KMeans 모델 설정 (군집의 개수는 필요에 따라 조정)\n",
    "kmeans = KMeans(n_clusters=10, random_state=42)\n",
    "\n",
    "# KMeans 모델 학습\n",
    "df_all['cluster'] = kmeans.fit_predict(X_scaled)\n",
    "\n",
    "# 군집화 결과 확인\n",
    "print(df_all[['id_encoded', 'cluster']].head())"
   ]
  },
  {
   "cell_type": "code",
   "execution_count": null,
   "metadata": {
    "id": "vOp6RNu9ghTv"
   },
   "outputs": [],
   "source": [
    "# 각 군집의 중심값(centroids) 확인\n",
    "centroids = pd.DataFrame(kmeans.cluster_centers_, columns=features)\n",
    "print(\"Cluster Centroids:\")\n",
    "print(centroids)\n",
    "\n",
    "# 각 군집 별로 평균값을 구해서 특징 분석\n",
    "cluster_means = df_all.groupby('cluster')[features].mean()\n",
    "print(\"Cluster Averages:\")\n",
    "print(cluster_means)"
   ]
  },
  {
   "cell_type": "code",
   "execution_count": null,
   "metadata": {
    "id": "tFGqm3RYgjWN"
   },
   "outputs": [],
   "source": [
    "import matplotlib.pyplot as plt\n",
    "import seaborn as sns\n",
    "\n",
    "# 군집화된 데이터를 시각화 (count vs hour)\n",
    "plt.figure(figsize=(10, 6))\n",
    "sns.scatterplot(data=df_all, x='visitNum', y='count', hue='cluster', palette='viridis', s=100, alpha=0.6)\n",
    "plt.title(\"KMeans Clustering (visitNum vs count)\")\n",
    "plt.xlabel(\"visitNum\")\n",
    "plt.ylabel(\"Count\")\n",
    "plt.show()"
   ]
  },
  {
   "cell_type": "code",
   "execution_count": null,
   "metadata": {
    "id": "EEqCWzQSglUz"
   },
   "outputs": [],
   "source": [
    "# 각 충전소(id_encoded)별 군집 결과\n",
    "station_clusters = df_all.groupby('id_encoded')['cluster'].first()\n",
    "print(\"Station Clusters:\")\n",
    "print(station_clusters.head())\n",
    "\n",
    "# 군집별 특징 분석 (각 군집의 특성을 파악)\n",
    "for cluster_id in range(kmeans.n_clusters):\n",
    "    cluster_data = df_all[df_all['cluster'] == cluster_id]\n",
    "    print(f\"\\nCluster {cluster_id} Characteristics:\")\n",
    "    print(cluster_data[features].mean())"
   ]
  }
 ],
 "metadata": {
  "colab": {
   "provenance": [],
   "toc_visible": true
  },
  "kernelspec": {
   "display_name": "Python 3",
   "name": "python3"
  },
  "language_info": {
   "name": "python"
  }
 },
 "nbformat": 4,
 "nbformat_minor": 0
}
